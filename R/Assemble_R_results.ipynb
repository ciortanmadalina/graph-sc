{
 "cells": [
  {
   "cell_type": "markdown",
   "metadata": {},
   "source": [
    "# Combine the results of all experiments in R in one dataframe"
   ]
  },
  {
   "cell_type": "code",
   "execution_count": null,
   "metadata": {},
   "outputs": [],
   "source": [
    "import pandas as pd\n",
    "import glob2\n",
    "import os"
   ]
  },
  {
   "cell_type": "code",
   "execution_count": null,
   "metadata": {},
   "outputs": [],
   "source": [
    "path = \"..\"\n",
    "files = glob2.glob(f'{path}/real_data/*.h5')\n",
    "files = [f[len(f\"{path}/real_data/\"):-3] for f in files]\n",
    "print(files)"
   ]
  },
  {
   "cell_type": "code",
   "execution_count": null,
   "metadata": {},
   "outputs": [],
   "source": [
    "category = \"real_data\"\n",
    "# category = \"balanced_data\"\n",
    "# category = \"imbalanced_data\"\n"
   ]
  },
  {
   "cell_type": "code",
   "execution_count": null,
   "metadata": {},
   "outputs": [],
   "source": [
    "df = pd.DataFrame(columns = [\"dataset\", \"method\", \"run\", \"ARI\", \"NMI\", \"sil\",\"time\", \"pred\" , \"cal\"])\n",
    "for f  in os.listdir(f\"results/{category}\"):\n",
    "    dataset = f.split(\".h5\")[0]\n",
    "    method = f.split(\".\")[-2].split(\"_\")[1]\n",
    "    run = f.split(\".\")[-2].split(\"_\")[2]\n",
    "    d =pd.read_csv(f\"results/{category}/{f}\")\n",
    "    values =d.values[:, 1]\n",
    "\n",
    "    ari = values[0]\n",
    "    nmi = values[1]\n",
    "\n",
    "    sil = values[2]\n",
    "    cal = values[3]\n",
    "    time = values[4]\n",
    "    pred = values[5:]\n",
    "\n",
    "    df.loc[df.shape[0]] = [dataset, method, run, ari, nmi, sil,time, pred, cal]\n",
    "    \n",
    "\n",
    "df.to_pickle(f\"{category}.pkl\")"
   ]
  },
  {
   "cell_type": "code",
   "execution_count": null,
   "metadata": {},
   "outputs": [],
   "source": [
    "df.groupby([\"dataset\", \"method\"])[\"ARI\"].mean().unstack(\"dataset\")"
   ]
  },
  {
   "cell_type": "code",
   "execution_count": null,
   "metadata": {},
   "outputs": [],
   "source": []
  },
  {
   "cell_type": "code",
   "execution_count": null,
   "metadata": {},
   "outputs": [],
   "source": []
  },
  {
   "cell_type": "code",
   "execution_count": null,
   "metadata": {},
   "outputs": [],
   "source": []
  }
 ],
 "metadata": {
  "kernelspec": {
   "display_name": "Python 3",
   "language": "python",
   "name": "python3"
  },
  "language_info": {
   "codemirror_mode": {
    "name": "ipython",
    "version": 3
   },
   "file_extension": ".py",
   "mimetype": "text/x-python",
   "name": "python",
   "nbconvert_exporter": "python",
   "pygments_lexer": "ipython3",
   "version": "3.7.4"
  }
 },
 "nbformat": 4,
 "nbformat_minor": 4
}
