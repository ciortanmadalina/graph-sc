{
 "cells": [
  {
   "cell_type": "code",
   "execution_count": 1,
   "metadata": {},
   "outputs": [
    {
     "name": "stderr",
     "output_type": "stream",
     "text": [
      "Using backend: pytorch\n",
      "/opt/conda/lib/python3.7/site-packages/dgl/base.py:45: DGLWarning: Detected an old version of PyTorch. Suggest using torch>=1.5.0 for the best experience.\n",
      "  return warnings.warn(message, category=category, stacklevel=1)\n",
      "/opt/conda/lib/python3.7/site-packages/scanpy/api/__init__.py:7: FutureWarning: \n",
      "\n",
      "In a future version of Scanpy, `scanpy.api` will be removed.\n",
      "Simply use `import scanpy as sc` and `import scanpy.external as sce` instead.\n",
      "\n",
      "  FutureWarning,\n"
     ]
    }
   ],
   "source": [
    "import sys\n",
    "sys.path.append(\"..\")\n",
    "import argparse\n",
    "import numpy as np\n",
    "import dgl\n",
    "from dgl import DGLGraph\n",
    "import torch\n",
    "import torch.nn.functional as F\n",
    "import time\n",
    "import matplotlib.pyplot as plt\n",
    "import pandas as pd\n",
    "from tqdm import tqdm\n",
    "from collections import Counter\n",
    "import pickle\n",
    "import h5py\n",
    "import random\n",
    "import glob2\n",
    "import seaborn as sns\n",
    "\n",
    "import train\n",
    "import models\n",
    "\n",
    "%load_ext autoreload\n",
    "%autoreload 2\n",
    "\n",
    "random.seed(42)\n",
    "np.random.seed(42)\n",
    "torch.manual_seed(42)\n",
    "torch.cuda.manual_seed(42)\n",
    "device = train.get_device()"
   ]
  },
  {
   "cell_type": "code",
   "execution_count": 4,
   "metadata": {},
   "outputs": [
    {
     "name": "stdout",
     "output_type": "stream",
     "text": [
      "['data_1c8', 'data_-1c4', 'data_-1c8', 'data_0c4', 'data_0c8', 'data_0c16', 'data_1.5c4', 'data_1c4', 'data_1.5c8', 'data_1.5c16', 'data_-1c16', 'data_1c16']\n"
     ]
    }
   ],
   "source": [
    "category = \"imbalanced_data\"\n",
    "category = \"balanced_data\"\n",
    "epochs = 10\n",
    "batch_size = 128 \n",
    "pca_size = 50\n",
    "path = \"../\"\n",
    "files = glob2.glob(f'{path}R/simulated_data/{category}/*.h5')\n",
    "files = [f[len(f\"{path}R/simulated_data/{category}/\"):-3] for f in files]\n",
    "print(files)\n",
    "nb_genes =2000"
   ]
  },
  {
   "cell_type": "code",
   "execution_count": null,
   "metadata": {},
   "outputs": [],
   "source": []
  },
  {
   "cell_type": "code",
   "execution_count": 5,
   "metadata": {
    "scrolled": true
   },
   "outputs": [
    {
     "name": "stdout",
     "output_type": "stream",
     "text": [
      ">> data_1c8\n"
     ]
    },
    {
     "name": "stderr",
     "output_type": "stream",
     "text": [
      "/opt/conda/lib/python3.7/site-packages/dgl/base.py:45: DGLWarning: Recommend creating graphs by `dgl.graph(data)` instead of `dgl.DGLGraph(data)`.\n",
      "  return warnings.warn(message, category=category, stacklevel=1)\n"
     ]
    },
    {
     "name": "stdout",
     "output_type": "stream",
     "text": [
      "INPUT: GraphConv  200, [300], False, True\n",
      "> GCNAE(\n",
      "  (dropout): Dropout(p=0.1, inplace=False)\n",
      "  (layer1): WeightedGraphConv(in=50, out=200, normalization=both, activation=<function relu at 0x7fcb1c012440>)\n",
      "  (decoder): InnerProductDecoder()\n",
      "  (encoder): Sequential(\n",
      "    (0): Linear(in_features=200, out_features=300, bias=True)\n",
      "  )\n",
      ")\n"
     ]
    },
    {
     "data": {
      "application/vnd.jupyter.widget-view+json": {
       "model_id": "33ea4e69ef194a938627b3f0b41a4c4e",
       "version_major": 2,
       "version_minor": 0
      },
      "text/plain": [
       "HBox(children=(IntProgress(value=0, max=10), HTML(value='')))"
      ]
     },
     "metadata": {},
     "output_type": "display_data"
    },
    {
     "name": "stdout",
     "output_type": "stream",
     "text": [
      "\n",
      "ARI 0.991, 0.35846400260925293\n",
      "Done\n",
      ">> data_-1c4\n"
     ]
    },
    {
     "name": "stderr",
     "output_type": "stream",
     "text": [
      "/opt/conda/lib/python3.7/site-packages/dgl/base.py:45: DGLWarning: Recommend creating graphs by `dgl.graph(data)` instead of `dgl.DGLGraph(data)`.\n",
      "  return warnings.warn(message, category=category, stacklevel=1)\n"
     ]
    },
    {
     "name": "stdout",
     "output_type": "stream",
     "text": [
      "INPUT: GraphConv  200, [300], False, True\n",
      "> GCNAE(\n",
      "  (dropout): Dropout(p=0.1, inplace=False)\n",
      "  (layer1): WeightedGraphConv(in=50, out=200, normalization=both, activation=<function relu at 0x7fcb1c012440>)\n",
      "  (decoder): InnerProductDecoder()\n",
      "  (encoder): Sequential(\n",
      "    (0): Linear(in_features=200, out_features=300, bias=True)\n",
      "  )\n",
      ")\n"
     ]
    },
    {
     "data": {
      "application/vnd.jupyter.widget-view+json": {
       "model_id": "2abb713ce903492db6a761082c4b61b2",
       "version_major": 2,
       "version_minor": 0
      },
      "text/plain": [
       "HBox(children=(IntProgress(value=0, max=10), HTML(value='')))"
      ]
     },
     "metadata": {},
     "output_type": "display_data"
    },
    {
     "name": "stdout",
     "output_type": "stream",
     "text": [
      "\n",
      "ARI 1.0, 0.4390871524810791\n",
      "Done\n",
      ">> data_-1c8\n"
     ]
    },
    {
     "name": "stderr",
     "output_type": "stream",
     "text": [
      "/opt/conda/lib/python3.7/site-packages/dgl/base.py:45: DGLWarning: Recommend creating graphs by `dgl.graph(data)` instead of `dgl.DGLGraph(data)`.\n",
      "  return warnings.warn(message, category=category, stacklevel=1)\n"
     ]
    },
    {
     "name": "stdout",
     "output_type": "stream",
     "text": [
      "INPUT: GraphConv  200, [300], False, True\n",
      "> GCNAE(\n",
      "  (dropout): Dropout(p=0.1, inplace=False)\n",
      "  (layer1): WeightedGraphConv(in=50, out=200, normalization=both, activation=<function relu at 0x7fcb1c012440>)\n",
      "  (decoder): InnerProductDecoder()\n",
      "  (encoder): Sequential(\n",
      "    (0): Linear(in_features=200, out_features=300, bias=True)\n",
      "  )\n",
      ")\n"
     ]
    },
    {
     "data": {
      "application/vnd.jupyter.widget-view+json": {
       "model_id": "edad78414c824292a206325f23c50c2c",
       "version_major": 2,
       "version_minor": 0
      },
      "text/plain": [
       "HBox(children=(IntProgress(value=0, max=10), HTML(value='')))"
      ]
     },
     "metadata": {},
     "output_type": "display_data"
    },
    {
     "name": "stdout",
     "output_type": "stream",
     "text": [
      "\n",
      "ARI 0.9964, 0.42393726110458374\n",
      "Done\n",
      ">> data_0c4\n"
     ]
    },
    {
     "name": "stderr",
     "output_type": "stream",
     "text": [
      "/opt/conda/lib/python3.7/site-packages/dgl/base.py:45: DGLWarning: Recommend creating graphs by `dgl.graph(data)` instead of `dgl.DGLGraph(data)`.\n",
      "  return warnings.warn(message, category=category, stacklevel=1)\n"
     ]
    },
    {
     "name": "stdout",
     "output_type": "stream",
     "text": [
      "INPUT: GraphConv  200, [300], False, True\n",
      "> GCNAE(\n",
      "  (dropout): Dropout(p=0.1, inplace=False)\n",
      "  (layer1): WeightedGraphConv(in=50, out=200, normalization=both, activation=<function relu at 0x7fcb1c012440>)\n",
      "  (decoder): InnerProductDecoder()\n",
      "  (encoder): Sequential(\n",
      "    (0): Linear(in_features=200, out_features=300, bias=True)\n",
      "  )\n",
      ")\n"
     ]
    },
    {
     "data": {
      "application/vnd.jupyter.widget-view+json": {
       "model_id": "933197b0ec0c4d05b52cb0c1b1fc82d5",
       "version_major": 2,
       "version_minor": 0
      },
      "text/plain": [
       "HBox(children=(IntProgress(value=0, max=10), HTML(value='')))"
      ]
     },
     "metadata": {},
     "output_type": "display_data"
    },
    {
     "name": "stdout",
     "output_type": "stream",
     "text": [
      "\n",
      "ARI 0.9972, 0.43185046315193176\n",
      "Done\n",
      ">> data_0c8\n"
     ]
    },
    {
     "name": "stderr",
     "output_type": "stream",
     "text": [
      "/opt/conda/lib/python3.7/site-packages/dgl/base.py:45: DGLWarning: Recommend creating graphs by `dgl.graph(data)` instead of `dgl.DGLGraph(data)`.\n",
      "  return warnings.warn(message, category=category, stacklevel=1)\n"
     ]
    },
    {
     "name": "stdout",
     "output_type": "stream",
     "text": [
      "INPUT: GraphConv  200, [300], False, True\n",
      "> GCNAE(\n",
      "  (dropout): Dropout(p=0.1, inplace=False)\n",
      "  (layer1): WeightedGraphConv(in=50, out=200, normalization=both, activation=<function relu at 0x7fcb1c012440>)\n",
      "  (decoder): InnerProductDecoder()\n",
      "  (encoder): Sequential(\n",
      "    (0): Linear(in_features=200, out_features=300, bias=True)\n",
      "  )\n",
      ")\n"
     ]
    },
    {
     "data": {
      "application/vnd.jupyter.widget-view+json": {
       "model_id": "b17821a7d885411f85752628aff44bee",
       "version_major": 2,
       "version_minor": 0
      },
      "text/plain": [
       "HBox(children=(IntProgress(value=0, max=10), HTML(value='')))"
      ]
     },
     "metadata": {},
     "output_type": "display_data"
    },
    {
     "name": "stdout",
     "output_type": "stream",
     "text": [
      "\n",
      "ARI 0.9942, 0.39026856422424316\n",
      "Done\n",
      ">> data_0c16\n"
     ]
    },
    {
     "name": "stderr",
     "output_type": "stream",
     "text": [
      "/opt/conda/lib/python3.7/site-packages/dgl/base.py:45: DGLWarning: Recommend creating graphs by `dgl.graph(data)` instead of `dgl.DGLGraph(data)`.\n",
      "  return warnings.warn(message, category=category, stacklevel=1)\n"
     ]
    },
    {
     "name": "stdout",
     "output_type": "stream",
     "text": [
      "INPUT: GraphConv  200, [300], False, True\n",
      "> GCNAE(\n",
      "  (dropout): Dropout(p=0.1, inplace=False)\n",
      "  (layer1): WeightedGraphConv(in=50, out=200, normalization=both, activation=<function relu at 0x7fcb1c012440>)\n",
      "  (decoder): InnerProductDecoder()\n",
      "  (encoder): Sequential(\n",
      "    (0): Linear(in_features=200, out_features=300, bias=True)\n",
      "  )\n",
      ")\n"
     ]
    },
    {
     "data": {
      "application/vnd.jupyter.widget-view+json": {
       "model_id": "839624d7352f4e2c97acf18231e3dd0f",
       "version_major": 2,
       "version_minor": 0
      },
      "text/plain": [
       "HBox(children=(IntProgress(value=0, max=10), HTML(value='')))"
      ]
     },
     "metadata": {},
     "output_type": "display_data"
    },
    {
     "name": "stdout",
     "output_type": "stream",
     "text": [
      "\n",
      "ARI 0.8913, 0.2776217460632324\n",
      "Done\n",
      ">> data_1.5c4\n"
     ]
    },
    {
     "name": "stderr",
     "output_type": "stream",
     "text": [
      "/opt/conda/lib/python3.7/site-packages/dgl/base.py:45: DGLWarning: Recommend creating graphs by `dgl.graph(data)` instead of `dgl.DGLGraph(data)`.\n",
      "  return warnings.warn(message, category=category, stacklevel=1)\n"
     ]
    },
    {
     "name": "stdout",
     "output_type": "stream",
     "text": [
      "INPUT: GraphConv  200, [300], False, True\n",
      "> GCNAE(\n",
      "  (dropout): Dropout(p=0.1, inplace=False)\n",
      "  (layer1): WeightedGraphConv(in=50, out=200, normalization=both, activation=<function relu at 0x7fcb1c012440>)\n",
      "  (decoder): InnerProductDecoder()\n",
      "  (encoder): Sequential(\n",
      "    (0): Linear(in_features=200, out_features=300, bias=True)\n",
      "  )\n",
      ")\n"
     ]
    },
    {
     "data": {
      "application/vnd.jupyter.widget-view+json": {
       "model_id": "bce1791f3e8f4bbbb2bd07ecae4f4961",
       "version_major": 2,
       "version_minor": 0
      },
      "text/plain": [
       "HBox(children=(IntProgress(value=0, max=10), HTML(value='')))"
      ]
     },
     "metadata": {},
     "output_type": "display_data"
    },
    {
     "name": "stdout",
     "output_type": "stream",
     "text": [
      "\n",
      "ARI 0.9865, 0.3234536349773407\n",
      "Done\n",
      ">> data_1c4\n"
     ]
    },
    {
     "name": "stderr",
     "output_type": "stream",
     "text": [
      "/opt/conda/lib/python3.7/site-packages/dgl/base.py:45: DGLWarning: Recommend creating graphs by `dgl.graph(data)` instead of `dgl.DGLGraph(data)`.\n",
      "  return warnings.warn(message, category=category, stacklevel=1)\n"
     ]
    },
    {
     "name": "stdout",
     "output_type": "stream",
     "text": [
      "INPUT: GraphConv  200, [300], False, True\n",
      "> GCNAE(\n",
      "  (dropout): Dropout(p=0.1, inplace=False)\n",
      "  (layer1): WeightedGraphConv(in=50, out=200, normalization=both, activation=<function relu at 0x7fcb1c012440>)\n",
      "  (decoder): InnerProductDecoder()\n",
      "  (encoder): Sequential(\n",
      "    (0): Linear(in_features=200, out_features=300, bias=True)\n",
      "  )\n",
      ")\n"
     ]
    },
    {
     "data": {
      "application/vnd.jupyter.widget-view+json": {
       "model_id": "5a342b85f6b546c48b5f58fcd57225c9",
       "version_major": 2,
       "version_minor": 0
      },
      "text/plain": [
       "HBox(children=(IntProgress(value=0, max=10), HTML(value='')))"
      ]
     },
     "metadata": {},
     "output_type": "display_data"
    },
    {
     "name": "stdout",
     "output_type": "stream",
     "text": [
      "\n",
      "ARI 0.9838, 0.3518446385860443\n",
      "Done\n",
      ">> data_1.5c8\n"
     ]
    },
    {
     "name": "stderr",
     "output_type": "stream",
     "text": [
      "/opt/conda/lib/python3.7/site-packages/dgl/base.py:45: DGLWarning: Recommend creating graphs by `dgl.graph(data)` instead of `dgl.DGLGraph(data)`.\n",
      "  return warnings.warn(message, category=category, stacklevel=1)\n"
     ]
    },
    {
     "name": "stdout",
     "output_type": "stream",
     "text": [
      "INPUT: GraphConv  200, [300], False, True\n",
      "> GCNAE(\n",
      "  (dropout): Dropout(p=0.1, inplace=False)\n",
      "  (layer1): WeightedGraphConv(in=50, out=200, normalization=both, activation=<function relu at 0x7fcb1c012440>)\n",
      "  (decoder): InnerProductDecoder()\n",
      "  (encoder): Sequential(\n",
      "    (0): Linear(in_features=200, out_features=300, bias=True)\n",
      "  )\n",
      ")\n"
     ]
    },
    {
     "data": {
      "application/vnd.jupyter.widget-view+json": {
       "model_id": "bfefc6b178354673b5acad2233667113",
       "version_major": 2,
       "version_minor": 0
      },
      "text/plain": [
       "HBox(children=(IntProgress(value=0, max=10), HTML(value='')))"
      ]
     },
     "metadata": {},
     "output_type": "display_data"
    },
    {
     "name": "stdout",
     "output_type": "stream",
     "text": [
      "\n",
      "ARI 0.9692, 0.3243120014667511\n",
      "Done\n",
      ">> data_1.5c16\n"
     ]
    },
    {
     "name": "stderr",
     "output_type": "stream",
     "text": [
      "/opt/conda/lib/python3.7/site-packages/dgl/base.py:45: DGLWarning: Recommend creating graphs by `dgl.graph(data)` instead of `dgl.DGLGraph(data)`.\n",
      "  return warnings.warn(message, category=category, stacklevel=1)\n"
     ]
    },
    {
     "name": "stdout",
     "output_type": "stream",
     "text": [
      "INPUT: GraphConv  200, [300], False, True\n",
      "> GCNAE(\n",
      "  (dropout): Dropout(p=0.1, inplace=False)\n",
      "  (layer1): WeightedGraphConv(in=50, out=200, normalization=both, activation=<function relu at 0x7fcb1c012440>)\n",
      "  (decoder): InnerProductDecoder()\n",
      "  (encoder): Sequential(\n",
      "    (0): Linear(in_features=200, out_features=300, bias=True)\n",
      "  )\n",
      ")\n"
     ]
    },
    {
     "data": {
      "application/vnd.jupyter.widget-view+json": {
       "model_id": "9b2e8a23b6c942219a800a1ad9cb998d",
       "version_major": 2,
       "version_minor": 0
      },
      "text/plain": [
       "HBox(children=(IntProgress(value=0, max=10), HTML(value='')))"
      ]
     },
     "metadata": {},
     "output_type": "display_data"
    },
    {
     "name": "stdout",
     "output_type": "stream",
     "text": [
      "\n",
      "ARI 0.9366, 0.23798024654388428\n",
      "Done\n",
      ">> data_-1c16\n"
     ]
    },
    {
     "name": "stderr",
     "output_type": "stream",
     "text": [
      "/opt/conda/lib/python3.7/site-packages/dgl/base.py:45: DGLWarning: Recommend creating graphs by `dgl.graph(data)` instead of `dgl.DGLGraph(data)`.\n",
      "  return warnings.warn(message, category=category, stacklevel=1)\n"
     ]
    },
    {
     "name": "stdout",
     "output_type": "stream",
     "text": [
      "INPUT: GraphConv  200, [300], False, True\n",
      "> GCNAE(\n",
      "  (dropout): Dropout(p=0.1, inplace=False)\n",
      "  (layer1): WeightedGraphConv(in=50, out=200, normalization=both, activation=<function relu at 0x7fcb1c012440>)\n",
      "  (decoder): InnerProductDecoder()\n",
      "  (encoder): Sequential(\n",
      "    (0): Linear(in_features=200, out_features=300, bias=True)\n",
      "  )\n",
      ")\n"
     ]
    },
    {
     "data": {
      "application/vnd.jupyter.widget-view+json": {
       "model_id": "2eebfa3ab4a74be4b1defe546070ae5d",
       "version_major": 2,
       "version_minor": 0
      },
      "text/plain": [
       "HBox(children=(IntProgress(value=0, max=10), HTML(value='')))"
      ]
     },
     "metadata": {},
     "output_type": "display_data"
    },
    {
     "name": "stdout",
     "output_type": "stream",
     "text": [
      "\n",
      "ARI 0.985, 0.3154141902923584\n",
      "Done\n",
      ">> data_1c16\n"
     ]
    },
    {
     "name": "stderr",
     "output_type": "stream",
     "text": [
      "/opt/conda/lib/python3.7/site-packages/dgl/base.py:45: DGLWarning: Recommend creating graphs by `dgl.graph(data)` instead of `dgl.DGLGraph(data)`.\n",
      "  return warnings.warn(message, category=category, stacklevel=1)\n"
     ]
    },
    {
     "name": "stdout",
     "output_type": "stream",
     "text": [
      "INPUT: GraphConv  200, [300], False, True\n",
      "> GCNAE(\n",
      "  (dropout): Dropout(p=0.1, inplace=False)\n",
      "  (layer1): WeightedGraphConv(in=50, out=200, normalization=both, activation=<function relu at 0x7fcb1c012440>)\n",
      "  (decoder): InnerProductDecoder()\n",
      "  (encoder): Sequential(\n",
      "    (0): Linear(in_features=200, out_features=300, bias=True)\n",
      "  )\n",
      ")\n"
     ]
    },
    {
     "data": {
      "application/vnd.jupyter.widget-view+json": {
       "model_id": "674a91eada3649fdab1fdd86deb97659",
       "version_major": 2,
       "version_minor": 0
      },
      "text/plain": [
       "HBox(children=(IntProgress(value=0, max=10), HTML(value='')))"
      ]
     },
     "metadata": {},
     "output_type": "display_data"
    },
    {
     "name": "stdout",
     "output_type": "stream",
     "text": [
      "\n",
      "ARI 0.9628, 0.26610955595970154\n",
      "Done\n"
     ]
    }
   ],
   "source": [
    "results = pd.DataFrame()\n",
    "\n",
    "model_name = \"GraphConv\"\n",
    "normalize_weights = \"per_cell\"\n",
    "node_features = \"scale\"\n",
    "same_edge_values = False\n",
    "edge_norm = True\n",
    "hidden_relu = False\n",
    "hidden_bn = False\n",
    "n_layers = 1\n",
    "hidden_dim = 200\n",
    "hidden = [300]\n",
    "nb_genes = 3000\n",
    "activation = F.relu\n",
    "for dataset in files:\n",
    "    print(f\">> {dataset}\")\n",
    "\n",
    "    data_mat = h5py.File(f\"{path}R/simulated_data/{category}/{dataset}.h5\",\n",
    "                         \"r\")\n",
    "\n",
    "    Y = np.array(data_mat['Y'])\n",
    "    X = np.array(data_mat['X'])\n",
    "\n",
    "    genes_idx, cells_idx = train.filter_data(X, highly_genes=nb_genes)\n",
    "    X = X[cells_idx][:, genes_idx]\n",
    "    Y = Y[cells_idx]\n",
    "    n_clusters = len(np.unique(Y))\n",
    "\n",
    "    t0 = time.time()\n",
    "    graph = train.make_graph(\n",
    "        X,\n",
    "        Y,\n",
    "        dense_dim=pca_size,\n",
    "        node_features=node_features,\n",
    "        normalize_weights=normalize_weights,\n",
    "    )\n",
    "\n",
    "    labels = graph.ndata[\"label\"]\n",
    "    train_ids = np.where(labels != -1)[0]\n",
    "\n",
    "    sampler = dgl.dataloading.MultiLayerFullNeighborSampler(n_layers)\n",
    "\n",
    "    dataloader = dgl.dataloading.NodeDataLoader(\n",
    "        graph,\n",
    "        train_ids,\n",
    "        sampler,\n",
    "        batch_size=batch_size,\n",
    "        shuffle=True,\n",
    "        drop_last=False,\n",
    "        num_workers=1,\n",
    "    )\n",
    "    print(\n",
    "        f\"INPUT: {model_name}  {hidden_dim}, {hidden}, {same_edge_values}, {edge_norm}\"\n",
    "    )\n",
    "    t1 = time.time()\n",
    "\n",
    "    for run in [0]:\n",
    "        t_start = time.time()\n",
    "        torch.manual_seed(run)\n",
    "        torch.cuda.manual_seed_all(run)\n",
    "        np.random.seed(run)\n",
    "        random.seed(run)\n",
    "\n",
    "        model = models.GCNAE(\n",
    "            in_feats=pca_size,\n",
    "            n_hidden=hidden_dim,\n",
    "            n_layers=n_layers,\n",
    "            activation=activation,\n",
    "            dropout=0.1,\n",
    "            hidden=hidden,\n",
    "            hidden_relu=hidden_relu,\n",
    "            hidden_bn=hidden_bn,\n",
    "        ).to(device)\n",
    "        if run == 0:\n",
    "            print(f\">\", model)\n",
    "\n",
    "        optim = torch.optim.Adam(model.parameters(), lr=1e-5)\n",
    "\n",
    "        scores = train.train(model,\n",
    "                             optim,\n",
    "                             epochs,\n",
    "                             dataloader,\n",
    "                             n_clusters,\n",
    "                             plot=False,\n",
    "                             save = True,\n",
    "                             cluster=[\"KMeans\", \"Leiden\"])\n",
    "        scores[\"dataset\"] = dataset\n",
    "        scores[\"run\"] = run\n",
    "        scores[\"nb_genes\"] = nb_genes\n",
    "        scores[\"hidden\"] = str(hidden)\n",
    "        scores[\"hidden_dim\"] = str(hidden_dim)\n",
    "        scores[\"tot_kmeans_time\"] = (t1 - t0) + (\n",
    "            scores['ae_end'] - t_start) + scores['kmeans_time']\n",
    "        scores[\"tot_leiden_time\"] = (t1 - t0) + (\n",
    "            scores['ae_end'] - t_start) + scores['leiden_time']\n",
    "\n",
    "        results = results.append(scores, ignore_index=True)\n",
    "\n",
    "        results.to_pickle(\n",
    "            f\"../output/pickle_results/{category}/{category}_gae_features.pkl\")\n",
    "        print(\"Done\")"
   ]
  },
  {
   "cell_type": "code",
   "execution_count": null,
   "metadata": {},
   "outputs": [],
   "source": [
    "results.groupby(\"dataset\").mean()"
   ]
  },
  {
   "cell_type": "code",
   "execution_count": null,
   "metadata": {},
   "outputs": [],
   "source": []
  },
  {
   "cell_type": "code",
   "execution_count": null,
   "metadata": {},
   "outputs": [],
   "source": []
  },
  {
   "cell_type": "code",
   "execution_count": null,
   "metadata": {},
   "outputs": [],
   "source": []
  },
  {
   "cell_type": "code",
   "execution_count": null,
   "metadata": {},
   "outputs": [],
   "source": []
  },
  {
   "cell_type": "code",
   "execution_count": null,
   "metadata": {},
   "outputs": [],
   "source": []
  }
 ],
 "metadata": {
  "kernelspec": {
   "display_name": "Python 3",
   "language": "python",
   "name": "python3"
  },
  "language_info": {
   "codemirror_mode": {
    "name": "ipython",
    "version": 3
   },
   "file_extension": ".py",
   "mimetype": "text/x-python",
   "name": "python",
   "nbconvert_exporter": "python",
   "pygments_lexer": "ipython3",
   "version": "3.7.4"
  }
 },
 "nbformat": 4,
 "nbformat_minor": 4
}
