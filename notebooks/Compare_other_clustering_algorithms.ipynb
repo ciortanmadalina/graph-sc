{
 "cells": [
  {
   "cell_type": "markdown",
   "metadata": {},
   "source": [
    "Original implementation of Contrastive-sc method\n",
    "(https://github.com/ciortanmadalina/contrastive-sc)"
   ]
  },
  {
   "cell_type": "code",
   "execution_count": 1,
   "metadata": {},
   "outputs": [
    {
     "name": "stderr",
     "output_type": "stream",
     "text": [
      "DGL backend not selected or invalid.  Assuming PyTorch for now.\n",
      "Using backend: pytorch\n"
     ]
    },
    {
     "name": "stdout",
     "output_type": "stream",
     "text": [
      "Setting the default backend to \"pytorch\". You can change it in the ~/.dgl/config.json file or export the DGLBACKEND environment variable.  Valid options are: pytorch, mxnet, tensorflow (all lowercase)\n"
     ]
    },
    {
     "name": "stderr",
     "output_type": "stream",
     "text": [
      "/opt/conda/lib/python3.7/site-packages/dgl/base.py:45: DGLWarning: Detected an old version of PyTorch. Suggest using torch>=1.5.0 for the best experience.\n",
      "  return warnings.warn(message, category=category, stacklevel=1)\n",
      "/opt/conda/lib/python3.7/site-packages/scanpy/api/__init__.py:7: FutureWarning: \n",
      "\n",
      "In a future version of Scanpy, `scanpy.api` will be removed.\n",
      "Simply use `import scanpy as sc` and `import scanpy.external as sce` instead.\n",
      "\n",
      "  FutureWarning,\n"
     ]
    }
   ],
   "source": [
    "import sys\n",
    "sys.path.append(\"..\")\n",
    "import argparse\n",
    "from sklearn.metrics import (adjusted_rand_score, normalized_mutual_info_score, \n",
    "                             silhouette_score, calinski_harabasz_score,\n",
    "                             davies_bouldin_score)\n",
    "from sklearn.cluster import KMeans\n",
    "from sklearn import metrics\n",
    "import dgl\n",
    "import torch\n",
    "import torch.nn as nn\n",
    "import copy\n",
    "from tqdm.notebook import tqdm\n",
    "import models\n",
    "import numpy as np\n",
    "import pandas as pd\n",
    "from sklearn.decomposition import PCA\n",
    "from sklearn.manifold import TSNE\n",
    "import torch.nn.functional as F\n",
    "import matplotlib.pyplot as plt\n",
    "from sklearn.cluster import SpectralClustering, MeanShift\n",
    "from sklearn.cluster import AgglomerativeClustering, Birch\n",
    "from sklearn import mixture\n",
    "import h5py\n",
    "import scipy as sp\n",
    "import scanpy.api as sc\n",
    "from collections import Counter\n",
    "import random\n",
    "\n",
    "import pickle\n",
    "import seaborn as sns\n",
    "import train\n",
    "import time\n",
    "import os\n",
    "import glob2\n",
    "plt.ion()\n",
    "plt.show()\n",
    "%load_ext autoreload\n",
    "%autoreload 2\n",
    "\n",
    "import warnings\n",
    "warnings.filterwarnings(\"ignore\", category=FutureWarning)"
   ]
  },
  {
   "cell_type": "code",
   "execution_count": 2,
   "metadata": {},
   "outputs": [
    {
     "name": "stdout",
     "output_type": "stream",
     "text": [
      "['Quake_Smart-seq2_Trachea', 'Quake_Smart-seq2_Diaphragm', 'Quake_10x_Spleen', 'Young', 'mouse_ES_cell', 'Adam', 'Quake_10x_Bladder', 'Quake_Smart-seq2_Lung', 'Quake_10x_Limb_Muscle', 'worm_neuron_cell', 'mouse_bladder_cell', 'Romanov', 'Quake_Smart-seq2_Limb_Muscle', 'Muraro', '10X_PBMC']\n"
     ]
    }
   ],
   "source": [
    "random.seed(42)\n",
    "np.random.seed(42)\n",
    "torch.manual_seed(42)\n",
    "torch.cuda.manual_seed(42)\n",
    "device = train.get_device()\n",
    "category = \"real_data\"\n",
    "\n",
    "epochs = 10\n",
    "batch_size = 128\n",
    "pca_size = 50\n",
    "path = \"../\"\n",
    "files = glob2.glob(f'{path}real_data/*.h5')\n",
    "files = [f[len(f\"'{path}real_data\"):-3] for f in files]\n",
    "print(files)\n"
   ]
  },
  {
   "cell_type": "code",
   "execution_count": 7,
   "metadata": {},
   "outputs": [
    {
     "name": "stdout",
     "output_type": "stream",
     "text": [
      ">> Quake_Smart-seq2_Trachea\n"
     ]
    },
    {
     "name": "stderr",
     "output_type": "stream",
     "text": [
      "/opt/conda/lib/python3.7/site-packages/dgl/base.py:45: DGLWarning: Recommend creating graphs by `dgl.graph(data)` instead of `dgl.DGLGraph(data)`.\n",
      "  return warnings.warn(message, category=category, stacklevel=1)\n"
     ]
    },
    {
     "name": "stdout",
     "output_type": "stream",
     "text": [
      "INPUT: GraphConv  200, [300], False, True\n",
      "> GCNAE(\n",
      "  (dropout): Dropout(p=0.1, inplace=False)\n",
      "  (layer1): WeightedGraphConv(in=50, out=200, normalization=both, activation=<function relu at 0x7f139f9815f0>)\n",
      "  (decoder): InnerProductDecoder()\n",
      "  (encoder): Sequential(\n",
      "    (0): Linear(in_features=200, out_features=300, bias=True)\n",
      "  )\n",
      ")\n"
     ]
    },
    {
     "data": {
      "application/vnd.jupyter.widget-view+json": {
       "model_id": "e19597d6261543b1ae9dcab6830490c0",
       "version_major": 2,
       "version_minor": 0
      },
      "text/plain": [
       "HBox(children=(IntProgress(value=0, max=10), HTML(value='')))"
      ]
     },
     "metadata": {},
     "output_type": "display_data"
    },
    {
     "name": "stdout",
     "output_type": "stream",
     "text": [
      "\n",
      "ARI 0.8411, 0.45812103152275085\n",
      "Done\n"
     ]
    },
    {
     "data": {
      "application/vnd.jupyter.widget-view+json": {
       "model_id": "c2d9608d48e9472dacede68eeb673994",
       "version_major": 2,
       "version_minor": 0
      },
      "text/plain": [
       "HBox(children=(IntProgress(value=0, max=10), HTML(value='')))"
      ]
     },
     "metadata": {},
     "output_type": "display_data"
    },
    {
     "name": "stdout",
     "output_type": "stream",
     "text": [
      "\n",
      "ARI 0.5696, 0.41480618715286255\n",
      "Done\n"
     ]
    },
    {
     "data": {
      "application/vnd.jupyter.widget-view+json": {
       "model_id": "ac48d304edad46c1b08f6c3a2b896493",
       "version_major": 2,
       "version_minor": 0
      },
      "text/plain": [
       "HBox(children=(IntProgress(value=0, max=10), HTML(value='')))"
      ]
     },
     "metadata": {},
     "output_type": "display_data"
    },
    {
     "name": "stdout",
     "output_type": "stream",
     "text": [
      "\n",
      "ARI 0.5827, 0.39172041416168213\n",
      "Done\n",
      ">> Quake_Smart-seq2_Diaphragm\n"
     ]
    },
    {
     "name": "stderr",
     "output_type": "stream",
     "text": [
      "/opt/conda/lib/python3.7/site-packages/dgl/base.py:45: DGLWarning: Recommend creating graphs by `dgl.graph(data)` instead of `dgl.DGLGraph(data)`.\n",
      "  return warnings.warn(message, category=category, stacklevel=1)\n"
     ]
    },
    {
     "name": "stdout",
     "output_type": "stream",
     "text": [
      "INPUT: GraphConv  200, [300], False, True\n",
      "> GCNAE(\n",
      "  (dropout): Dropout(p=0.1, inplace=False)\n",
      "  (layer1): WeightedGraphConv(in=50, out=200, normalization=both, activation=<function relu at 0x7f139f9815f0>)\n",
      "  (decoder): InnerProductDecoder()\n",
      "  (encoder): Sequential(\n",
      "    (0): Linear(in_features=200, out_features=300, bias=True)\n",
      "  )\n",
      ")\n"
     ]
    },
    {
     "data": {
      "application/vnd.jupyter.widget-view+json": {
       "model_id": "24d9a954279e4d509ae6e4dad7c3af24",
       "version_major": 2,
       "version_minor": 0
      },
      "text/plain": [
       "HBox(children=(IntProgress(value=0, max=10), HTML(value='')))"
      ]
     },
     "metadata": {},
     "output_type": "display_data"
    },
    {
     "name": "stdout",
     "output_type": "stream",
     "text": [
      "\n",
      "ARI 0.9747, 0.5983433723449707\n",
      "Done\n"
     ]
    },
    {
     "data": {
      "application/vnd.jupyter.widget-view+json": {
       "model_id": "75369a34a74449fa8c8b133bf0f7db46",
       "version_major": 2,
       "version_minor": 0
      },
      "text/plain": [
       "HBox(children=(IntProgress(value=0, max=10), HTML(value='')))"
      ]
     },
     "metadata": {},
     "output_type": "display_data"
    },
    {
     "name": "stdout",
     "output_type": "stream",
     "text": [
      "\n",
      "ARI 0.9656, 0.5886515378952026\n",
      "Done\n"
     ]
    },
    {
     "data": {
      "application/vnd.jupyter.widget-view+json": {
       "model_id": "91d0f1fda89b49a0b698a3d17f5af61f",
       "version_major": 2,
       "version_minor": 0
      },
      "text/plain": [
       "HBox(children=(IntProgress(value=0, max=10), HTML(value='')))"
      ]
     },
     "metadata": {},
     "output_type": "display_data"
    },
    {
     "name": "stdout",
     "output_type": "stream",
     "text": [
      "\n",
      "ARI 0.98, 0.5783117413520813\n",
      "Done\n",
      ">> Quake_10x_Spleen\n"
     ]
    },
    {
     "name": "stderr",
     "output_type": "stream",
     "text": [
      "/opt/conda/lib/python3.7/site-packages/dgl/base.py:45: DGLWarning: Recommend creating graphs by `dgl.graph(data)` instead of `dgl.DGLGraph(data)`.\n",
      "  return warnings.warn(message, category=category, stacklevel=1)\n"
     ]
    },
    {
     "name": "stdout",
     "output_type": "stream",
     "text": [
      "INPUT: GraphConv  200, [300], False, True\n",
      "> GCNAE(\n",
      "  (dropout): Dropout(p=0.1, inplace=False)\n",
      "  (layer1): WeightedGraphConv(in=50, out=200, normalization=both, activation=<function relu at 0x7f139f9815f0>)\n",
      "  (decoder): InnerProductDecoder()\n",
      "  (encoder): Sequential(\n",
      "    (0): Linear(in_features=200, out_features=300, bias=True)\n",
      "  )\n",
      ")\n"
     ]
    },
    {
     "data": {
      "application/vnd.jupyter.widget-view+json": {
       "model_id": "eea37cc0d59946589a64aa7eff789e84",
       "version_major": 2,
       "version_minor": 0
      },
      "text/plain": [
       "HBox(children=(IntProgress(value=0, max=10), HTML(value='')))"
      ]
     },
     "metadata": {},
     "output_type": "display_data"
    },
    {
     "name": "stdout",
     "output_type": "stream",
     "text": [
      "\n",
      "ARI 0.9216, 0.5763478875160217\n",
      "Done\n"
     ]
    },
    {
     "data": {
      "application/vnd.jupyter.widget-view+json": {
       "model_id": "40e53eb250cc47ed8a48d116182cca62",
       "version_major": 2,
       "version_minor": 0
      },
      "text/plain": [
       "HBox(children=(IntProgress(value=0, max=10), HTML(value='')))"
      ]
     },
     "metadata": {},
     "output_type": "display_data"
    },
    {
     "name": "stdout",
     "output_type": "stream",
     "text": [
      "\n",
      "ARI 0.9173, 0.5573182106018066\n",
      "Done\n"
     ]
    },
    {
     "data": {
      "application/vnd.jupyter.widget-view+json": {
       "model_id": "a4d4185c084a4b8ea6336ab3d1da9f99",
       "version_major": 2,
       "version_minor": 0
      },
      "text/plain": [
       "HBox(children=(IntProgress(value=0, max=10), HTML(value='')))"
      ]
     },
     "metadata": {},
     "output_type": "display_data"
    },
    {
     "name": "stdout",
     "output_type": "stream",
     "text": [
      "\n",
      "ARI 0.9092, 0.5836876034736633\n",
      "Done\n",
      ">> Young\n"
     ]
    },
    {
     "name": "stderr",
     "output_type": "stream",
     "text": [
      "/opt/conda/lib/python3.7/site-packages/dgl/base.py:45: DGLWarning: Recommend creating graphs by `dgl.graph(data)` instead of `dgl.DGLGraph(data)`.\n",
      "  return warnings.warn(message, category=category, stacklevel=1)\n"
     ]
    },
    {
     "name": "stdout",
     "output_type": "stream",
     "text": [
      "INPUT: GraphConv  200, [300], False, True\n",
      "> GCNAE(\n",
      "  (dropout): Dropout(p=0.1, inplace=False)\n",
      "  (layer1): WeightedGraphConv(in=50, out=200, normalization=both, activation=<function relu at 0x7f139f9815f0>)\n",
      "  (decoder): InnerProductDecoder()\n",
      "  (encoder): Sequential(\n",
      "    (0): Linear(in_features=200, out_features=300, bias=True)\n",
      "  )\n",
      ")\n"
     ]
    },
    {
     "data": {
      "application/vnd.jupyter.widget-view+json": {
       "model_id": "797320ebdc9b4d52a77d1be571258271",
       "version_major": 2,
       "version_minor": 0
      },
      "text/plain": [
       "HBox(children=(IntProgress(value=0, max=10), HTML(value='')))"
      ]
     },
     "metadata": {},
     "output_type": "display_data"
    },
    {
     "name": "stdout",
     "output_type": "stream",
     "text": [
      "\n",
      "ARI 0.658, 0.3501666784286499\n",
      "Done\n"
     ]
    },
    {
     "data": {
      "application/vnd.jupyter.widget-view+json": {
       "model_id": "40e8c8de49d74fd8946054031c6e62c6",
       "version_major": 2,
       "version_minor": 0
      },
      "text/plain": [
       "HBox(children=(IntProgress(value=0, max=10), HTML(value='')))"
      ]
     },
     "metadata": {},
     "output_type": "display_data"
    },
    {
     "name": "stdout",
     "output_type": "stream",
     "text": [
      "\n",
      "ARI 0.6642, 0.3570541441440582\n",
      "Done\n"
     ]
    },
    {
     "data": {
      "application/vnd.jupyter.widget-view+json": {
       "model_id": "d36798a1abb04514824b76aa86425f3c",
       "version_major": 2,
       "version_minor": 0
      },
      "text/plain": [
       "HBox(children=(IntProgress(value=0, max=10), HTML(value='')))"
      ]
     },
     "metadata": {},
     "output_type": "display_data"
    },
    {
     "name": "stdout",
     "output_type": "stream",
     "text": [
      "\n",
      "ARI 0.6328, 0.3519265651702881\n",
      "Done\n",
      ">> mouse_ES_cell\n"
     ]
    },
    {
     "name": "stderr",
     "output_type": "stream",
     "text": [
      "/opt/conda/lib/python3.7/site-packages/dgl/base.py:45: DGLWarning: Recommend creating graphs by `dgl.graph(data)` instead of `dgl.DGLGraph(data)`.\n",
      "  return warnings.warn(message, category=category, stacklevel=1)\n"
     ]
    },
    {
     "name": "stdout",
     "output_type": "stream",
     "text": [
      "INPUT: GraphConv  200, [300], False, True\n",
      "> GCNAE(\n",
      "  (dropout): Dropout(p=0.1, inplace=False)\n",
      "  (layer1): WeightedGraphConv(in=50, out=200, normalization=both, activation=<function relu at 0x7f139f9815f0>)\n",
      "  (decoder): InnerProductDecoder()\n",
      "  (encoder): Sequential(\n",
      "    (0): Linear(in_features=200, out_features=300, bias=True)\n",
      "  )\n",
      ")\n"
     ]
    },
    {
     "data": {
      "application/vnd.jupyter.widget-view+json": {
       "model_id": "8beed586675e42e6ba0c872e0de2bb22",
       "version_major": 2,
       "version_minor": 0
      },
      "text/plain": [
       "HBox(children=(IntProgress(value=0, max=10), HTML(value='')))"
      ]
     },
     "metadata": {},
     "output_type": "display_data"
    },
    {
     "name": "stdout",
     "output_type": "stream",
     "text": [
      "\n",
      "ARI 0.777, 0.5024828314781189\n",
      "Done\n"
     ]
    },
    {
     "data": {
      "application/vnd.jupyter.widget-view+json": {
       "model_id": "b83d7b2dbfde4e3da53bc978280cd92e",
       "version_major": 2,
       "version_minor": 0
      },
      "text/plain": [
       "HBox(children=(IntProgress(value=0, max=10), HTML(value='')))"
      ]
     },
     "metadata": {},
     "output_type": "display_data"
    },
    {
     "name": "stdout",
     "output_type": "stream",
     "text": [
      "\n",
      "ARI 0.7876, 0.4999556243419647\n",
      "Done\n"
     ]
    },
    {
     "data": {
      "application/vnd.jupyter.widget-view+json": {
       "model_id": "4aed1ed4961a495b8771658cb01697fa",
       "version_major": 2,
       "version_minor": 0
      },
      "text/plain": [
       "HBox(children=(IntProgress(value=0, max=10), HTML(value='')))"
      ]
     },
     "metadata": {},
     "output_type": "display_data"
    },
    {
     "name": "stdout",
     "output_type": "stream",
     "text": [
      "\n",
      "ARI 0.7887, 0.4916291832923889\n",
      "Done\n",
      ">> Adam\n"
     ]
    },
    {
     "name": "stderr",
     "output_type": "stream",
     "text": [
      "/opt/conda/lib/python3.7/site-packages/dgl/base.py:45: DGLWarning: Recommend creating graphs by `dgl.graph(data)` instead of `dgl.DGLGraph(data)`.\n",
      "  return warnings.warn(message, category=category, stacklevel=1)\n"
     ]
    },
    {
     "name": "stdout",
     "output_type": "stream",
     "text": [
      "INPUT: GraphConv  200, [300], False, True\n",
      "> GCNAE(\n",
      "  (dropout): Dropout(p=0.1, inplace=False)\n",
      "  (layer1): WeightedGraphConv(in=50, out=200, normalization=both, activation=<function relu at 0x7f139f9815f0>)\n",
      "  (decoder): InnerProductDecoder()\n",
      "  (encoder): Sequential(\n",
      "    (0): Linear(in_features=200, out_features=300, bias=True)\n",
      "  )\n",
      ")\n"
     ]
    },
    {
     "data": {
      "application/vnd.jupyter.widget-view+json": {
       "model_id": "cb814fa4bea24aa0bb5f677e33a5bfed",
       "version_major": 2,
       "version_minor": 0
      },
      "text/plain": [
       "HBox(children=(IntProgress(value=0, max=10), HTML(value='')))"
      ]
     },
     "metadata": {},
     "output_type": "display_data"
    },
    {
     "name": "stdout",
     "output_type": "stream",
     "text": [
      "\n",
      "ARI 0.6467, 0.33375483751296997\n",
      "Done\n"
     ]
    },
    {
     "data": {
      "application/vnd.jupyter.widget-view+json": {
       "model_id": "3a2516c7292640f782c8b268a9e88637",
       "version_major": 2,
       "version_minor": 0
      },
      "text/plain": [
       "HBox(children=(IntProgress(value=0, max=10), HTML(value='')))"
      ]
     },
     "metadata": {},
     "output_type": "display_data"
    },
    {
     "name": "stdout",
     "output_type": "stream",
     "text": [
      "\n",
      "ARI 0.6047, 0.3505452573299408\n",
      "Done\n"
     ]
    },
    {
     "data": {
      "application/vnd.jupyter.widget-view+json": {
       "model_id": "d375a87233a84f4d81477469f1762918",
       "version_major": 2,
       "version_minor": 0
      },
      "text/plain": [
       "HBox(children=(IntProgress(value=0, max=10), HTML(value='')))"
      ]
     },
     "metadata": {},
     "output_type": "display_data"
    },
    {
     "name": "stdout",
     "output_type": "stream",
     "text": [
      "\n",
      "ARI 0.6401, 0.3432537019252777\n",
      "Done\n",
      ">> Quake_10x_Bladder\n"
     ]
    },
    {
     "name": "stderr",
     "output_type": "stream",
     "text": [
      "/opt/conda/lib/python3.7/site-packages/dgl/base.py:45: DGLWarning: Recommend creating graphs by `dgl.graph(data)` instead of `dgl.DGLGraph(data)`.\n",
      "  return warnings.warn(message, category=category, stacklevel=1)\n"
     ]
    },
    {
     "name": "stdout",
     "output_type": "stream",
     "text": [
      "INPUT: GraphConv  200, [300], False, True\n",
      "> GCNAE(\n",
      "  (dropout): Dropout(p=0.1, inplace=False)\n",
      "  (layer1): WeightedGraphConv(in=50, out=200, normalization=both, activation=<function relu at 0x7f139f9815f0>)\n",
      "  (decoder): InnerProductDecoder()\n",
      "  (encoder): Sequential(\n",
      "    (0): Linear(in_features=200, out_features=300, bias=True)\n",
      "  )\n",
      ")\n"
     ]
    },
    {
     "data": {
      "application/vnd.jupyter.widget-view+json": {
       "model_id": "c0c69b4eec0e4b60b9100be6172d7734",
       "version_major": 2,
       "version_minor": 0
      },
      "text/plain": [
       "HBox(children=(IntProgress(value=0, max=10), HTML(value='')))"
      ]
     },
     "metadata": {},
     "output_type": "display_data"
    },
    {
     "name": "stdout",
     "output_type": "stream",
     "text": [
      "\n",
      "ARI 0.969, 0.7300050854682922\n",
      "Done\n"
     ]
    },
    {
     "data": {
      "application/vnd.jupyter.widget-view+json": {
       "model_id": "9578bd876b30411182e502e0706a0afa",
       "version_major": 2,
       "version_minor": 0
      },
      "text/plain": [
       "HBox(children=(IntProgress(value=0, max=10), HTML(value='')))"
      ]
     },
     "metadata": {},
     "output_type": "display_data"
    },
    {
     "name": "stdout",
     "output_type": "stream",
     "text": [
      "\n",
      "ARI 0.9709, 0.7264925837516785\n",
      "Done\n"
     ]
    },
    {
     "data": {
      "application/vnd.jupyter.widget-view+json": {
       "model_id": "b74f91f1c6804a6f9997ddee3dd1acbf",
       "version_major": 2,
       "version_minor": 0
      },
      "text/plain": [
       "HBox(children=(IntProgress(value=0, max=10), HTML(value='')))"
      ]
     },
     "metadata": {},
     "output_type": "display_data"
    },
    {
     "name": "stdout",
     "output_type": "stream",
     "text": [
      "\n",
      "ARI 0.9681, 0.7196491360664368\n",
      "Done\n",
      ">> Quake_Smart-seq2_Lung\n"
     ]
    },
    {
     "name": "stderr",
     "output_type": "stream",
     "text": [
      "/opt/conda/lib/python3.7/site-packages/dgl/base.py:45: DGLWarning: Recommend creating graphs by `dgl.graph(data)` instead of `dgl.DGLGraph(data)`.\n",
      "  return warnings.warn(message, category=category, stacklevel=1)\n"
     ]
    },
    {
     "name": "stdout",
     "output_type": "stream",
     "text": [
      "INPUT: GraphConv  200, [300], False, True\n",
      "> GCNAE(\n",
      "  (dropout): Dropout(p=0.1, inplace=False)\n",
      "  (layer1): WeightedGraphConv(in=50, out=200, normalization=both, activation=<function relu at 0x7f139f9815f0>)\n",
      "  (decoder): InnerProductDecoder()\n",
      "  (encoder): Sequential(\n",
      "    (0): Linear(in_features=200, out_features=300, bias=True)\n",
      "  )\n",
      ")\n"
     ]
    },
    {
     "data": {
      "application/vnd.jupyter.widget-view+json": {
       "model_id": "cce7c4f8cd6c4a558e5099133e3fbb45",
       "version_major": 2,
       "version_minor": 0
      },
      "text/plain": [
       "HBox(children=(IntProgress(value=0, max=10), HTML(value='')))"
      ]
     },
     "metadata": {},
     "output_type": "display_data"
    },
    {
     "name": "stdout",
     "output_type": "stream",
     "text": [
      "\n",
      "ARI 0.75, 0.5101868510246277\n",
      "Done\n"
     ]
    },
    {
     "data": {
      "application/vnd.jupyter.widget-view+json": {
       "model_id": "e2784381ab814afc8e8463c959ad7905",
       "version_major": 2,
       "version_minor": 0
      },
      "text/plain": [
       "HBox(children=(IntProgress(value=0, max=10), HTML(value='')))"
      ]
     },
     "metadata": {},
     "output_type": "display_data"
    },
    {
     "name": "stdout",
     "output_type": "stream",
     "text": [
      "\n",
      "ARI 0.7387, 0.46162956953048706\n",
      "Done\n"
     ]
    },
    {
     "data": {
      "application/vnd.jupyter.widget-view+json": {
       "model_id": "94ead4b307d640c5b4f31bb01eb703e5",
       "version_major": 2,
       "version_minor": 0
      },
      "text/plain": [
       "HBox(children=(IntProgress(value=0, max=10), HTML(value='')))"
      ]
     },
     "metadata": {},
     "output_type": "display_data"
    },
    {
     "name": "stdout",
     "output_type": "stream",
     "text": [
      "\n",
      "ARI 0.7722, 0.4864879250526428\n",
      "Done\n",
      ">> Quake_10x_Limb_Muscle\n"
     ]
    },
    {
     "name": "stderr",
     "output_type": "stream",
     "text": [
      "/opt/conda/lib/python3.7/site-packages/dgl/base.py:45: DGLWarning: Recommend creating graphs by `dgl.graph(data)` instead of `dgl.DGLGraph(data)`.\n",
      "  return warnings.warn(message, category=category, stacklevel=1)\n"
     ]
    },
    {
     "name": "stdout",
     "output_type": "stream",
     "text": [
      "INPUT: GraphConv  200, [300], False, True\n",
      "> GCNAE(\n",
      "  (dropout): Dropout(p=0.1, inplace=False)\n",
      "  (layer1): WeightedGraphConv(in=50, out=200, normalization=both, activation=<function relu at 0x7f139f9815f0>)\n",
      "  (decoder): InnerProductDecoder()\n",
      "  (encoder): Sequential(\n",
      "    (0): Linear(in_features=200, out_features=300, bias=True)\n",
      "  )\n",
      ")\n"
     ]
    },
    {
     "data": {
      "application/vnd.jupyter.widget-view+json": {
       "model_id": "b1ff33a2476f4cb2a7950019760f984b",
       "version_major": 2,
       "version_minor": 0
      },
      "text/plain": [
       "HBox(children=(IntProgress(value=0, max=10), HTML(value='')))"
      ]
     },
     "metadata": {},
     "output_type": "display_data"
    },
    {
     "name": "stdout",
     "output_type": "stream",
     "text": [
      "\n",
      "ARI 0.9681, 0.5658235549926758\n",
      "Done\n"
     ]
    },
    {
     "data": {
      "application/vnd.jupyter.widget-view+json": {
       "model_id": "b8ed356cfd4345d183a20d1072a000ae",
       "version_major": 2,
       "version_minor": 0
      },
      "text/plain": [
       "HBox(children=(IntProgress(value=0, max=10), HTML(value='')))"
      ]
     },
     "metadata": {},
     "output_type": "display_data"
    },
    {
     "name": "stdout",
     "output_type": "stream",
     "text": [
      "\n",
      "ARI 0.9796, 0.565973162651062\n",
      "Done\n"
     ]
    },
    {
     "data": {
      "application/vnd.jupyter.widget-view+json": {
       "model_id": "b456c047cd4f48f99eef225fe22e9dd7",
       "version_major": 2,
       "version_minor": 0
      },
      "text/plain": [
       "HBox(children=(IntProgress(value=0, max=10), HTML(value='')))"
      ]
     },
     "metadata": {},
     "output_type": "display_data"
    },
    {
     "name": "stdout",
     "output_type": "stream",
     "text": [
      "\n",
      "ARI 0.9784, 0.5421764254570007\n",
      "Done\n",
      ">> worm_neuron_cell\n"
     ]
    },
    {
     "name": "stderr",
     "output_type": "stream",
     "text": [
      "/opt/conda/lib/python3.7/site-packages/dgl/base.py:45: DGLWarning: Recommend creating graphs by `dgl.graph(data)` instead of `dgl.DGLGraph(data)`.\n",
      "  return warnings.warn(message, category=category, stacklevel=1)\n"
     ]
    },
    {
     "name": "stdout",
     "output_type": "stream",
     "text": [
      "INPUT: GraphConv  200, [300], False, True\n",
      "> GCNAE(\n",
      "  (dropout): Dropout(p=0.1, inplace=False)\n",
      "  (layer1): WeightedGraphConv(in=50, out=200, normalization=both, activation=<function relu at 0x7f139f9815f0>)\n",
      "  (decoder): InnerProductDecoder()\n",
      "  (encoder): Sequential(\n",
      "    (0): Linear(in_features=200, out_features=300, bias=True)\n",
      "  )\n",
      ")\n"
     ]
    },
    {
     "data": {
      "application/vnd.jupyter.widget-view+json": {
       "model_id": "14063ffeae5848989b7d04d7eb5a21ea",
       "version_major": 2,
       "version_minor": 0
      },
      "text/plain": [
       "HBox(children=(IntProgress(value=0, max=10), HTML(value='')))"
      ]
     },
     "metadata": {},
     "output_type": "display_data"
    },
    {
     "name": "stdout",
     "output_type": "stream",
     "text": [
      "\n",
      "ARI 0.4564, 0.20790959894657135\n",
      "Done\n"
     ]
    },
    {
     "data": {
      "application/vnd.jupyter.widget-view+json": {
       "model_id": "4400197e42034001ad4838247d1395b0",
       "version_major": 2,
       "version_minor": 0
      },
      "text/plain": [
       "HBox(children=(IntProgress(value=0, max=10), HTML(value='')))"
      ]
     },
     "metadata": {},
     "output_type": "display_data"
    },
    {
     "name": "stdout",
     "output_type": "stream",
     "text": [
      "\n",
      "ARI 0.4391, 0.20900560915470123\n",
      "Done\n"
     ]
    },
    {
     "data": {
      "application/vnd.jupyter.widget-view+json": {
       "model_id": "e4369e4bcbfd480088c575a44d367937",
       "version_major": 2,
       "version_minor": 0
      },
      "text/plain": [
       "HBox(children=(IntProgress(value=0, max=10), HTML(value='')))"
      ]
     },
     "metadata": {},
     "output_type": "display_data"
    },
    {
     "name": "stdout",
     "output_type": "stream",
     "text": [
      "\n",
      "ARI 0.492, 0.2043255865573883\n",
      "Done\n",
      ">> mouse_bladder_cell\n"
     ]
    },
    {
     "name": "stderr",
     "output_type": "stream",
     "text": [
      "/opt/conda/lib/python3.7/site-packages/dgl/base.py:45: DGLWarning: Recommend creating graphs by `dgl.graph(data)` instead of `dgl.DGLGraph(data)`.\n",
      "  return warnings.warn(message, category=category, stacklevel=1)\n"
     ]
    },
    {
     "name": "stdout",
     "output_type": "stream",
     "text": [
      "INPUT: GraphConv  200, [300], False, True\n",
      "> GCNAE(\n",
      "  (dropout): Dropout(p=0.1, inplace=False)\n",
      "  (layer1): WeightedGraphConv(in=50, out=200, normalization=both, activation=<function relu at 0x7f139f9815f0>)\n",
      "  (decoder): InnerProductDecoder()\n",
      "  (encoder): Sequential(\n",
      "    (0): Linear(in_features=200, out_features=300, bias=True)\n",
      "  )\n",
      ")\n"
     ]
    },
    {
     "data": {
      "application/vnd.jupyter.widget-view+json": {
       "model_id": "a16716ee8458469d820979482fa7ba8c",
       "version_major": 2,
       "version_minor": 0
      },
      "text/plain": [
       "HBox(children=(IntProgress(value=0, max=10), HTML(value='')))"
      ]
     },
     "metadata": {},
     "output_type": "display_data"
    },
    {
     "name": "stdout",
     "output_type": "stream",
     "text": [
      "\n",
      "ARI 0.5814, 0.28868672251701355\n",
      "Done\n"
     ]
    },
    {
     "data": {
      "application/vnd.jupyter.widget-view+json": {
       "model_id": "c9f2ba882e6e46c2936a96ba337696f0",
       "version_major": 2,
       "version_minor": 0
      },
      "text/plain": [
       "HBox(children=(IntProgress(value=0, max=10), HTML(value='')))"
      ]
     },
     "metadata": {},
     "output_type": "display_data"
    },
    {
     "name": "stdout",
     "output_type": "stream",
     "text": [
      "\n",
      "ARI 0.612, 0.31007832288742065\n",
      "Done\n"
     ]
    },
    {
     "data": {
      "application/vnd.jupyter.widget-view+json": {
       "model_id": "fd26be1eceed4c22aac5ef026a43cd33",
       "version_major": 2,
       "version_minor": 0
      },
      "text/plain": [
       "HBox(children=(IntProgress(value=0, max=10), HTML(value='')))"
      ]
     },
     "metadata": {},
     "output_type": "display_data"
    },
    {
     "name": "stdout",
     "output_type": "stream",
     "text": [
      "\n",
      "ARI 0.69, 0.34497517347335815\n",
      "Done\n",
      ">> Romanov\n"
     ]
    },
    {
     "name": "stderr",
     "output_type": "stream",
     "text": [
      "/opt/conda/lib/python3.7/site-packages/dgl/base.py:45: DGLWarning: Recommend creating graphs by `dgl.graph(data)` instead of `dgl.DGLGraph(data)`.\n",
      "  return warnings.warn(message, category=category, stacklevel=1)\n"
     ]
    },
    {
     "name": "stdout",
     "output_type": "stream",
     "text": [
      "INPUT: GraphConv  200, [300], False, True\n",
      "> GCNAE(\n",
      "  (dropout): Dropout(p=0.1, inplace=False)\n",
      "  (layer1): WeightedGraphConv(in=50, out=200, normalization=both, activation=<function relu at 0x7f139f9815f0>)\n",
      "  (decoder): InnerProductDecoder()\n",
      "  (encoder): Sequential(\n",
      "    (0): Linear(in_features=200, out_features=300, bias=True)\n",
      "  )\n",
      ")\n"
     ]
    },
    {
     "data": {
      "application/vnd.jupyter.widget-view+json": {
       "model_id": "0ca59c1fb155412db491c1462dc06628",
       "version_major": 2,
       "version_minor": 0
      },
      "text/plain": [
       "HBox(children=(IntProgress(value=0, max=10), HTML(value='')))"
      ]
     },
     "metadata": {},
     "output_type": "display_data"
    },
    {
     "name": "stdout",
     "output_type": "stream",
     "text": [
      "\n",
      "ARI 0.7553, 0.4673798680305481\n",
      "Done\n"
     ]
    },
    {
     "data": {
      "application/vnd.jupyter.widget-view+json": {
       "model_id": "788d05c1e0fd4b40ac25d75abe645e8e",
       "version_major": 2,
       "version_minor": 0
      },
      "text/plain": [
       "HBox(children=(IntProgress(value=0, max=10), HTML(value='')))"
      ]
     },
     "metadata": {},
     "output_type": "display_data"
    },
    {
     "name": "stdout",
     "output_type": "stream",
     "text": [
      "\n",
      "ARI 0.7776, 0.476014643907547\n",
      "Done\n"
     ]
    },
    {
     "data": {
      "application/vnd.jupyter.widget-view+json": {
       "model_id": "f499c9800bf2453893a1a71a73170d36",
       "version_major": 2,
       "version_minor": 0
      },
      "text/plain": [
       "HBox(children=(IntProgress(value=0, max=10), HTML(value='')))"
      ]
     },
     "metadata": {},
     "output_type": "display_data"
    },
    {
     "name": "stdout",
     "output_type": "stream",
     "text": [
      "\n",
      "ARI 0.7666, 0.46358686685562134\n",
      "Done\n",
      ">> Quake_Smart-seq2_Limb_Muscle\n"
     ]
    },
    {
     "name": "stderr",
     "output_type": "stream",
     "text": [
      "/opt/conda/lib/python3.7/site-packages/dgl/base.py:45: DGLWarning: Recommend creating graphs by `dgl.graph(data)` instead of `dgl.DGLGraph(data)`.\n",
      "  return warnings.warn(message, category=category, stacklevel=1)\n"
     ]
    },
    {
     "name": "stdout",
     "output_type": "stream",
     "text": [
      "INPUT: GraphConv  200, [300], False, True\n",
      "> GCNAE(\n",
      "  (dropout): Dropout(p=0.1, inplace=False)\n",
      "  (layer1): WeightedGraphConv(in=50, out=200, normalization=both, activation=<function relu at 0x7f139f9815f0>)\n",
      "  (decoder): InnerProductDecoder()\n",
      "  (encoder): Sequential(\n",
      "    (0): Linear(in_features=200, out_features=300, bias=True)\n",
      "  )\n",
      ")\n"
     ]
    },
    {
     "data": {
      "application/vnd.jupyter.widget-view+json": {
       "model_id": "4b4ad1ec133f4c44b4c412ad464b47cb",
       "version_major": 2,
       "version_minor": 0
      },
      "text/plain": [
       "HBox(children=(IntProgress(value=0, max=10), HTML(value='')))"
      ]
     },
     "metadata": {},
     "output_type": "display_data"
    },
    {
     "name": "stdout",
     "output_type": "stream",
     "text": [
      "\n",
      "ARI 0.9641, 0.5977404117584229\n",
      "Done\n"
     ]
    },
    {
     "data": {
      "application/vnd.jupyter.widget-view+json": {
       "model_id": "fd15637471694ead94eabcc8b3c29eed",
       "version_major": 2,
       "version_minor": 0
      },
      "text/plain": [
       "HBox(children=(IntProgress(value=0, max=10), HTML(value='')))"
      ]
     },
     "metadata": {},
     "output_type": "display_data"
    },
    {
     "name": "stdout",
     "output_type": "stream",
     "text": [
      "\n",
      "ARI 0.9681, 0.581446647644043\n",
      "Done\n"
     ]
    },
    {
     "data": {
      "application/vnd.jupyter.widget-view+json": {
       "model_id": "161e9da4073049338f4f215d0df82743",
       "version_major": 2,
       "version_minor": 0
      },
      "text/plain": [
       "HBox(children=(IntProgress(value=0, max=10), HTML(value='')))"
      ]
     },
     "metadata": {},
     "output_type": "display_data"
    },
    {
     "name": "stdout",
     "output_type": "stream",
     "text": [
      "\n",
      "ARI 0.9701, 0.5723736882209778\n",
      "Done\n",
      ">> Muraro\n"
     ]
    },
    {
     "name": "stderr",
     "output_type": "stream",
     "text": [
      "/opt/conda/lib/python3.7/site-packages/dgl/base.py:45: DGLWarning: Recommend creating graphs by `dgl.graph(data)` instead of `dgl.DGLGraph(data)`.\n",
      "  return warnings.warn(message, category=category, stacklevel=1)\n"
     ]
    },
    {
     "name": "stdout",
     "output_type": "stream",
     "text": [
      "INPUT: GraphConv  200, [300], False, True\n",
      "> GCNAE(\n",
      "  (dropout): Dropout(p=0.1, inplace=False)\n",
      "  (layer1): WeightedGraphConv(in=50, out=200, normalization=both, activation=<function relu at 0x7f139f9815f0>)\n",
      "  (decoder): InnerProductDecoder()\n",
      "  (encoder): Sequential(\n",
      "    (0): Linear(in_features=200, out_features=300, bias=True)\n",
      "  )\n",
      ")\n"
     ]
    },
    {
     "data": {
      "application/vnd.jupyter.widget-view+json": {
       "model_id": "3768e5e89dae4819814f8f6375527987",
       "version_major": 2,
       "version_minor": 0
      },
      "text/plain": [
       "HBox(children=(IntProgress(value=0, max=10), HTML(value='')))"
      ]
     },
     "metadata": {},
     "output_type": "display_data"
    },
    {
     "name": "stdout",
     "output_type": "stream",
     "text": [
      "\n",
      "ARI 0.8995, 0.5759233832359314\n",
      "Done\n"
     ]
    },
    {
     "data": {
      "application/vnd.jupyter.widget-view+json": {
       "model_id": "628ea450be1f42e1ab26d481ccf9d796",
       "version_major": 2,
       "version_minor": 0
      },
      "text/plain": [
       "HBox(children=(IntProgress(value=0, max=10), HTML(value='')))"
      ]
     },
     "metadata": {},
     "output_type": "display_data"
    },
    {
     "name": "stdout",
     "output_type": "stream",
     "text": [
      "\n",
      "ARI 0.9044, 0.5640636086463928\n",
      "Done\n"
     ]
    },
    {
     "data": {
      "application/vnd.jupyter.widget-view+json": {
       "model_id": "cea5a8c9da324e67997463a3926e4c75",
       "version_major": 2,
       "version_minor": 0
      },
      "text/plain": [
       "HBox(children=(IntProgress(value=0, max=10), HTML(value='')))"
      ]
     },
     "metadata": {},
     "output_type": "display_data"
    },
    {
     "name": "stdout",
     "output_type": "stream",
     "text": [
      "\n",
      "ARI 0.9062, 0.6016443967819214\n",
      "Done\n",
      ">> 10X_PBMC\n"
     ]
    },
    {
     "name": "stderr",
     "output_type": "stream",
     "text": [
      "/opt/conda/lib/python3.7/site-packages/dgl/base.py:45: DGLWarning: Recommend creating graphs by `dgl.graph(data)` instead of `dgl.DGLGraph(data)`.\n",
      "  return warnings.warn(message, category=category, stacklevel=1)\n"
     ]
    },
    {
     "name": "stdout",
     "output_type": "stream",
     "text": [
      "INPUT: GraphConv  200, [300], False, True\n",
      "> GCNAE(\n",
      "  (dropout): Dropout(p=0.1, inplace=False)\n",
      "  (layer1): WeightedGraphConv(in=50, out=200, normalization=both, activation=<function relu at 0x7f139f9815f0>)\n",
      "  (decoder): InnerProductDecoder()\n",
      "  (encoder): Sequential(\n",
      "    (0): Linear(in_features=200, out_features=300, bias=True)\n",
      "  )\n",
      ")\n"
     ]
    },
    {
     "data": {
      "application/vnd.jupyter.widget-view+json": {
       "model_id": "b1b76846e655482c99551360b37d4f93",
       "version_major": 2,
       "version_minor": 0
      },
      "text/plain": [
       "HBox(children=(IntProgress(value=0, max=10), HTML(value='')))"
      ]
     },
     "metadata": {},
     "output_type": "display_data"
    },
    {
     "name": "stdout",
     "output_type": "stream",
     "text": [
      "\n",
      "ARI 0.6623, 0.4969967007637024\n",
      "Done\n"
     ]
    },
    {
     "data": {
      "application/vnd.jupyter.widget-view+json": {
       "model_id": "44616af0b1154018ad3e9522af57c893",
       "version_major": 2,
       "version_minor": 0
      },
      "text/plain": [
       "HBox(children=(IntProgress(value=0, max=10), HTML(value='')))"
      ]
     },
     "metadata": {},
     "output_type": "display_data"
    },
    {
     "name": "stdout",
     "output_type": "stream",
     "text": [
      "\n",
      "ARI 0.7191, 0.4645465314388275\n",
      "Done\n"
     ]
    },
    {
     "data": {
      "application/vnd.jupyter.widget-view+json": {
       "model_id": "4e273fe8e55047a390c055df6f8febd9",
       "version_major": 2,
       "version_minor": 0
      },
      "text/plain": [
       "HBox(children=(IntProgress(value=0, max=10), HTML(value='')))"
      ]
     },
     "metadata": {},
     "output_type": "display_data"
    },
    {
     "name": "stdout",
     "output_type": "stream",
     "text": [
      "\n",
      "ARI 0.7244, 0.47059887647628784\n",
      "Done\n"
     ]
    }
   ],
   "source": [
    "results = pd.DataFrame()\n",
    "model_name = \"GraphConv\"\n",
    "normalize_weights = \"log_per_cell\"\n",
    "node_features = \"scale\"\n",
    "same_edge_values = False\n",
    "edge_norm = True\n",
    "hidden_relu = False\n",
    "hidden_bn = False\n",
    "n_layers = 1\n",
    "hidden_dim = 200\n",
    "hidden = [300]\n",
    "nb_genes = 3000\n",
    "activation = F.relu\n",
    "for dataset in files:\n",
    "    print(f\">> {dataset}\")\n",
    "\n",
    "    data_mat = h5py.File(f\"{path}/real_data/{dataset}.h5\", \"r\")\n",
    "\n",
    "    Y = np.array(data_mat['Y'])\n",
    "    X = np.array(data_mat['X'])\n",
    "\n",
    "    genes_idx, cells_idx = train.filter_data(X, highly_genes=nb_genes)\n",
    "    X = X[cells_idx][:, genes_idx]\n",
    "    Y = Y[cells_idx]\n",
    "\n",
    "    t0 = time.time()\n",
    "    graph = train.make_graph(\n",
    "        X,\n",
    "        Y,\n",
    "        dense_dim=pca_size,\n",
    "        node_features=node_features,\n",
    "        normalize_weights=normalize_weights,\n",
    "    )\n",
    "\n",
    "    labels = graph.ndata[\"label\"]\n",
    "    train_ids = np.where(labels != -1)[0]\n",
    "\n",
    "    sampler = dgl.dataloading.MultiLayerFullNeighborSampler(n_layers)\n",
    "\n",
    "    dataloader = dgl.dataloading.NodeDataLoader(\n",
    "        graph,\n",
    "        train_ids,\n",
    "        sampler,\n",
    "        batch_size=batch_size,\n",
    "        shuffle=True,\n",
    "        drop_last=False,\n",
    "        num_workers=1,\n",
    "    )\n",
    "\n",
    "    print(\n",
    "        f\"INPUT: {model_name}  {hidden_dim}, {hidden}, {same_edge_values}, {edge_norm}\"\n",
    "    )\n",
    "    t1 = time.time()\n",
    "\n",
    "    for run in range(3):\n",
    "        t_start = time.time()\n",
    "        torch.manual_seed(run)\n",
    "        torch.cuda.manual_seed_all(run)\n",
    "        np.random.seed(run)\n",
    "        random.seed(run)\n",
    "\n",
    "        model = models.GCNAE(\n",
    "            in_feats=pca_size,\n",
    "            n_hidden=hidden_dim,\n",
    "            n_layers=n_layers,\n",
    "            activation=activation,\n",
    "            dropout=0.1,\n",
    "            hidden=hidden,\n",
    "            hidden_relu=hidden_relu,\n",
    "            hidden_bn=hidden_bn,\n",
    "        ).to(device)\n",
    "        if run == 0:\n",
    "            print(f\">\", model)\n",
    "\n",
    "        optim = torch.optim.Adam(model.parameters(), lr=1e-5)\n",
    "\n",
    "        scores = train.train(model, optim, epochs, dataloader, plot=False,\n",
    "                            cluster=[\"KMeans\", \"Leiden\"], save = True)\n",
    "        scores[\"dataset\"] = dataset\n",
    "        scores[\"time_training\"] = (scores['ae_end'] - t_start)\n",
    "        scores[\"run\"] = run\n",
    "\n",
    "        results = results.append(scores, ignore_index = True)\n",
    "        \n",
    "        z = scores[\"features\"]\n",
    "        n_clusters = np.unique(Y).shape[0]\n",
    "        kmeans = KMeans(n_clusters=n_clusters, init=\"k-means++\", random_state=0)\n",
    "        kmeans_pred = kmeans.fit_predict(z)\n",
    "\n",
    "#         ari_k = round(adjusted_rand_score(Y, kmeans_pred),4)\n",
    "#         print(f\"ARI!!! {ari_k}, {z.shape}\")\n",
    "\n",
    "        results.to_pickle(\n",
    "            f\"../output/pickle_results/{category}/{category}_gae_features.pkl\")\n",
    "        print(\"Done\")"
   ]
  },
  {
   "cell_type": "code",
   "execution_count": 8,
   "metadata": {},
   "outputs": [
    {
     "data": {
      "text/plain": [
       "ae_end           1.615541e+09\n",
       "kmeans_ari       7.832267e-01\n",
       "kmeans_cal       1.764951e+03\n",
       "kmeans_nmi       8.171889e-01\n",
       "kmeans_sil       4.785288e-01\n",
       "kmeans_time      6.365835e-01\n",
       "leiden_ari       5.254489e-01\n",
       "leiden_cal       1.096698e+03\n",
       "leiden_nmi       7.249533e-01\n",
       "leiden_sil       3.012410e-01\n",
       "leiden_time      8.831964e+00\n",
       "time_training    1.586605e+01\n",
       "dtype: float64"
      ]
     },
     "execution_count": 8,
     "metadata": {},
     "output_type": "execute_result"
    }
   ],
   "source": [
    "results.mean()"
   ]
  },
  {
   "cell_type": "markdown",
   "metadata": {},
   "source": [
    "# Compute ARI, BIC"
   ]
  },
  {
   "cell_type": "code",
   "execution_count": 4,
   "metadata": {},
   "outputs": [],
   "source": [
    "df = pd.read_pickle(f\"../output/pickle_results/{category}/{category}_gae_features.pkl\")"
   ]
  },
  {
   "cell_type": "code",
   "execution_count": 28,
   "metadata": {},
   "outputs": [
    {
     "data": {
      "application/vnd.jupyter.widget-view+json": {
       "model_id": "8dc10e3d3c4c40e6bfd9c0dc8c5e43ee",
       "version_major": 2,
       "version_minor": 0
      },
      "text/plain": [
       "HBox(children=(IntProgress(value=0, max=15), HTML(value='')))"
      ]
     },
     "metadata": {},
     "output_type": "display_data"
    },
    {
     "name": "stdout",
     "output_type": "stream",
     "text": [
      ">> Quake_Smart-seq2_Trachea\n",
      "(2,)\n",
      "(2,)\n",
      "(2,)\n",
      "(3,)\n",
      "(3,)\n",
      "(3,)\n",
      "(4,)\n",
      "(4,)\n",
      "(4,)\n",
      "(5,)\n",
      "(5,)\n",
      "(5,)\n",
      "(6,)\n",
      "(6,)\n",
      "(6,)\n",
      "(7,)\n",
      "(7,)\n",
      "(7,)\n",
      "(8,)\n",
      "(8,)\n",
      "(8,)\n",
      ">> Quake_Smart-seq2_Diaphragm\n",
      "(2,)\n",
      "(2,)\n",
      "(2,)\n",
      "(3,)\n",
      "(3,)\n",
      "(3,)\n",
      "(4,)\n",
      "(4,)\n",
      "(4,)\n",
      "(5,)\n",
      "(5,)\n",
      "(5,)\n",
      "(6,)\n",
      "(6,)\n",
      "(6,)\n",
      "(7,)\n",
      "(7,)\n",
      "(7,)\n",
      "(8,)\n",
      "(8,)\n",
      "(8,)\n",
      "(9,)\n",
      "(9,)\n",
      "(9,)\n",
      ">> Quake_10x_Spleen\n",
      "(2,)\n",
      "(2,)\n",
      "(2,)\n",
      "(3,)\n",
      "(3,)\n",
      "(3,)\n",
      "(4,)\n",
      "(4,)\n",
      "(4,)\n",
      "(5,)\n",
      "(5,)\n",
      "(5,)\n",
      "(6,)\n",
      "(6,)\n",
      "(6,)\n",
      "(7,)\n",
      "(7,)\n",
      "(7,)\n",
      "(8,)\n",
      "(8,)\n",
      "(8,)\n",
      "(9,)\n",
      "(9,)\n",
      "(9,)\n",
      ">> Young\n",
      "(6,)\n",
      "(6,)\n",
      "(6,)\n",
      "(7,)\n",
      "(7,)\n",
      "(7,)\n",
      "(8,)\n",
      "(8,)\n",
      "(8,)\n",
      "(9,)\n",
      "(9,)\n",
      "(9,)\n",
      "(10,)\n",
      "(10,)\n",
      "(10,)\n",
      "(11,)\n",
      "(11,)\n",
      "(11,)\n",
      "(12,)\n",
      "(12,)\n",
      "(12,)\n",
      "(13,)\n",
      "(13,)\n",
      "(13,)\n",
      "(14,)\n",
      "(14,)\n",
      "(14,)\n",
      "(15,)\n",
      "(15,)\n",
      "(15,)\n",
      ">> mouse_ES_cell\n",
      "(2,)\n",
      "(2,)\n",
      "(2,)\n",
      "(3,)\n",
      "(3,)\n",
      "(3,)\n",
      "(4,)\n",
      "(4,)\n",
      "(4,)\n",
      "(5,)\n",
      "(5,)\n",
      "(5,)\n",
      "(6,)\n",
      "(6,)\n",
      "(6,)\n",
      "(7,)\n",
      "(7,)\n",
      "(7,)\n",
      "(8,)\n",
      "(8,)\n",
      "(8,)\n",
      ">> Adam\n",
      "(3,)\n",
      "(3,)\n",
      "(3,)\n",
      "(4,)\n",
      "(4,)\n",
      "(4,)\n",
      "(5,)\n",
      "(5,)\n",
      "(5,)\n",
      "(6,)\n",
      "(6,)\n",
      "(6,)\n",
      "(7,)\n",
      "(7,)\n",
      "(7,)\n",
      "(8,)\n",
      "(8,)\n",
      "(8,)\n",
      "(9,)\n",
      "(9,)\n",
      "(9,)\n",
      "(10,)\n",
      "(10,)\n",
      "(10,)\n",
      "(11,)\n",
      "(11,)\n",
      "(11,)\n",
      "(12,)\n",
      "(12,)\n",
      "(12,)\n",
      ">> Quake_10x_Bladder\n",
      "(2,)\n",
      "(2,)\n",
      "(2,)\n",
      "(3,)\n",
      "(3,)\n",
      "(3,)\n",
      "(4,)\n",
      "(4,)\n",
      "(4,)\n",
      "(5,)\n",
      "(5,)\n",
      "(5,)\n",
      "(6,)\n",
      "(6,)\n",
      "(6,)\n",
      "(7,)\n",
      "(7,)\n",
      "(7,)\n",
      "(8,)\n",
      "(8,)\n",
      "(8,)\n",
      ">> Quake_Smart-seq2_Lung\n",
      "(6,)\n",
      "(6,)\n",
      "(6,)\n",
      "(7,)\n",
      "(7,)\n",
      "(7,)\n",
      "(8,)\n",
      "(8,)\n",
      "(8,)\n",
      "(9,)\n",
      "(9,)\n",
      "(9,)\n",
      "(10,)\n",
      "(10,)\n",
      "(10,)\n",
      "(11,)\n",
      "(11,)\n",
      "(11,)\n",
      "(12,)\n",
      "(12,)\n",
      "(12,)\n",
      "(13,)\n",
      "(13,)\n",
      "(13,)\n",
      "(14,)\n",
      "(14,)\n",
      "(14,)\n",
      "(15,)\n",
      "(15,)\n",
      "(15,)\n",
      ">> Quake_10x_Limb_Muscle\n",
      "(2,)\n",
      "(2,)\n",
      "(2,)\n",
      "(3,)\n",
      "(3,)\n",
      "(3,)\n",
      "(4,)\n",
      "(4,)\n",
      "(4,)\n",
      "(5,)\n",
      "(5,)\n",
      "(5,)\n",
      "(6,)\n",
      "(6,)\n",
      "(6,)\n",
      "(7,)\n",
      "(7,)\n",
      "(7,)\n",
      "(8,)\n",
      "(8,)\n",
      "(8,)\n",
      "(9,)\n",
      "(9,)\n",
      "(9,)\n",
      "(10,)\n",
      "(10,)\n",
      "(10,)\n",
      ">> worm_neuron_cell\n",
      "(5,)\n",
      "(5,)\n",
      "(5,)\n",
      "(6,)\n",
      "(6,)\n",
      "(6,)\n",
      "(7,)\n",
      "(7,)\n",
      "(7,)\n",
      "(8,)\n",
      "(8,)\n",
      "(8,)\n",
      "(9,)\n",
      "(9,)\n",
      "(9,)\n",
      "(10,)\n",
      "(10,)\n",
      "(10,)\n",
      "(11,)\n",
      "(11,)\n",
      "(11,)\n",
      "(12,)\n",
      "(12,)\n",
      "(12,)\n",
      "(13,)\n",
      "(13,)\n",
      "(13,)\n",
      "(14,)\n",
      "(14,)\n",
      "(14,)\n",
      ">> mouse_bladder_cell\n",
      "(11,)\n",
      "(11,)\n",
      "(11,)\n",
      "(12,)\n",
      "(12,)\n",
      "(12,)\n",
      "(13,)\n",
      "(13,)\n",
      "(13,)\n",
      "(14,)\n",
      "(14,)\n",
      "(14,)\n",
      "(15,)\n",
      "(15,)\n",
      "(15,)\n",
      "(16,)\n",
      "(16,)\n",
      "(16,)\n",
      "(17,)\n",
      "(17,)\n",
      "(17,)\n",
      "(18,)\n",
      "(18,)\n",
      "(18,)\n",
      "(19,)\n",
      "(19,)\n",
      "(19,)\n",
      "(20,)\n",
      "(20,)\n",
      "(20,)\n",
      ">> Romanov\n",
      "(2,)\n",
      "(2,)\n",
      "(2,)\n",
      "(3,)\n",
      "(3,)\n",
      "(3,)\n",
      "(4,)\n",
      "(4,)\n",
      "(4,)\n",
      "(5,)\n",
      "(5,)\n",
      "(5,)\n",
      "(6,)\n",
      "(6,)\n",
      "(6,)\n",
      "(7,)\n",
      "(7,)\n",
      "(7,)\n",
      "(8,)\n",
      "(8,)\n",
      "(8,)\n",
      "(9,)\n",
      "(9,)\n",
      "(9,)\n",
      "(10,)\n",
      "(10,)\n",
      "(10,)\n",
      "(11,)\n",
      "(11,)\n",
      "(11,)\n",
      ">> Quake_Smart-seq2_Limb_Muscle\n",
      "(2,)\n",
      "(2,)\n",
      "(2,)\n",
      "(3,)\n",
      "(3,)\n",
      "(3,)\n",
      "(4,)\n",
      "(4,)\n",
      "(4,)\n",
      "(5,)\n",
      "(5,)\n",
      "(5,)\n",
      "(6,)\n",
      "(6,)\n",
      "(6,)\n",
      "(7,)\n",
      "(7,)\n",
      "(7,)\n",
      "(8,)\n",
      "(8,)\n",
      "(8,)\n",
      "(9,)\n",
      "(9,)\n",
      "(9,)\n",
      "(10,)\n",
      "(10,)\n",
      "(10,)\n",
      ">> Muraro\n",
      "(4,)\n",
      "(4,)\n",
      "(4,)\n",
      "(5,)\n",
      "(5,)\n",
      "(5,)\n",
      "(6,)\n",
      "(6,)\n",
      "(6,)\n",
      "(7,)\n",
      "(7,)\n",
      "(7,)\n",
      "(8,)\n",
      "(8,)\n",
      "(8,)\n",
      "(9,)\n",
      "(9,)\n",
      "(9,)\n",
      "(10,)\n",
      "(10,)\n",
      "(10,)\n",
      "(11,)\n",
      "(11,)\n",
      "(11,)\n",
      "(12,)\n",
      "(12,)\n",
      "(12,)\n",
      "(13,)\n",
      "(13,)\n",
      "(13,)\n",
      ">> 10X_PBMC\n",
      "(3,)\n",
      "(3,)\n",
      "(3,)\n",
      "(4,)\n",
      "(4,)\n",
      "(4,)\n",
      "(5,)\n",
      "(5,)\n",
      "(5,)\n",
      "(6,)\n",
      "(6,)\n",
      "(6,)\n",
      "(7,)\n",
      "(7,)\n",
      "(7,)\n",
      "(8,)\n",
      "(8,)\n",
      "(8,)\n",
      "(9,)\n",
      "(9,)\n",
      "(9,)\n",
      "(10,)\n",
      "(10,)\n",
      "(10,)\n",
      "(11,)\n",
      "(11,)\n",
      "(11,)\n",
      "(12,)\n",
      "(12,)\n",
      "(12,)\n",
      "\n"
     ]
    }
   ],
   "source": [
    "r = pd.DataFrame(columns = [\"dataset\", \"n_clust\", \"ari\", \"nmi\", \"bic\", \"aic\" ])\n",
    "for dataset in tqdm(files):\n",
    "    print(\">>\", dataset)\n",
    "    data_mat = h5py.File(f\"{path}/real_data/{dataset}.h5\",\"r\")\n",
    "    Y = np.array(data_mat['Y'])\n",
    "\n",
    "    cluster_number = np.unique(Y).shape[0]\n",
    "    candidates = np.arange(-5, 5)\n",
    "    for candidate in candidates:\n",
    "        n_clust = candidate + cluster_number\n",
    "        if n_clust<2:\n",
    "            continue\n",
    "        \n",
    "        features = df[df[\"dataset\"] == dataset][\"features\"].values\n",
    "\n",
    "        for i in range(len(features)):\n",
    "            embedding = features[i]\n",
    "#             print(f\"Embedding shape {embedding.shape}\")\n",
    "\n",
    "            gmm = mixture.GaussianMixture(n_components=n_clust, init_params='kmeans')\n",
    "            gmm.fit(embedding)\n",
    "            pred = gmm.predict(embedding)\n",
    "            print(np.unique(pred).shape)\n",
    "            ari = adjusted_rand_score(Y, pred)\n",
    "            nmi = normalized_mutual_info_score(Y, pred)\n",
    "            bic , aic = gmm.bic(embedding), gmm.aic(embedding)\n",
    "            r.loc[r.shape[0]]=[dataset, candidate, ari, nmi, bic, aic]"
   ]
  },
  {
   "cell_type": "code",
   "execution_count": 29,
   "metadata": {},
   "outputs": [],
   "source": [
    "r.to_pickle(f\"../output/pickle_results/{category}/{category}_aic_bic.pkl\")"
   ]
  },
  {
   "cell_type": "code",
   "execution_count": 30,
   "metadata": {},
   "outputs": [
    {
     "data": {
      "text/html": [
       "<div>\n",
       "<style scoped>\n",
       "    .dataframe tbody tr th:only-of-type {\n",
       "        vertical-align: middle;\n",
       "    }\n",
       "\n",
       "    .dataframe tbody tr th {\n",
       "        vertical-align: top;\n",
       "    }\n",
       "\n",
       "    .dataframe thead th {\n",
       "        text-align: right;\n",
       "    }\n",
       "</style>\n",
       "<table border=\"1\" class=\"dataframe\">\n",
       "  <thead>\n",
       "    <tr style=\"text-align: right;\">\n",
       "      <th></th>\n",
       "      <th>dataset</th>\n",
       "      <th>n_clust</th>\n",
       "      <th>ari</th>\n",
       "      <th>nmi</th>\n",
       "      <th>bic</th>\n",
       "      <th>aic</th>\n",
       "    </tr>\n",
       "  </thead>\n",
       "  <tbody>\n",
       "    <tr>\n",
       "      <th>0</th>\n",
       "      <td>Quake_Smart-seq2_Trachea</td>\n",
       "      <td>-2</td>\n",
       "      <td>0.412084</td>\n",
       "      <td>0.537158</td>\n",
       "      <td>-1.245158e+06</td>\n",
       "      <td>-1.718558e+06</td>\n",
       "    </tr>\n",
       "    <tr>\n",
       "      <th>1</th>\n",
       "      <td>Quake_Smart-seq2_Trachea</td>\n",
       "      <td>-2</td>\n",
       "      <td>0.412084</td>\n",
       "      <td>0.537158</td>\n",
       "      <td>-1.248280e+06</td>\n",
       "      <td>-1.721679e+06</td>\n",
       "    </tr>\n",
       "    <tr>\n",
       "      <th>2</th>\n",
       "      <td>Quake_Smart-seq2_Trachea</td>\n",
       "      <td>-2</td>\n",
       "      <td>-0.047748</td>\n",
       "      <td>0.041616</td>\n",
       "      <td>-1.222524e+06</td>\n",
       "      <td>-1.695924e+06</td>\n",
       "    </tr>\n",
       "    <tr>\n",
       "      <th>3</th>\n",
       "      <td>Quake_Smart-seq2_Trachea</td>\n",
       "      <td>-1</td>\n",
       "      <td>0.641569</td>\n",
       "      <td>0.734684</td>\n",
       "      <td>-1.110557e+06</td>\n",
       "      <td>-1.820659e+06</td>\n",
       "    </tr>\n",
       "    <tr>\n",
       "      <th>4</th>\n",
       "      <td>Quake_Smart-seq2_Trachea</td>\n",
       "      <td>-1</td>\n",
       "      <td>0.395498</td>\n",
       "      <td>0.511118</td>\n",
       "      <td>-1.052072e+06</td>\n",
       "      <td>-1.762174e+06</td>\n",
       "    </tr>\n",
       "  </tbody>\n",
       "</table>\n",
       "</div>"
      ],
      "text/plain": [
       "                    dataset n_clust       ari       nmi           bic  \\\n",
       "0  Quake_Smart-seq2_Trachea      -2  0.412084  0.537158 -1.245158e+06   \n",
       "1  Quake_Smart-seq2_Trachea      -2  0.412084  0.537158 -1.248280e+06   \n",
       "2  Quake_Smart-seq2_Trachea      -2 -0.047748  0.041616 -1.222524e+06   \n",
       "3  Quake_Smart-seq2_Trachea      -1  0.641569  0.734684 -1.110557e+06   \n",
       "4  Quake_Smart-seq2_Trachea      -1  0.395498  0.511118 -1.052072e+06   \n",
       "\n",
       "            aic  \n",
       "0 -1.718558e+06  \n",
       "1 -1.721679e+06  \n",
       "2 -1.695924e+06  \n",
       "3 -1.820659e+06  \n",
       "4 -1.762174e+06  "
      ]
     },
     "execution_count": 30,
     "metadata": {},
     "output_type": "execute_result"
    }
   ],
   "source": [
    "r.head()"
   ]
  },
  {
   "cell_type": "code",
   "execution_count": 62,
   "metadata": {},
   "outputs": [],
   "source": [
    "\n",
    "res = pd.DataFrame(columns = [\"BIC\", \"AIC\", \"True nb clusters\"])\n",
    "res_clust = pd.DataFrame(columns = [\"BIC\", \"AIC\"])\n",
    "for dataset, g in r.groupby(\"dataset\"):\n",
    "    bic = g.sort_values(by = \"bic\")[\"ari\"].values[-1]\n",
    "    n_clust_bic = g.sort_values(by = \"bic\")[\"n_clust\"].values[-1]\n",
    "    aic = g.sort_values(by = \"aic\")[\"ari\"].values[0]\n",
    "    true = g[g[\"n_clust\"] == 0].sort_values(by = \"ari\")[\"ari\"].values[-1]\n",
    "    n_clust_aic = g.sort_values(by = \"aic\")[\"n_clust\"].values[0]\n",
    "    res.loc[res.shape[0]] = [bic, aic, true]\n",
    "    res_clust.loc[res_clust.shape[0]] = [n_clust_bic, n_clust_aic]"
   ]
  },
  {
   "cell_type": "code",
   "execution_count": 63,
   "metadata": {},
   "outputs": [],
   "source": [
    "r1 = pd.melt(res)\n",
    "r2 = pd.melt(res_clust)"
   ]
  },
  {
   "cell_type": "code",
   "execution_count": 67,
   "metadata": {},
   "outputs": [
    {
     "data": {
      "image/png": "[encoded data removed]",
      "text/plain": [
       "<Figure size 720x360 with 2 Axes>"
      ]
     },
     "metadata": {
      "needs_background": "light"
     },
     "output_type": "display_data"
    }
   ],
   "source": [
    "plt.figure(figsize = (10, 5))\n",
    "ax = plt.subplot(121)\n",
    "sns.boxplot(data = r1, x = \"variable\", y = \"value\")\n",
    "sns.despine()\n",
    "plt.ylabel(\"ARI\")\n",
    "plt.xlabel(\"Method\")\n",
    "plt.title(\"(a) ARI scores for optimal number of clusters\", fontweight = \"bold\")\n",
    "\n",
    "ax = plt.subplot(122)\n",
    "sns.swarmplot(data = r2, x = \"variable\", y = \"value\")\n",
    "sns.despine()\n",
    "plt.xlabel(\"Method\")\n",
    "plt.ylabel(\"Optimal number of clusters relative to ground truth\")\n",
    "plt.title(\"(b) Optimal number of clusters relative to ground truth\", fontweight = \"bold\")\n",
    "plt.tight_layout()\n",
    "plt.savefig(f\"../diagrams/bic.pdf\", bbox_inches='tight')"
   ]
  },
  {
   "cell_type": "code",
   "execution_count": null,
   "metadata": {},
   "outputs": [],
   "source": []
  },
  {
   "cell_type": "markdown",
   "metadata": {},
   "source": [
    "# Run other clustering algorithms"
   ]
  },
  {
   "cell_type": "code",
   "execution_count": 3,
   "metadata": {},
   "outputs": [],
   "source": [
    "df = pd.read_pickle(f\"../output/pickle_results/{category}/{category}_gae_features.pkl\")"
   ]
  },
  {
   "cell_type": "code",
   "execution_count": 18,
   "metadata": {},
   "outputs": [],
   "source": [
    "aris = pd.DataFrame(columns= [\"Dataset\", \"Method\", \"run\", \"score\", \"time\"])\n",
    "nmis = pd.DataFrame(columns= [\"Dataset\", \"Method\", \"run\", \"score\", \"time\"])\n",
    "sils = pd.DataFrame(columns= [\"Dataset\", \"Method\", \"run\", \"score\", \"time\"])\n",
    "cals = pd.DataFrame(columns= [\"Dataset\", \"Method\", \"run\", \"score\", \"time\"])\n",
    "\n",
    "def add_scores(Y, pred, embedding, i, t, method=\"KMeans\"):\n",
    "    score = adjusted_rand_score(Y, pred)\n",
    "    aris.loc[aris.shape[0]] = [dataset, method, i, score, t]\n",
    "    score = normalized_mutual_info_score(Y, pred)\n",
    "    nmis.loc[nmis.shape[0]] = [dataset, method, i, score, t]\n",
    "    score = silhouette_score(embedding, pred)\n",
    "    sils.loc[sils.shape[0]] = [dataset, method, i, score, t]\n",
    "    score = calinski_harabasz_score(embedding, pred)\n",
    "    cals.loc[cals.shape[0]] = [dataset, method, i, score, t]"
   ]
  },
  {
   "cell_type": "code",
   "execution_count": 19,
   "metadata": {
    "scrolled": true
   },
   "outputs": [
    {
     "name": "stdout",
     "output_type": "stream",
     "text": [
      ">> Quake_Smart-seq2_Trachea\n",
      "Embedding shape (1350, 300)\n",
      ".\n",
      ". (1350, 50)\n",
      ".\n",
      ".\n",
      ".\n",
      "##\n",
      "Embedding shape (1350, 300)\n",
      ".\n",
      ". (1350, 50)\n",
      ".\n",
      ".\n",
      ".\n",
      "##\n",
      "Embedding shape (1350, 300)\n",
      ".\n",
      ". (1350, 50)\n",
      ".\n",
      ".\n",
      ".\n",
      "##\n",
      ">> Quake_Smart-seq2_Diaphragm\n",
      "Embedding shape (870, 300)\n",
      ".\n",
      ". (870, 50)\n",
      ".\n",
      ".\n",
      ".\n",
      "##\n",
      "Embedding shape (870, 300)\n",
      ".\n",
      ". (870, 50)\n",
      ".\n",
      ".\n",
      ".\n",
      "##\n",
      "Embedding shape (870, 300)\n",
      ".\n",
      ". (870, 50)\n",
      ".\n",
      ".\n",
      ".\n",
      "##\n",
      ">> Quake_10x_Spleen\n",
      "Embedding shape (9552, 300)\n",
      ".\n",
      ". (9552, 50)\n",
      ".\n",
      ".\n",
      ".\n",
      "##\n",
      "Embedding shape (9552, 300)\n",
      ".\n",
      ". (9552, 50)\n",
      ".\n",
      ".\n",
      ".\n",
      "##\n",
      "Embedding shape (9552, 300)\n",
      ".\n",
      ". (9552, 50)\n",
      ".\n",
      ".\n",
      ".\n",
      "##\n",
      ">> Young\n",
      "Embedding shape (5685, 300)\n",
      ".\n",
      ". (5685, 50)\n",
      ".\n",
      ".\n",
      ".\n",
      "##\n",
      "Embedding shape (5685, 300)\n",
      ".\n",
      ". (5685, 50)\n",
      ".\n",
      ".\n",
      ".\n",
      "##\n",
      "Embedding shape (5685, 300)\n",
      ".\n",
      ". (5685, 50)\n",
      ".\n",
      ".\n",
      ".\n",
      "##\n",
      ">> mouse_ES_cell\n",
      "Embedding shape (2717, 300)\n",
      ".\n",
      ". (2717, 50)\n",
      ".\n",
      ".\n",
      ".\n",
      "##\n",
      "Embedding shape (2717, 300)\n",
      ".\n",
      ". (2717, 50)\n",
      ".\n",
      ".\n",
      ".\n",
      "##\n",
      "Embedding shape (2717, 300)\n",
      ".\n",
      ". (2717, 50)\n",
      ".\n",
      ".\n",
      ".\n",
      "##\n",
      ">> Adam\n",
      "Embedding shape (3660, 300)\n",
      ".\n",
      ". (3660, 50)\n",
      ".\n",
      ".\n",
      ".\n",
      "##\n",
      "Embedding shape (3660, 300)\n",
      ".\n",
      ". (3660, 50)\n",
      ".\n",
      ".\n",
      ".\n",
      "##\n",
      "Embedding shape (3660, 300)\n",
      ".\n",
      ". (3660, 50)\n",
      ".\n",
      ".\n",
      ".\n",
      "##\n",
      ">> Quake_10x_Bladder\n",
      "Embedding shape (2500, 300)\n",
      ".\n",
      ". (2500, 50)\n",
      ".\n",
      ".\n",
      ".\n",
      "##\n",
      "Embedding shape (2500, 300)\n",
      ".\n",
      ". (2500, 50)\n",
      ".\n",
      ".\n",
      ".\n",
      "##\n",
      "Embedding shape (2500, 300)\n",
      ".\n",
      ". (2500, 50)\n",
      ".\n",
      ".\n",
      ".\n",
      "##\n",
      ">> Quake_Smart-seq2_Lung\n",
      "Embedding shape (1676, 300)\n",
      ".\n",
      ". (1676, 50)\n",
      ".\n",
      ".\n",
      ".\n",
      "##\n",
      "Embedding shape (1676, 300)\n",
      ".\n",
      ". (1676, 50)\n",
      ".\n",
      ".\n",
      ".\n",
      "##\n",
      "Embedding shape (1676, 300)\n",
      ".\n",
      ". (1676, 50)\n",
      ".\n",
      ".\n",
      ".\n",
      "##\n",
      ">> Quake_10x_Limb_Muscle\n",
      "Embedding shape (3909, 300)\n",
      ".\n",
      ". (3909, 50)\n",
      ".\n",
      ".\n",
      ".\n",
      "##\n",
      "Embedding shape (3909, 300)\n",
      ".\n",
      ". (3909, 50)\n",
      ".\n",
      ".\n",
      ".\n",
      "##\n",
      "Embedding shape (3909, 300)\n",
      ".\n",
      ". (3909, 50)\n",
      ".\n",
      ".\n",
      ".\n",
      "##\n",
      ">> worm_neuron_cell\n",
      "Embedding shape (4186, 300)\n",
      ".\n",
      ". (4186, 50)\n",
      ".\n",
      ".\n",
      ".\n",
      "##\n",
      "Embedding shape (4186, 300)\n",
      ".\n",
      ". (4186, 50)\n",
      ".\n",
      ".\n",
      ".\n",
      "##\n",
      "Embedding shape (4186, 300)\n",
      ".\n",
      ". (4186, 50)\n",
      ".\n",
      ".\n",
      ".\n",
      "##\n",
      ">> mouse_bladder_cell\n",
      "Embedding shape (2746, 300)\n",
      ".\n",
      ". (2746, 50)\n",
      ".\n",
      ".\n",
      ".\n",
      "##\n",
      "Embedding shape (2746, 300)\n",
      ".\n",
      ". (2746, 50)\n",
      ".\n",
      ".\n",
      ".\n",
      "##\n",
      "Embedding shape (2746, 300)\n",
      ".\n",
      ". (2746, 50)\n",
      ".\n",
      ".\n",
      ".\n",
      "##\n",
      ">> Romanov\n",
      "Embedding shape (2881, 300)\n",
      ".\n",
      ". (2881, 50)\n",
      ".\n",
      ".\n",
      ".\n",
      "##\n",
      "Embedding shape (2881, 300)\n",
      ".\n",
      ". (2881, 50)\n",
      ".\n",
      ".\n",
      ".\n",
      "##\n",
      "Embedding shape (2881, 300)\n",
      ".\n",
      ". (2881, 50)\n",
      ".\n",
      ".\n",
      ".\n",
      "##\n",
      ">> Quake_Smart-seq2_Limb_Muscle\n",
      "Embedding shape (1090, 300)\n",
      ".\n",
      ". (1090, 50)\n",
      ".\n",
      ".\n",
      ".\n",
      "##\n",
      "Embedding shape (1090, 300)\n",
      ".\n",
      ". (1090, 50)\n",
      ".\n",
      ".\n",
      ".\n",
      "##\n",
      "Embedding shape (1090, 300)\n",
      ".\n",
      ". (1090, 50)\n",
      ".\n",
      ".\n",
      ".\n",
      "##\n",
      ">> Muraro\n",
      "Embedding shape (2122, 300)\n",
      ".\n",
      ". (2122, 50)\n",
      ".\n",
      ".\n",
      ".\n",
      "##\n",
      "Embedding shape (2122, 300)\n",
      ".\n",
      ". (2122, 50)\n",
      ".\n",
      ".\n",
      ".\n",
      "##\n",
      "Embedding shape (2122, 300)\n",
      ".\n",
      ". (2122, 50)\n",
      ".\n",
      ".\n",
      ".\n",
      "##\n",
      ">> 10X_PBMC\n",
      "Embedding shape (4271, 300)\n",
      ".\n",
      ". (4271, 50)\n",
      ".\n",
      ".\n",
      ".\n",
      "##\n",
      "Embedding shape (4271, 300)\n",
      ".\n",
      ". (4271, 50)\n",
      ".\n",
      ".\n",
      ".\n",
      "##\n",
      "Embedding shape (4271, 300)\n",
      ".\n",
      ". (4271, 50)\n",
      ".\n",
      ".\n",
      ".\n",
      "##\n"
     ]
    }
   ],
   "source": [
    "for dataset in files:\n",
    "    print(\">>\", dataset)\n",
    "    data_mat = h5py.File(f\"{path}/real_data/{dataset}.h5\",\"r\")\n",
    "    Y = np.array(data_mat['Y'])\n",
    "\n",
    "    cluster_number = np.unique(Y).shape[0]\n",
    "\n",
    "    features = df[df[\"dataset\"] == dataset][\"features\"].values\n",
    "\n",
    "    for i in range(len(features)):\n",
    "\n",
    "\n",
    "        embedding = features[i]\n",
    "        print(f\"Embedding shape {embedding.shape}\")\n",
    "        \n",
    "        t0 = time.time()\n",
    "        kmeans = KMeans(n_clusters=cluster_number,\n",
    "                        init=\"k-means++\",\n",
    "                        random_state=5)\n",
    "        pred = kmeans.fit_predict(embedding)\n",
    "        t = time.time() -t0\n",
    "        add_scores(Y, pred, embedding, i, t, method=\"KMeans\")\n",
    "        \n",
    "        \n",
    "        t0 = time.time()\n",
    "        gmm = mixture.GaussianMixture(n_components=cluster_number)\n",
    "        gmm.fit(embedding)\n",
    "        pred = gmm.predict(embedding)\n",
    "        t = time.time() -t0\n",
    "        add_scores(Y, pred, embedding, i, t, method=\"GMM\")\n",
    "        print(\".\")\n",
    "        \n",
    "        \n",
    "        embedding = PCA(n_components = 50).fit_transform(embedding)\n",
    "        print(\".\", embedding.shape)\n",
    "        t0 = time.time()\n",
    "        pred = train.run_leiden(embedding, leiden_n_neighbors=300)\n",
    "        t = time.time() -t0\n",
    "        add_scores(Y, pred, embedding, i, t, method=\"Leiden\")\n",
    "\n",
    "        print(\".\")\n",
    "        t0 = time.time()\n",
    "        ward = AgglomerativeClustering(n_clusters=cluster_number, linkage='ward')\n",
    "        ward.fit(embedding)\n",
    "        pred = ward.labels_\n",
    "        t = time.time() -t0\n",
    "        add_scores(Y, pred, embedding, i, t, method=\"Ward Hierarchical Clust\")\n",
    "        print(\".\")\n",
    "\n",
    "        t0 = time.time()\n",
    "        model = Birch(n_clusters=cluster_number)\n",
    "        pred = gmm.fit_predict(embedding)\n",
    "        t = time.time() -t0\n",
    "        add_scores(Y, pred, embedding, i, t, method=\"Birch\")\n",
    "        print(\".\")\n",
    "        t0 = time.time()\n",
    "        ms = MeanShift()\n",
    "        ms.fit(embedding)\n",
    "        pred = ms.labels_\n",
    "        t = time.time() -t0\n",
    "        add_scores(Y, pred, embedding, i, t, method=\"Mean Shift\")\n",
    "        print(\"##\")"
   ]
  },
  {
   "cell_type": "code",
   "execution_count": 5,
   "metadata": {},
   "outputs": [
    {
     "ename": "NameError",
     "evalue": "name 'aris' is not defined",
     "output_type": "error",
     "traceback": [
      "\u001b[0;31m---------------------------------------------------------------------------\u001b[0m",
      "\u001b[0;31mNameError\u001b[0m                                 Traceback (most recent call last)",
      "\u001b[0;32m<ipython-input-5-de36f41ed35c>\u001b[0m in \u001b[0;36m<module>\u001b[0;34m\u001b[0m\n\u001b[0;32m----> 1\u001b[0;31m \u001b[0maris\u001b[0m\u001b[0;34m.\u001b[0m\u001b[0mto_pickle\u001b[0m\u001b[0;34m(\u001b[0m\u001b[0;34mf\"../output/pickle_results/{category}/{category}_compare_aris.pkl\"\u001b[0m\u001b[0;34m)\u001b[0m\u001b[0;34m\u001b[0m\u001b[0;34m\u001b[0m\u001b[0m\n\u001b[0m\u001b[1;32m      2\u001b[0m \u001b[0;34m\u001b[0m\u001b[0m\n\u001b[1;32m      3\u001b[0m \u001b[0mnmis\u001b[0m\u001b[0;34m.\u001b[0m\u001b[0mto_pickle\u001b[0m\u001b[0;34m(\u001b[0m\u001b[0;34mf\"../output/pickle_results/{category}/{category}_compare_nmis.pkl\"\u001b[0m\u001b[0;34m)\u001b[0m\u001b[0;34m\u001b[0m\u001b[0;34m\u001b[0m\u001b[0m\n\u001b[1;32m      4\u001b[0m \u001b[0;34m\u001b[0m\u001b[0m\n\u001b[1;32m      5\u001b[0m \u001b[0msils\u001b[0m\u001b[0;34m.\u001b[0m\u001b[0mto_pickle\u001b[0m\u001b[0;34m(\u001b[0m\u001b[0;34mf\"../output/pickle_results/{category}/{category}_compare_sils.pkl\"\u001b[0m\u001b[0;34m)\u001b[0m\u001b[0;34m\u001b[0m\u001b[0;34m\u001b[0m\u001b[0m\n",
      "\u001b[0;31mNameError\u001b[0m: name 'aris' is not defined"
     ]
    }
   ],
   "source": [
    "aris.to_pickle(f\"../output/pickle_results/{category}/{category}_compare_aris.pkl\")\n",
    "\n",
    "nmis.to_pickle(f\"../output/pickle_results/{category}/{category}_compare_nmis.pkl\")\n",
    "\n",
    "sils.to_pickle(f\"../output/pickle_results/{category}/{category}_compare_sils.pkl\")\n",
    "\n",
    "cals.to_pickle(f\"../output/pickle_results/{category}/{category}_compare_cals.pkl\")"
   ]
  },
  {
   "cell_type": "code",
   "execution_count": 6,
   "metadata": {},
   "outputs": [],
   "source": [
    "aris= pd.read_pickle(f\"../output/pickle_results/{category}/{category}_compare_aris.pkl\")\n",
    "\n",
    "nmis= pd.read_pickle(f\"../output/pickle_results/{category}/{category}_compare_nmis.pkl\")\n",
    "\n",
    "sils= pd.read_pickle(f\"../output/pickle_results/{category}/{category}_compare_sils.pkl\")\n",
    "\n",
    "cals= pd.read_pickle(f\"../output/pickle_results/{category}/{category}_compare_cals.pkl\")"
   ]
  },
  {
   "cell_type": "code",
   "execution_count": 9,
   "metadata": {},
   "outputs": [
    {
     "data": {
      "text/plain": [
       "Method\n",
       "Birch                       0.229181\n",
       "GMM                         1.258048\n",
       "KMeans                      0.396875\n",
       "Leiden                      7.210098\n",
       "Mean Shift                 14.832126\n",
       "Ward Hierarchical Clust     0.437024\n",
       "Name: time, dtype: float64"
      ]
     },
     "execution_count": 9,
     "metadata": {},
     "output_type": "execute_result"
    }
   ],
   "source": [
    "nmis.groupby(\"Method\")[\"time\"].mean()"
   ]
  },
  {
   "cell_type": "code",
   "execution_count": 10,
   "metadata": {},
   "outputs": [
    {
     "data": {
      "text/plain": [
       "Method\n",
       "Birch                       0.577464\n",
       "GMM                         3.169885\n",
       "KMeans                      1.000000\n",
       "Leiden                     18.167177\n",
       "Mean Shift                 37.372286\n",
       "Ward Hierarchical Clust     1.101163\n",
       "Name: time, dtype: float64"
      ]
     },
     "execution_count": 10,
     "metadata": {},
     "output_type": "execute_result"
    }
   ],
   "source": [
    "nmis.groupby(\"Method\")[\"time\"].mean()/0.396875"
   ]
  },
  {
   "cell_type": "code",
   "execution_count": null,
   "metadata": {},
   "outputs": [],
   "source": []
  },
  {
   "cell_type": "code",
   "execution_count": 29,
   "metadata": {},
   "outputs": [],
   "source": [
    "datasets = [\n",
    "    'Quake_Smart-seq2_Trachea',\n",
    "    'Quake_10x_Bladder',\n",
    "    'Quake_10x_Spleen',\n",
    "    'Quake_Smart-seq2_Diaphragm',\n",
    "    'Quake_10x_Limb_Muscle',\n",
    "    'Quake_Smart-seq2_Limb_Muscle',\n",
    "    'Romanov',\n",
    "    'Adam',\n",
    "    'Muraro',\n",
    "    'Young',\n",
    "    'Quake_Smart-seq2_Lung',\n",
    "    '10X_PBMC',\n",
    "    'mouse_ES_cell',\n",
    "    'worm_neuron_cell',\n",
    "    'mouse_bladder_cell',\n",
    "]\n",
    "\n",
    "ordered_datasets = dict(zip(datasets, np.arange(len(datasets))))"
   ]
  },
  {
   "cell_type": "code",
   "execution_count": 30,
   "metadata": {},
   "outputs": [],
   "source": [
    "aris = aris.groupby([\"Dataset\", \"Method\"])[\"score\"].mean().unstack(\"Method\")[[\n",
    "    'KMeans', 'Leiden', 'Birch', 'GMM', 'Mean Shift', #'Spectral Clust',\n",
    "    'Ward Hierarchical Clust'\n",
    "]].round(2).reset_index()\n",
    "\n",
    "aris[\"ordered_dataset\"] = aris[\"Dataset\"].apply(lambda x: ordered_datasets[x])\n",
    "aris.sort_values(by=\"ordered_dataset\").to_excel(\n",
    "    f\"../output/pickle_results/{category}/{category}_compare_aris.xlsx\")"
   ]
  },
  {
   "cell_type": "code",
   "execution_count": null,
   "metadata": {},
   "outputs": [],
   "source": []
  },
  {
   "cell_type": "code",
   "execution_count": 31,
   "metadata": {},
   "outputs": [],
   "source": [
    "nmis = nmis.groupby([\"Dataset\", \"Method\"])[\"score\"].mean().unstack(\"Method\")[[\n",
    "    'KMeans', 'Leiden', 'Birch', 'GMM', 'Mean Shift', #'Spectral Clust',\n",
    "    'Ward Hierarchical Clust'\n",
    "]].round(2).reset_index()\n",
    "nmis[\"ordered_dataset\"] = nmis[\"Dataset\"].apply(lambda x: ordered_datasets[x])\n",
    "nmis.sort_values(by=\"ordered_dataset\").to_excel(\n",
    "    f\"../output/pickle_results/{category}/{category}_compare_nmis.xlsx\")"
   ]
  },
  {
   "cell_type": "code",
   "execution_count": 32,
   "metadata": {},
   "outputs": [],
   "source": [
    "sils = sils.groupby([\"Dataset\", \"Method\"])[\"score\"].mean().unstack(\"Method\")[[\n",
    "    'KMeans', 'Leiden', 'Birch', 'GMM', 'Mean Shift', #'Spectral Clust',\n",
    "    'Ward Hierarchical Clust'\n",
    "]].round(2).reset_index()\n",
    "sils[\"ordered_dataset\"] = sils[\"Dataset\"].apply(lambda x: ordered_datasets[x])\n",
    "sils.sort_values(by=\"ordered_dataset\").to_excel(\n",
    "    f\"../output/pickle_results/{category}/{category}_compare_sils.xlsx\")"
   ]
  },
  {
   "cell_type": "code",
   "execution_count": 33,
   "metadata": {},
   "outputs": [],
   "source": [
    "cals = cals.groupby([\"Dataset\", \"Method\"])[\"score\"].mean().unstack(\"Method\")[[\n",
    "    'KMeans', 'Leiden', 'Birch', 'GMM', 'Mean Shift', #'Spectral Clust',\n",
    "    'Ward Hierarchical Clust'\n",
    "]].round(2).reset_index()\n",
    "cals[\"ordered_dataset\"] = cals[\"Dataset\"].apply(lambda x: ordered_datasets[x])\n",
    "cals.sort_values(by=\"ordered_dataset\").to_excel(\n",
    "    f\"../output/pickle_results/{category}/{category}_compare_cals.xlsx\")"
   ]
  },
  {
   "cell_type": "code",
   "execution_count": 34,
   "metadata": {},
   "outputs": [
    {
     "data": {
      "text/plain": [
       "Method\n",
       "KMeans                     0.78\n",
       "Leiden                     0.52\n",
       "Birch                      0.75\n",
       "GMM                        0.71\n",
       "Mean Shift                 0.45\n",
       "Ward Hierarchical Clust    0.77\n",
       "ordered_dataset            7.00\n",
       "dtype: float64"
      ]
     },
     "execution_count": 34,
     "metadata": {},
     "output_type": "execute_result"
    }
   ],
   "source": [
    "aris.mean().round(2)"
   ]
  },
  {
   "cell_type": "code",
   "execution_count": 35,
   "metadata": {},
   "outputs": [
    {
     "data": {
      "text/plain": [
       "Method\n",
       "KMeans                     0.82\n",
       "Leiden                     0.72\n",
       "Birch                      0.79\n",
       "GMM                        0.77\n",
       "Mean Shift                 0.58\n",
       "Ward Hierarchical Clust    0.81\n",
       "ordered_dataset            7.00\n",
       "dtype: float64"
      ]
     },
     "execution_count": 35,
     "metadata": {},
     "output_type": "execute_result"
    }
   ],
   "source": [
    "nmis.mean().round(2)"
   ]
  },
  {
   "cell_type": "code",
   "execution_count": 36,
   "metadata": {},
   "outputs": [
    {
     "data": {
      "text/plain": [
       "Method\n",
       "KMeans                     0.48\n",
       "Leiden                     0.32\n",
       "Birch                      0.47\n",
       "GMM                        0.43\n",
       "Mean Shift                 0.43\n",
       "Ward Hierarchical Clust    0.48\n",
       "ordered_dataset            7.00\n",
       "dtype: float64"
      ]
     },
     "execution_count": 36,
     "metadata": {},
     "output_type": "execute_result"
    }
   ],
   "source": [
    "sils.mean().round(2)"
   ]
  },
  {
   "cell_type": "code",
   "execution_count": 37,
   "metadata": {},
   "outputs": [
    {
     "data": {
      "text/plain": [
       "Method\n",
       "KMeans                     1764.95\n",
       "Leiden                     1157.58\n",
       "Birch                      1621.41\n",
       "GMM                        1518.38\n",
       "Mean Shift                  244.48\n",
       "Ward Hierarchical Clust    1746.65\n",
       "ordered_dataset               7.00\n",
       "dtype: float64"
      ]
     },
     "execution_count": 37,
     "metadata": {},
     "output_type": "execute_result"
    }
   ],
   "source": [
    "cals.mean().round(2)"
   ]
  },
  {
   "cell_type": "code",
   "execution_count": null,
   "metadata": {},
   "outputs": [],
   "source": []
  },
  {
   "cell_type": "code",
   "execution_count": 1,
   "metadata": {},
   "outputs": [],
   "source": [
    "# !pip install openpyxl"
   ]
  },
  {
   "cell_type": "code",
   "execution_count": null,
   "metadata": {},
   "outputs": [],
   "source": []
  }
 ],
 "metadata": {
  "kernelspec": {
   "display_name": "Python 3",
   "language": "python",
   "name": "python3"
  },
  "language_info": {
   "codemirror_mode": {
    "name": "ipython",
    "version": 3
   },
   "file_extension": ".py",
   "mimetype": "text/x-python",
   "name": "python",
   "nbconvert_exporter": "python",
   "pygments_lexer": "ipython3",
   "version": "3.7.4"
  }
 },
 "nbformat": 4,
 "nbformat_minor": 4
}
