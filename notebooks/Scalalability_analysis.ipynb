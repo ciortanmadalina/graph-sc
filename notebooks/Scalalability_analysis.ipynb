{
 "cells": [
  {
   "cell_type": "markdown",
   "metadata": {},
   "source": [
    "Original implementation of Contrastive-sc method\n",
    "(https://github.com/ciortanmadalina/contrastive-sc)"
   ]
  },
  {
   "cell_type": "code",
   "execution_count": 1,
   "metadata": {},
   "outputs": [
    {
     "name": "stderr",
     "output_type": "stream",
     "text": [
      "Using backend: pytorch\n",
      "/opt/conda/lib/python3.7/site-packages/dgl/base.py:45: DGLWarning: Detected an old version of PyTorch. Suggest using torch>=1.5.0 for the best experience.\n",
      "  return warnings.warn(message, category=category, stacklevel=1)\n",
      "/opt/conda/lib/python3.7/site-packages/scanpy/api/__init__.py:7: FutureWarning: \n",
      "\n",
      "In a future version of Scanpy, `scanpy.api` will be removed.\n",
      "Simply use `import scanpy as sc` and `import scanpy.external as sce` instead.\n",
      "\n",
      "  FutureWarning,\n"
     ]
    }
   ],
   "source": [
    "import sys\n",
    "sys.path.append(\"..\")\n",
    "import argparse\n",
    "import numpy as np\n",
    "import dgl\n",
    "from dgl import DGLGraph\n",
    "import torch\n",
    "import torch.nn.functional as F\n",
    "import time\n",
    "import matplotlib.pyplot as plt\n",
    "import pandas as pd\n",
    "from tqdm import tqdm\n",
    "from collections import Counter\n",
    "import pickle\n",
    "import h5py\n",
    "import random\n",
    "import glob2\n",
    "import seaborn as sns\n",
    "\n",
    "import train\n",
    "import models\n",
    "\n",
    "%load_ext autoreload\n",
    "%autoreload 2\n",
    "\n",
    "random.seed(42)\n",
    "np.random.seed(42)\n",
    "torch.manual_seed(42)\n",
    "torch.cuda.manual_seed(42)\n",
    "device = train.get_device()"
   ]
  },
  {
   "cell_type": "code",
   "execution_count": 2,
   "metadata": {},
   "outputs": [
    {
     "name": "stdout",
     "output_type": "stream",
     "text": [
      "['Quake_Smart-seq2_Trachea', 'Quake_Smart-seq2_Diaphragm', 'Quake_10x_Spleen', 'Young', 'mouse_ES_cell', 'Adam', 'Quake_10x_Bladder', 'Quake_Smart-seq2_Lung', 'Quake_10x_Limb_Muscle', 'worm_neuron_cell', 'mouse_bladder_cell', 'Romanov', 'Quake_Smart-seq2_Limb_Muscle', 'Muraro', '10X_PBMC']\n"
     ]
    }
   ],
   "source": [
    "category = \"real_data\"\n",
    "\n",
    "epochs = 10\n",
    "batch_size = 128 \n",
    "pca_size = 50\n",
    "path = \"../\"\n",
    "files = glob2.glob(f'{path}real_data/*.h5')\n",
    "files = [f[len(f\"'{path}real_data\"):-3] for f in files]\n",
    "print(files)\n",
    "nb_genes =2000"
   ]
  },
  {
   "cell_type": "code",
   "execution_count": 3,
   "metadata": {},
   "outputs": [],
   "source": [
    "# in this analysis we are only interested in the computational cost\n",
    "# we choose one of the simulated datasets for facility to reshape\n",
    "path = \"../\"\n",
    "dataset = 'Quake_Smart-seq2_Diaphragm'\n",
    "pca_size = 50\n",
    "batch_size = 128\n",
    "device = train.get_device()\n",
    "epochs= 10"
   ]
  },
  {
   "cell_type": "code",
   "execution_count": null,
   "metadata": {},
   "outputs": [],
   "source": [
    "results = pd.DataFrame()\n",
    "\n",
    "model_name = \"GraphConv\"\n",
    "normalize_weights = \"log_per_cell\"\n",
    "node_features = \"scale\"\n",
    "same_edge_values = False\n",
    "edge_norm = True\n",
    "hidden_relu = False\n",
    "hidden_bn = False\n",
    "n_layers = 1\n",
    "hidden_dim = 200\n",
    "hidden = [300]\n",
    "nb_genes = 3000\n",
    "activation = F.relu\n",
    "\n",
    "\n",
    "data_mat = h5py.File(f\"{path}/real_data/{dataset}.h5\", \"r\")\n",
    "for factor in [ 50,30, 20, 10, 5, 1]:\n",
    "    Y_o = np.array(data_mat['Y'])[:1000]\n",
    "    X_o = np.array(data_mat['X'])[:1000][:,: 1000]\n",
    "    X = np.tile(X_o.T, factor).T\n",
    "    Y= np.tile(Y_o.T, factor).T\n",
    "    print(\">> \",X_o.shape, X.shape)\n",
    "\n",
    "    genes_idx, cells_idx = train.filter_data(X, highly_genes=nb_genes)\n",
    "    X = X[cells_idx][:, genes_idx]\n",
    "    Y = Y[cells_idx]\n",
    "    n_clusters = len(np.unique(Y))\n",
    "\n",
    "    t0 = time.time()\n",
    "    graph = train.make_graph(\n",
    "        X,\n",
    "        Y,\n",
    "        dense_dim=pca_size,\n",
    "        node_features=node_features,\n",
    "        normalize_weights=normalize_weights,\n",
    "    )\n",
    "\n",
    "    labels = graph.ndata[\"label\"]\n",
    "    train_ids = np.where(labels != -1)[0]\n",
    "\n",
    "    sampler = dgl.dataloading.MultiLayerFullNeighborSampler(n_layers)\n",
    "    batch_size = 64 if X.shape[0] >10000 else 128\n",
    "    dataloader = dgl.dataloading.NodeDataLoader(\n",
    "        graph,\n",
    "        train_ids,\n",
    "        sampler,\n",
    "        batch_size=batch_size,\n",
    "        shuffle=True,\n",
    "        drop_last=False,\n",
    "        num_workers=1,\n",
    "    )\n",
    "    print(\n",
    "        f\"INPUT: {model_name}  {hidden_dim}, {hidden}, {same_edge_values}, {edge_norm}\"\n",
    "    )\n",
    "    t1 = time.time()\n",
    "\n",
    "    for run in range(3):\n",
    "        t_start = time.time()\n",
    "        torch.manual_seed(run)\n",
    "        torch.cuda.manual_seed_all(run)\n",
    "        np.random.seed(run)\n",
    "        random.seed(run)\n",
    "\n",
    "        model = models.GCNAE(\n",
    "            in_feats=pca_size,\n",
    "            n_hidden=hidden_dim,\n",
    "            n_layers=n_layers,\n",
    "            activation=activation,\n",
    "            dropout=0.1,\n",
    "            hidden=hidden,\n",
    "            hidden_relu=hidden_relu,\n",
    "            hidden_bn=hidden_bn,\n",
    "        ).to(device)\n",
    "        if run == 0:\n",
    "            print(f\">\", model)\n",
    "\n",
    "        optim = torch.optim.Adam(model.parameters(), lr=1e-5)\n",
    "\n",
    "        scores = train.train(model, optim, epochs, dataloader, n_clusters, plot=False,\n",
    "                            cluster=[\"KMeans\"])\n",
    "        scores[\"dataset\"] = dataset\n",
    "        scores[\"run\"] = run\n",
    "        scores[\"nb_genes\"] = nb_genes\n",
    "        scores[\"hidden\"] = str(hidden)\n",
    "        scores[\"hidden_dim\"] = str(hidden_dim)\n",
    "        scores[\"tot_kmeans_time\"] = (t1-t0) + (scores['ae_end'] - t_start) + scores['kmeans_time']\n",
    "#         scores[\"tot_leiden_time\"] = (t1-t0) + (scores['ae_end'] - t_start) + scores['leiden_time']\n",
    "        scores[\"time_graph\"] = t1-t0\n",
    "        scores[\"time_training\"] = (scores['ae_end'] - t_start)\n",
    "        scores[\"nb_cells\"] = X.shape[0]\n",
    "        results = results.append(scores, ignore_index = True)\n",
    "\n",
    "        results.to_pickle(\n",
    "            f\"../output/pickle_results/{category}/{category}_scalability_cells.pkl\")\n",
    "        print(\"Done\")"
   ]
  },
  {
   "cell_type": "code",
   "execution_count": null,
   "metadata": {},
   "outputs": [],
   "source": []
  },
  {
   "cell_type": "code",
   "execution_count": 9,
   "metadata": {},
   "outputs": [
    {
     "name": "stdout",
     "output_type": "stream",
     "text": [
      ">>  (870, 1000) (870, 25000)\n"
     ]
    },
    {
     "name": "stderr",
     "output_type": "stream",
     "text": [
      "/opt/conda/lib/python3.7/site-packages/dgl/base.py:45: DGLWarning: Recommend creating graphs by `dgl.graph(data)` instead of `dgl.DGLGraph(data)`.\n",
      "  return warnings.warn(message, category=category, stacklevel=1)\n"
     ]
    },
    {
     "name": "stdout",
     "output_type": "stream",
     "text": [
      "INPUT: GraphConv  200, [300], False, True\n",
      "> GCNAE(\n",
      "  (dropout): Dropout(p=0.1, inplace=False)\n",
      "  (layer1): WeightedGraphConv(in=50, out=200, normalization=both, activation=<function relu at 0x7f30300075f0>)\n",
      "  (decoder): InnerProductDecoder()\n",
      "  (encoder): Sequential(\n",
      "    (0): Linear(in_features=200, out_features=300, bias=True)\n",
      "  )\n",
      ")\n"
     ]
    },
    {
     "data": {
      "application/vnd.jupyter.widget-view+json": {
       "model_id": "c7a7c1741c5a4b8e8b1bc440ca524dd0",
       "version_major": 2,
       "version_minor": 0
      },
      "text/plain": [
       "HBox(children=(IntProgress(value=0, max=10), HTML(value='')))"
      ]
     },
     "metadata": {},
     "output_type": "display_data"
    },
    {
     "name": "stdout",
     "output_type": "stream",
     "text": [
      "\n",
      "Coputing Kmeans 0.0997\n",
      "ARI 0.0997, 0.010687904432415962\n",
      "Done\n"
     ]
    },
    {
     "data": {
      "application/vnd.jupyter.widget-view+json": {
       "model_id": "d1c1f0fd62304a5e8bf93593a8e36932",
       "version_major": 2,
       "version_minor": 0
      },
      "text/plain": [
       "HBox(children=(IntProgress(value=0, max=10), HTML(value='')))"
      ]
     },
     "metadata": {},
     "output_type": "display_data"
    },
    {
     "name": "stdout",
     "output_type": "stream",
     "text": [
      "\n",
      "Coputing Kmeans 0.1394\n",
      "ARI 0.1394, 0.04373324289917946\n",
      "Done\n"
     ]
    },
    {
     "data": {
      "application/vnd.jupyter.widget-view+json": {
       "model_id": "433d3d756bf04d549a9d7917cad21423",
       "version_major": 2,
       "version_minor": 0
      },
      "text/plain": [
       "HBox(children=(IntProgress(value=0, max=10), HTML(value='')))"
      ]
     },
     "metadata": {},
     "output_type": "display_data"
    },
    {
     "name": "stdout",
     "output_type": "stream",
     "text": [
      "\n",
      "Coputing Kmeans 0.1103\n",
      "ARI 0.1103, 0.05161091685295105\n",
      "Done\n"
     ]
    },
    {
     "data": {
      "application/vnd.jupyter.widget-view+json": {
       "model_id": "8d9e16706a1842929eb0c34b87c4d35a",
       "version_major": 2,
       "version_minor": 0
      },
      "text/plain": [
       "HBox(children=(IntProgress(value=0, max=10), HTML(value='')))"
      ]
     },
     "metadata": {},
     "output_type": "display_data"
    },
    {
     "name": "stdout",
     "output_type": "stream",
     "text": [
      "\n",
      "Coputing Kmeans 0.1317\n",
      "ARI 0.1317, 0.04270748794078827\n",
      "Done\n"
     ]
    },
    {
     "data": {
      "application/vnd.jupyter.widget-view+json": {
       "model_id": "a405c03910c84b5e8e87611642ea4078",
       "version_major": 2,
       "version_minor": 0
      },
      "text/plain": [
       "HBox(children=(IntProgress(value=0, max=10), HTML(value='')))"
      ]
     },
     "metadata": {},
     "output_type": "display_data"
    },
    {
     "name": "stdout",
     "output_type": "stream",
     "text": [
      "\n",
      "Coputing Kmeans 0.1265\n",
      "ARI 0.1265, 0.030594130977988243\n",
      "Done\n"
     ]
    },
    {
     "data": {
      "application/vnd.jupyter.widget-view+json": {
       "model_id": "f3abb3eb0d9e4068b3f279e147b7c30e",
       "version_major": 2,
       "version_minor": 0
      },
      "text/plain": [
       "HBox(children=(IntProgress(value=0, max=10), HTML(value='')))"
      ]
     },
     "metadata": {},
     "output_type": "display_data"
    },
    {
     "name": "stdout",
     "output_type": "stream",
     "text": [
      "\n",
      "Coputing Kmeans 0.0906\n",
      "ARI 0.0906, 0.04912831261754036\n",
      "Done\n"
     ]
    },
    {
     "data": {
      "application/vnd.jupyter.widget-view+json": {
       "model_id": "b96f21e3ecd6409b975ad90c4346508a",
       "version_major": 2,
       "version_minor": 0
      },
      "text/plain": [
       "HBox(children=(IntProgress(value=0, max=10), HTML(value='')))"
      ]
     },
     "metadata": {},
     "output_type": "display_data"
    },
    {
     "name": "stdout",
     "output_type": "stream",
     "text": [
      "\n",
      "Coputing Kmeans 0.0835\n",
      "ARI 0.0835, 0.016826625913381577\n",
      "Done\n"
     ]
    },
    {
     "data": {
      "application/vnd.jupyter.widget-view+json": {
       "model_id": "1327d8a505e849fba0417de2e440b16d",
       "version_major": 2,
       "version_minor": 0
      },
      "text/plain": [
       "HBox(children=(IntProgress(value=0, max=10), HTML(value='')))"
      ]
     },
     "metadata": {},
     "output_type": "display_data"
    },
    {
     "name": "stdout",
     "output_type": "stream",
     "text": [
      "\n",
      "Coputing Kmeans 0.1463\n",
      "ARI 0.1463, 0.035340603440999985\n",
      "Done\n"
     ]
    },
    {
     "data": {
      "application/vnd.jupyter.widget-view+json": {
       "model_id": "0bce876a34064cec9c834930d22161a1",
       "version_major": 2,
       "version_minor": 0
      },
      "text/plain": [
       "HBox(children=(IntProgress(value=0, max=10), HTML(value='')))"
      ]
     },
     "metadata": {},
     "output_type": "display_data"
    },
    {
     "name": "stdout",
     "output_type": "stream",
     "text": [
      "\n",
      "Coputing Kmeans 0.1271\n",
      "ARI 0.1271, 0.04270720109343529\n",
      "Done\n"
     ]
    },
    {
     "data": {
      "application/vnd.jupyter.widget-view+json": {
       "model_id": "7f099b2a45644b9dab3974b9562bbd87",
       "version_major": 2,
       "version_minor": 0
      },
      "text/plain": [
       "HBox(children=(IntProgress(value=0, max=10), HTML(value='')))"
      ]
     },
     "metadata": {},
     "output_type": "display_data"
    },
    {
     "name": "stdout",
     "output_type": "stream",
     "text": [
      "\n",
      "Coputing Kmeans 0.1129\n",
      "ARI 0.1129, 0.03930862247943878\n",
      "Done\n",
      ">>  (870, 1000) (870, 20000)\n"
     ]
    },
    {
     "name": "stderr",
     "output_type": "stream",
     "text": [
      "/opt/conda/lib/python3.7/site-packages/dgl/base.py:45: DGLWarning: Recommend creating graphs by `dgl.graph(data)` instead of `dgl.DGLGraph(data)`.\n",
      "  return warnings.warn(message, category=category, stacklevel=1)\n"
     ]
    },
    {
     "name": "stdout",
     "output_type": "stream",
     "text": [
      "INPUT: GraphConv  200, [300], False, True\n",
      "> GCNAE(\n",
      "  (dropout): Dropout(p=0.1, inplace=False)\n",
      "  (layer1): WeightedGraphConv(in=50, out=200, normalization=both, activation=<function relu at 0x7f30300075f0>)\n",
      "  (decoder): InnerProductDecoder()\n",
      "  (encoder): Sequential(\n",
      "    (0): Linear(in_features=200, out_features=300, bias=True)\n",
      "  )\n",
      ")\n"
     ]
    },
    {
     "data": {
      "application/vnd.jupyter.widget-view+json": {
       "model_id": "e47dd75af42a4334a624268582b88d0d",
       "version_major": 2,
       "version_minor": 0
      },
      "text/plain": [
       "HBox(children=(IntProgress(value=0, max=10), HTML(value='')))"
      ]
     },
     "metadata": {},
     "output_type": "display_data"
    },
    {
     "name": "stdout",
     "output_type": "stream",
     "text": [
      "\n",
      "Coputing Kmeans 0.1144\n",
      "ARI 0.1144, 0.01829533651471138\n",
      "Done\n"
     ]
    },
    {
     "data": {
      "application/vnd.jupyter.widget-view+json": {
       "model_id": "305fc1b25f0548e38ab508c4054f94f7",
       "version_major": 2,
       "version_minor": 0
      },
      "text/plain": [
       "HBox(children=(IntProgress(value=0, max=10), HTML(value='')))"
      ]
     },
     "metadata": {},
     "output_type": "display_data"
    },
    {
     "name": "stdout",
     "output_type": "stream",
     "text": [
      "\n",
      "Coputing Kmeans 0.1424\n",
      "ARI 0.1424, 0.07113183289766312\n",
      "Done\n"
     ]
    },
    {
     "data": {
      "application/vnd.jupyter.widget-view+json": {
       "model_id": "e8f1ff5964e6452a8bc5cdb8eb959be3",
       "version_major": 2,
       "version_minor": 0
      },
      "text/plain": [
       "HBox(children=(IntProgress(value=0, max=10), HTML(value='')))"
      ]
     },
     "metadata": {},
     "output_type": "display_data"
    },
    {
     "name": "stdout",
     "output_type": "stream",
     "text": [
      "\n",
      "Coputing Kmeans 0.1204\n",
      "ARI 0.1204, 0.025410864502191544\n",
      "Done\n"
     ]
    },
    {
     "data": {
      "application/vnd.jupyter.widget-view+json": {
       "model_id": "ca478e81170e4b07938010b8e4bed5fb",
       "version_major": 2,
       "version_minor": 0
      },
      "text/plain": [
       "HBox(children=(IntProgress(value=0, max=10), HTML(value='')))"
      ]
     },
     "metadata": {},
     "output_type": "display_data"
    },
    {
     "name": "stdout",
     "output_type": "stream",
     "text": [
      "\n",
      "Coputing Kmeans 0.1335\n",
      "ARI 0.1335, 0.04548206552863121\n",
      "Done\n"
     ]
    },
    {
     "data": {
      "application/vnd.jupyter.widget-view+json": {
       "model_id": "1c31e7797bed4c3aa0f4baae0fed2a04",
       "version_major": 2,
       "version_minor": 0
      },
      "text/plain": [
       "HBox(children=(IntProgress(value=0, max=10), HTML(value='')))"
      ]
     },
     "metadata": {},
     "output_type": "display_data"
    },
    {
     "name": "stdout",
     "output_type": "stream",
     "text": [
      "\n",
      "Coputing Kmeans 0.1259\n",
      "ARI 0.1259, 0.02403167635202408\n",
      "Done\n"
     ]
    },
    {
     "data": {
      "application/vnd.jupyter.widget-view+json": {
       "model_id": "768571b75e0e4fe582068c5deca4e50e",
       "version_major": 2,
       "version_minor": 0
      },
      "text/plain": [
       "HBox(children=(IntProgress(value=0, max=10), HTML(value='')))"
      ]
     },
     "metadata": {},
     "output_type": "display_data"
    },
    {
     "name": "stdout",
     "output_type": "stream",
     "text": [
      "\n",
      "Coputing Kmeans 0.0938\n",
      "ARI 0.0938, 0.0167570598423481\n",
      "Done\n"
     ]
    },
    {
     "data": {
      "application/vnd.jupyter.widget-view+json": {
       "model_id": "780765ea58d44d969d8590bf13d65511",
       "version_major": 2,
       "version_minor": 0
      },
      "text/plain": [
       "HBox(children=(IntProgress(value=0, max=10), HTML(value='')))"
      ]
     },
     "metadata": {},
     "output_type": "display_data"
    },
    {
     "name": "stdout",
     "output_type": "stream",
     "text": [
      "\n",
      "Coputing Kmeans 0.0676\n",
      "ARI 0.0676, 0.01105012558400631\n",
      "Done\n"
     ]
    },
    {
     "data": {
      "application/vnd.jupyter.widget-view+json": {
       "model_id": "0a7e9df3cd624450a4e9208e3a597fb9",
       "version_major": 2,
       "version_minor": 0
      },
      "text/plain": [
       "HBox(children=(IntProgress(value=0, max=10), HTML(value='')))"
      ]
     },
     "metadata": {},
     "output_type": "display_data"
    },
    {
     "name": "stdout",
     "output_type": "stream",
     "text": [
      "\n",
      "Coputing Kmeans 0.1756\n",
      "ARI 0.1756, 0.059373121708631516\n",
      "Done\n"
     ]
    },
    {
     "data": {
      "application/vnd.jupyter.widget-view+json": {
       "model_id": "0468dadfc9d54c248e3078670ca15583",
       "version_major": 2,
       "version_minor": 0
      },
      "text/plain": [
       "HBox(children=(IntProgress(value=0, max=10), HTML(value='')))"
      ]
     },
     "metadata": {},
     "output_type": "display_data"
    },
    {
     "name": "stdout",
     "output_type": "stream",
     "text": [
      "\n",
      "Coputing Kmeans 0.1541\n",
      "ARI 0.1541, 0.0342535562813282\n",
      "Done\n"
     ]
    },
    {
     "data": {
      "application/vnd.jupyter.widget-view+json": {
       "model_id": "bbc900c60dc64667b62cba3dbd741705",
       "version_major": 2,
       "version_minor": 0
      },
      "text/plain": [
       "HBox(children=(IntProgress(value=0, max=10), HTML(value='')))"
      ]
     },
     "metadata": {},
     "output_type": "display_data"
    },
    {
     "name": "stdout",
     "output_type": "stream",
     "text": [
      "\n",
      "Coputing Kmeans 0.1993\n",
      "ARI 0.1993, 0.06484012305736542\n",
      "Done\n",
      ">>  (870, 1000) (870, 15000)\n"
     ]
    },
    {
     "name": "stderr",
     "output_type": "stream",
     "text": [
      "/opt/conda/lib/python3.7/site-packages/dgl/base.py:45: DGLWarning: Recommend creating graphs by `dgl.graph(data)` instead of `dgl.DGLGraph(data)`.\n",
      "  return warnings.warn(message, category=category, stacklevel=1)\n"
     ]
    },
    {
     "name": "stdout",
     "output_type": "stream",
     "text": [
      "INPUT: GraphConv  200, [300], False, True\n",
      "> GCNAE(\n",
      "  (dropout): Dropout(p=0.1, inplace=False)\n",
      "  (layer1): WeightedGraphConv(in=50, out=200, normalization=both, activation=<function relu at 0x7f30300075f0>)\n",
      "  (decoder): InnerProductDecoder()\n",
      "  (encoder): Sequential(\n",
      "    (0): Linear(in_features=200, out_features=300, bias=True)\n",
      "  )\n",
      ")\n"
     ]
    },
    {
     "data": {
      "application/vnd.jupyter.widget-view+json": {
       "model_id": "8e4c37ee366b45d08fbe9664bd4c4497",
       "version_major": 2,
       "version_minor": 0
      },
      "text/plain": [
       "HBox(children=(IntProgress(value=0, max=10), HTML(value='')))"
      ]
     },
     "metadata": {},
     "output_type": "display_data"
    },
    {
     "name": "stdout",
     "output_type": "stream",
     "text": [
      "\n",
      "Coputing Kmeans 0.132\n",
      "ARI 0.132, 0.03695393726229668\n",
      "Done\n"
     ]
    },
    {
     "data": {
      "application/vnd.jupyter.widget-view+json": {
       "model_id": "83d6cdc20b5744ee87838837844ab98b",
       "version_major": 2,
       "version_minor": 0
      },
      "text/plain": [
       "HBox(children=(IntProgress(value=0, max=10), HTML(value='')))"
      ]
     },
     "metadata": {},
     "output_type": "display_data"
    },
    {
     "name": "stdout",
     "output_type": "stream",
     "text": [
      "\n",
      "Coputing Kmeans 0.1747\n",
      "ARI 0.1747, 0.054461412131786346\n",
      "Done\n"
     ]
    },
    {
     "data": {
      "application/vnd.jupyter.widget-view+json": {
       "model_id": "5e240266b46d4e949ab9a73babadfa8a",
       "version_major": 2,
       "version_minor": 0
      },
      "text/plain": [
       "HBox(children=(IntProgress(value=0, max=10), HTML(value='')))"
      ]
     },
     "metadata": {},
     "output_type": "display_data"
    },
    {
     "name": "stdout",
     "output_type": "stream",
     "text": [
      "\n",
      "Coputing Kmeans 0.0746\n",
      "ARI 0.0746, 0.012572257779538631\n",
      "Done\n"
     ]
    },
    {
     "data": {
      "application/vnd.jupyter.widget-view+json": {
       "model_id": "c66f5adc6be24d33958ab2765e311233",
       "version_major": 2,
       "version_minor": 0
      },
      "text/plain": [
       "HBox(children=(IntProgress(value=0, max=10), HTML(value='')))"
      ]
     },
     "metadata": {},
     "output_type": "display_data"
    },
    {
     "name": "stdout",
     "output_type": "stream",
     "text": [
      "\n",
      "Coputing Kmeans 0.1413\n",
      "ARI 0.1413, 0.12269509583711624\n",
      "Done\n"
     ]
    },
    {
     "data": {
      "application/vnd.jupyter.widget-view+json": {
       "model_id": "523c3707658b48068b4e9337e2e9e298",
       "version_major": 2,
       "version_minor": 0
      },
      "text/plain": [
       "HBox(children=(IntProgress(value=0, max=10), HTML(value='')))"
      ]
     },
     "metadata": {},
     "output_type": "display_data"
    },
    {
     "name": "stdout",
     "output_type": "stream",
     "text": [
      "\n",
      "Coputing Kmeans 0.1153\n",
      "ARI 0.1153, 0.00011354794696671888\n",
      "Done\n"
     ]
    },
    {
     "data": {
      "application/vnd.jupyter.widget-view+json": {
       "model_id": "360128828fbc4a0b9c56fefb689ac919",
       "version_major": 2,
       "version_minor": 0
      },
      "text/plain": [
       "HBox(children=(IntProgress(value=0, max=10), HTML(value='')))"
      ]
     },
     "metadata": {},
     "output_type": "display_data"
    },
    {
     "name": "stdout",
     "output_type": "stream",
     "text": [
      "\n",
      "Coputing Kmeans 0.1292\n",
      "ARI 0.1292, 0.02878418006002903\n",
      "Done\n"
     ]
    },
    {
     "data": {
      "application/vnd.jupyter.widget-view+json": {
       "model_id": "e6353494b589468c964bc264ff700902",
       "version_major": 2,
       "version_minor": 0
      },
      "text/plain": [
       "HBox(children=(IntProgress(value=0, max=10), HTML(value='')))"
      ]
     },
     "metadata": {},
     "output_type": "display_data"
    },
    {
     "name": "stdout",
     "output_type": "stream",
     "text": [
      "\n",
      "Coputing Kmeans 0.1819\n",
      "ARI 0.1819, 0.09983208030462265\n",
      "Done\n"
     ]
    },
    {
     "data": {
      "application/vnd.jupyter.widget-view+json": {
       "model_id": "259454a02f404dd7a278635843a928d5",
       "version_major": 2,
       "version_minor": 0
      },
      "text/plain": [
       "HBox(children=(IntProgress(value=0, max=10), HTML(value='')))"
      ]
     },
     "metadata": {},
     "output_type": "display_data"
    },
    {
     "name": "stdout",
     "output_type": "stream",
     "text": [
      "\n",
      "Coputing Kmeans 0.1744\n",
      "ARI 0.1744, 0.05270462855696678\n",
      "Done\n"
     ]
    },
    {
     "data": {
      "application/vnd.jupyter.widget-view+json": {
       "model_id": "f603a1962e1344eeb2c177f134dd12b9",
       "version_major": 2,
       "version_minor": 0
      },
      "text/plain": [
       "HBox(children=(IntProgress(value=0, max=10), HTML(value='')))"
      ]
     },
     "metadata": {},
     "output_type": "display_data"
    },
    {
     "name": "stdout",
     "output_type": "stream",
     "text": [
      "\n",
      "Coputing Kmeans 0.125\n",
      "ARI 0.125, 0.04888371378183365\n",
      "Done\n"
     ]
    },
    {
     "data": {
      "application/vnd.jupyter.widget-view+json": {
       "model_id": "c1531b7d97e24e519577f55a51563a2b",
       "version_major": 2,
       "version_minor": 0
      },
      "text/plain": [
       "HBox(children=(IntProgress(value=0, max=10), HTML(value='')))"
      ]
     },
     "metadata": {},
     "output_type": "display_data"
    },
    {
     "name": "stdout",
     "output_type": "stream",
     "text": [
      "\n",
      "Coputing Kmeans 0.1123\n",
      "ARI 0.1123, 0.027656421065330505\n",
      "Done\n",
      ">>  (870, 1000) (870, 10000)\n"
     ]
    },
    {
     "name": "stderr",
     "output_type": "stream",
     "text": [
      "/opt/conda/lib/python3.7/site-packages/dgl/base.py:45: DGLWarning: Recommend creating graphs by `dgl.graph(data)` instead of `dgl.DGLGraph(data)`.\n",
      "  return warnings.warn(message, category=category, stacklevel=1)\n"
     ]
    },
    {
     "name": "stdout",
     "output_type": "stream",
     "text": [
      "INPUT: GraphConv  200, [300], False, True\n",
      "> GCNAE(\n",
      "  (dropout): Dropout(p=0.1, inplace=False)\n",
      "  (layer1): WeightedGraphConv(in=50, out=200, normalization=both, activation=<function relu at 0x7f30300075f0>)\n",
      "  (decoder): InnerProductDecoder()\n",
      "  (encoder): Sequential(\n",
      "    (0): Linear(in_features=200, out_features=300, bias=True)\n",
      "  )\n",
      ")\n"
     ]
    },
    {
     "data": {
      "application/vnd.jupyter.widget-view+json": {
       "model_id": "b235bcc07b344821b7c8294b56a62324",
       "version_major": 2,
       "version_minor": 0
      },
      "text/plain": [
       "HBox(children=(IntProgress(value=0, max=10), HTML(value='')))"
      ]
     },
     "metadata": {},
     "output_type": "display_data"
    },
    {
     "name": "stdout",
     "output_type": "stream",
     "text": [
      "\n",
      "Coputing Kmeans 0.1878\n",
      "ARI 0.1878, 0.044311970472335815\n",
      "Done\n"
     ]
    },
    {
     "data": {
      "application/vnd.jupyter.widget-view+json": {
       "model_id": "cb02322ed0ed45d086ded62532c3bc5b",
       "version_major": 2,
       "version_minor": 0
      },
      "text/plain": [
       "HBox(children=(IntProgress(value=0, max=10), HTML(value='')))"
      ]
     },
     "metadata": {},
     "output_type": "display_data"
    },
    {
     "name": "stdout",
     "output_type": "stream",
     "text": [
      "\n",
      "Coputing Kmeans 0.1259\n",
      "ARI 0.1259, 0.015819726511836052\n",
      "Done\n"
     ]
    },
    {
     "data": {
      "application/vnd.jupyter.widget-view+json": {
       "model_id": "88ea408937ad45e29643cdd0b16ea173",
       "version_major": 2,
       "version_minor": 0
      },
      "text/plain": [
       "HBox(children=(IntProgress(value=0, max=10), HTML(value='')))"
      ]
     },
     "metadata": {},
     "output_type": "display_data"
    },
    {
     "name": "stdout",
     "output_type": "stream",
     "text": [
      "\n",
      "Coputing Kmeans 0.1305\n",
      "ARI 0.1305, 0.03950841352343559\n",
      "Done\n"
     ]
    },
    {
     "data": {
      "application/vnd.jupyter.widget-view+json": {
       "model_id": "d884d77116304516a6cb5558831bbd3e",
       "version_major": 2,
       "version_minor": 0
      },
      "text/plain": [
       "HBox(children=(IntProgress(value=0, max=10), HTML(value='')))"
      ]
     },
     "metadata": {},
     "output_type": "display_data"
    },
    {
     "name": "stdout",
     "output_type": "stream",
     "text": [
      "\n",
      "Coputing Kmeans 0.1396\n",
      "ARI 0.1396, 0.05003150925040245\n",
      "Done\n"
     ]
    },
    {
     "data": {
      "application/vnd.jupyter.widget-view+json": {
       "model_id": "5a3edccaaf7b492b9bb3d4a205b71334",
       "version_major": 2,
       "version_minor": 0
      },
      "text/plain": [
       "HBox(children=(IntProgress(value=0, max=10), HTML(value='')))"
      ]
     },
     "metadata": {},
     "output_type": "display_data"
    },
    {
     "name": "stdout",
     "output_type": "stream",
     "text": [
      "\n",
      "Coputing Kmeans 0.175\n",
      "ARI 0.175, 0.06153019517660141\n",
      "Done\n"
     ]
    },
    {
     "data": {
      "application/vnd.jupyter.widget-view+json": {
       "model_id": "a7a7560cce1443539ec62b5cc27f0020",
       "version_major": 2,
       "version_minor": 0
      },
      "text/plain": [
       "HBox(children=(IntProgress(value=0, max=10), HTML(value='')))"
      ]
     },
     "metadata": {},
     "output_type": "display_data"
    },
    {
     "name": "stdout",
     "output_type": "stream",
     "text": [
      "\n",
      "Coputing Kmeans 0.1267\n",
      "ARI 0.1267, 0.047370702028274536\n",
      "Done\n"
     ]
    },
    {
     "data": {
      "application/vnd.jupyter.widget-view+json": {
       "model_id": "54de0d84931d4de895b1b98484b112f5",
       "version_major": 2,
       "version_minor": 0
      },
      "text/plain": [
       "HBox(children=(IntProgress(value=0, max=10), HTML(value='')))"
      ]
     },
     "metadata": {},
     "output_type": "display_data"
    },
    {
     "name": "stdout",
     "output_type": "stream",
     "text": [
      "\n",
      "Coputing Kmeans 0.1445\n",
      "ARI 0.1445, 0.10377127677202225\n",
      "Done\n"
     ]
    },
    {
     "data": {
      "application/vnd.jupyter.widget-view+json": {
       "model_id": "eb09042d97a14e678aa07cecab1aff63",
       "version_major": 2,
       "version_minor": 0
      },
      "text/plain": [
       "HBox(children=(IntProgress(value=0, max=10), HTML(value='')))"
      ]
     },
     "metadata": {},
     "output_type": "display_data"
    },
    {
     "name": "stdout",
     "output_type": "stream",
     "text": [
      "\n",
      "Coputing Kmeans 0.1807\n",
      "ARI 0.1807, 0.03686369210481644\n",
      "Done\n"
     ]
    },
    {
     "data": {
      "application/vnd.jupyter.widget-view+json": {
       "model_id": "2b2f8841e0fc42d896dd19e69e4c54ad",
       "version_major": 2,
       "version_minor": 0
      },
      "text/plain": [
       "HBox(children=(IntProgress(value=0, max=10), HTML(value='')))"
      ]
     },
     "metadata": {},
     "output_type": "display_data"
    },
    {
     "name": "stdout",
     "output_type": "stream",
     "text": [
      "\n",
      "Coputing Kmeans 0.1484\n",
      "ARI 0.1484, 0.05211671441793442\n",
      "Done\n"
     ]
    },
    {
     "data": {
      "application/vnd.jupyter.widget-view+json": {
       "model_id": "abda044ccc25406a95114b2295b6c416",
       "version_major": 2,
       "version_minor": 0
      },
      "text/plain": [
       "HBox(children=(IntProgress(value=0, max=10), HTML(value='')))"
      ]
     },
     "metadata": {},
     "output_type": "display_data"
    },
    {
     "name": "stdout",
     "output_type": "stream",
     "text": [
      "\n",
      "Coputing Kmeans 0.1749\n",
      "ARI 0.1749, 0.10652348399162292\n",
      "Done\n",
      ">>  (870, 1000) (870, 5000)\n"
     ]
    },
    {
     "name": "stderr",
     "output_type": "stream",
     "text": [
      "/opt/conda/lib/python3.7/site-packages/dgl/base.py:45: DGLWarning: Recommend creating graphs by `dgl.graph(data)` instead of `dgl.DGLGraph(data)`.\n",
      "  return warnings.warn(message, category=category, stacklevel=1)\n"
     ]
    },
    {
     "name": "stdout",
     "output_type": "stream",
     "text": [
      "INPUT: GraphConv  200, [300], False, True\n",
      "> GCNAE(\n",
      "  (dropout): Dropout(p=0.1, inplace=False)\n",
      "  (layer1): WeightedGraphConv(in=50, out=200, normalization=both, activation=<function relu at 0x7f30300075f0>)\n",
      "  (decoder): InnerProductDecoder()\n",
      "  (encoder): Sequential(\n",
      "    (0): Linear(in_features=200, out_features=300, bias=True)\n",
      "  )\n",
      ")\n"
     ]
    },
    {
     "data": {
      "application/vnd.jupyter.widget-view+json": {
       "model_id": "ebd4a18c33214bf5a83f9fe6f13e07b6",
       "version_major": 2,
       "version_minor": 0
      },
      "text/plain": [
       "HBox(children=(IntProgress(value=0, max=10), HTML(value='')))"
      ]
     },
     "metadata": {},
     "output_type": "display_data"
    },
    {
     "name": "stdout",
     "output_type": "stream",
     "text": [
      "\n",
      "Coputing Kmeans 0.3854\n",
      "ARI 0.3854, 0.007124831900000572\n",
      "Done\n"
     ]
    },
    {
     "data": {
      "application/vnd.jupyter.widget-view+json": {
       "model_id": "8b7f36dbab7d47cd9b6ff07cb23b072b",
       "version_major": 2,
       "version_minor": 0
      },
      "text/plain": [
       "HBox(children=(IntProgress(value=0, max=10), HTML(value='')))"
      ]
     },
     "metadata": {},
     "output_type": "display_data"
    },
    {
     "name": "stdout",
     "output_type": "stream",
     "text": [
      "\n",
      "Coputing Kmeans 0.4333\n",
      "ARI 0.4333, 0.009405144490301609\n",
      "Done\n"
     ]
    },
    {
     "data": {
      "application/vnd.jupyter.widget-view+json": {
       "model_id": "b3e7e237d5e84c0a8f44ed1b15ab293d",
       "version_major": 2,
       "version_minor": 0
      },
      "text/plain": [
       "HBox(children=(IntProgress(value=0, max=10), HTML(value='')))"
      ]
     },
     "metadata": {},
     "output_type": "display_data"
    },
    {
     "name": "stdout",
     "output_type": "stream",
     "text": [
      "\n",
      "Coputing Kmeans 0.41\n",
      "ARI 0.41, 0.008441297337412834\n",
      "Done\n"
     ]
    },
    {
     "data": {
      "application/vnd.jupyter.widget-view+json": {
       "model_id": "ba27057370f1419fb190aadcfec0faab",
       "version_major": 2,
       "version_minor": 0
      },
      "text/plain": [
       "HBox(children=(IntProgress(value=0, max=10), HTML(value='')))"
      ]
     },
     "metadata": {},
     "output_type": "display_data"
    },
    {
     "name": "stdout",
     "output_type": "stream",
     "text": [
      "\n",
      "Coputing Kmeans 0.477\n",
      "ARI 0.477, 0.025491412729024887\n",
      "Done\n"
     ]
    },
    {
     "data": {
      "application/vnd.jupyter.widget-view+json": {
       "model_id": "213382731fb04bf193ee616a5ca8df8d",
       "version_major": 2,
       "version_minor": 0
      },
      "text/plain": [
       "HBox(children=(IntProgress(value=0, max=10), HTML(value='')))"
      ]
     },
     "metadata": {},
     "output_type": "display_data"
    },
    {
     "name": "stdout",
     "output_type": "stream",
     "text": [
      "\n",
      "Coputing Kmeans 0.3968\n",
      "ARI 0.3968, 0.01893128827214241\n",
      "Done\n"
     ]
    },
    {
     "data": {
      "application/vnd.jupyter.widget-view+json": {
       "model_id": "cd383c3c9a9c41e8a8a32a588fdee6fc",
       "version_major": 2,
       "version_minor": 0
      },
      "text/plain": [
       "HBox(children=(IntProgress(value=0, max=10), HTML(value='')))"
      ]
     },
     "metadata": {},
     "output_type": "display_data"
    },
    {
     "name": "stdout",
     "output_type": "stream",
     "text": [
      "\n",
      "Coputing Kmeans 0.4269\n",
      "ARI 0.4269, 0.027016568928956985\n",
      "Done\n"
     ]
    },
    {
     "data": {
      "application/vnd.jupyter.widget-view+json": {
       "model_id": "04ad82af7cfd475c894448af4ff2f3d6",
       "version_major": 2,
       "version_minor": 0
      },
      "text/plain": [
       "HBox(children=(IntProgress(value=0, max=10), HTML(value='')))"
      ]
     },
     "metadata": {},
     "output_type": "display_data"
    },
    {
     "name": "stdout",
     "output_type": "stream",
     "text": [
      "\n",
      "Coputing Kmeans 0.3069\n",
      "ARI 0.3069, 0.019938774406909943\n",
      "Done\n"
     ]
    },
    {
     "data": {
      "application/vnd.jupyter.widget-view+json": {
       "model_id": "f73cdbee104b4192b2c847554d63385d",
       "version_major": 2,
       "version_minor": 0
      },
      "text/plain": [
       "HBox(children=(IntProgress(value=0, max=10), HTML(value='')))"
      ]
     },
     "metadata": {},
     "output_type": "display_data"
    },
    {
     "name": "stdout",
     "output_type": "stream",
     "text": [
      "\n",
      "Coputing Kmeans 0.3229\n",
      "ARI 0.3229, 0.019710488617420197\n",
      "Done\n"
     ]
    },
    {
     "data": {
      "application/vnd.jupyter.widget-view+json": {
       "model_id": "49c42d3bdff84986b99ceefc4fa9f750",
       "version_major": 2,
       "version_minor": 0
      },
      "text/plain": [
       "HBox(children=(IntProgress(value=0, max=10), HTML(value='')))"
      ]
     },
     "metadata": {},
     "output_type": "display_data"
    },
    {
     "name": "stdout",
     "output_type": "stream",
     "text": [
      "\n",
      "Coputing Kmeans 0.5455\n",
      "ARI 0.5455, 0.019562972709536552\n",
      "Done\n"
     ]
    },
    {
     "data": {
      "application/vnd.jupyter.widget-view+json": {
       "model_id": "95c6a8b9789c479fb1ea361489941a7e",
       "version_major": 2,
       "version_minor": 0
      },
      "text/plain": [
       "HBox(children=(IntProgress(value=0, max=10), HTML(value='')))"
      ]
     },
     "metadata": {},
     "output_type": "display_data"
    },
    {
     "name": "stdout",
     "output_type": "stream",
     "text": [
      "\n",
      "Coputing Kmeans 0.4525\n",
      "ARI 0.4525, 0.023802848532795906\n",
      "Done\n",
      ">>  (870, 1000) (870, 1000)\n"
     ]
    },
    {
     "name": "stderr",
     "output_type": "stream",
     "text": [
      "/opt/conda/lib/python3.7/site-packages/dgl/base.py:45: DGLWarning: Recommend creating graphs by `dgl.graph(data)` instead of `dgl.DGLGraph(data)`.\n",
      "  return warnings.warn(message, category=category, stacklevel=1)\n"
     ]
    },
    {
     "name": "stdout",
     "output_type": "stream",
     "text": [
      "INPUT: GraphConv  200, [300], False, True\n",
      "> GCNAE(\n",
      "  (dropout): Dropout(p=0.1, inplace=False)\n",
      "  (layer1): WeightedGraphConv(in=50, out=200, normalization=both, activation=<function relu at 0x7f30300075f0>)\n",
      "  (decoder): InnerProductDecoder()\n",
      "  (encoder): Sequential(\n",
      "    (0): Linear(in_features=200, out_features=300, bias=True)\n",
      "  )\n",
      ")\n"
     ]
    },
    {
     "data": {
      "application/vnd.jupyter.widget-view+json": {
       "model_id": "585d6e41097f4c89b3475dad575e50d0",
       "version_major": 2,
       "version_minor": 0
      },
      "text/plain": [
       "HBox(children=(IntProgress(value=0, max=10), HTML(value='')))"
      ]
     },
     "metadata": {},
     "output_type": "display_data"
    },
    {
     "name": "stdout",
     "output_type": "stream",
     "text": [
      "\n",
      "Coputing Kmeans 0.5736\n",
      "ARI 0.5736, 0.036762963980436325\n",
      "Done\n"
     ]
    },
    {
     "data": {
      "application/vnd.jupyter.widget-view+json": {
       "model_id": "4ae1efaf963343d49b9395c9050c2da7",
       "version_major": 2,
       "version_minor": 0
      },
      "text/plain": [
       "HBox(children=(IntProgress(value=0, max=10), HTML(value='')))"
      ]
     },
     "metadata": {},
     "output_type": "display_data"
    },
    {
     "name": "stdout",
     "output_type": "stream",
     "text": [
      "\n",
      "Coputing Kmeans 0.6018\n",
      "ARI 0.6018, 0.029916848987340927\n",
      "Done\n"
     ]
    },
    {
     "data": {
      "application/vnd.jupyter.widget-view+json": {
       "model_id": "3df309cd1f524fa89efdbb18764521a1",
       "version_major": 2,
       "version_minor": 0
      },
      "text/plain": [
       "HBox(children=(IntProgress(value=0, max=10), HTML(value='')))"
      ]
     },
     "metadata": {},
     "output_type": "display_data"
    },
    {
     "name": "stdout",
     "output_type": "stream",
     "text": [
      "\n",
      "Coputing Kmeans 0.6036\n",
      "ARI 0.6036, 0.033609788864851\n",
      "Done\n"
     ]
    },
    {
     "data": {
      "application/vnd.jupyter.widget-view+json": {
       "model_id": "def06532f20444d6b2d8bdbde283093d",
       "version_major": 2,
       "version_minor": 0
      },
      "text/plain": [
       "HBox(children=(IntProgress(value=0, max=10), HTML(value='')))"
      ]
     },
     "metadata": {},
     "output_type": "display_data"
    },
    {
     "name": "stdout",
     "output_type": "stream",
     "text": [
      "\n",
      "Coputing Kmeans 0.5128\n",
      "ARI 0.5128, 0.0321778878569603\n",
      "Done\n"
     ]
    },
    {
     "data": {
      "application/vnd.jupyter.widget-view+json": {
       "model_id": "4c5099ed2d174a2180eeea0ef8defe79",
       "version_major": 2,
       "version_minor": 0
      },
      "text/plain": [
       "HBox(children=(IntProgress(value=0, max=10), HTML(value='')))"
      ]
     },
     "metadata": {},
     "output_type": "display_data"
    },
    {
     "name": "stdout",
     "output_type": "stream",
     "text": [
      "\n",
      "Coputing Kmeans 0.4065\n",
      "ARI 0.4065, 0.025381188839673996\n",
      "Done\n"
     ]
    },
    {
     "data": {
      "application/vnd.jupyter.widget-view+json": {
       "model_id": "b1ac3487d4164815904193db0515a0b8",
       "version_major": 2,
       "version_minor": 0
      },
      "text/plain": [
       "HBox(children=(IntProgress(value=0, max=10), HTML(value='')))"
      ]
     },
     "metadata": {},
     "output_type": "display_data"
    },
    {
     "name": "stdout",
     "output_type": "stream",
     "text": [
      "\n",
      "Coputing Kmeans 0.4483\n",
      "ARI 0.4483, 0.02108037658035755\n",
      "Done\n"
     ]
    },
    {
     "data": {
      "application/vnd.jupyter.widget-view+json": {
       "model_id": "d80bfd382ff840f58014e935c9426c5c",
       "version_major": 2,
       "version_minor": 0
      },
      "text/plain": [
       "HBox(children=(IntProgress(value=0, max=10), HTML(value='')))"
      ]
     },
     "metadata": {},
     "output_type": "display_data"
    },
    {
     "name": "stdout",
     "output_type": "stream",
     "text": [
      "\n",
      "Coputing Kmeans 0.4941\n",
      "ARI 0.4941, 0.02341347001492977\n",
      "Done\n"
     ]
    },
    {
     "data": {
      "application/vnd.jupyter.widget-view+json": {
       "model_id": "0d511299c999456bad0f4c9ebdba5f31",
       "version_major": 2,
       "version_minor": 0
      },
      "text/plain": [
       "HBox(children=(IntProgress(value=0, max=10), HTML(value='')))"
      ]
     },
     "metadata": {},
     "output_type": "display_data"
    },
    {
     "name": "stdout",
     "output_type": "stream",
     "text": [
      "\n",
      "Coputing Kmeans 0.4952\n",
      "ARI 0.4952, 0.021397128701210022\n",
      "Done\n"
     ]
    },
    {
     "data": {
      "application/vnd.jupyter.widget-view+json": {
       "model_id": "2421b8b2bf1448baafab4c55e331d5fc",
       "version_major": 2,
       "version_minor": 0
      },
      "text/plain": [
       "HBox(children=(IntProgress(value=0, max=10), HTML(value='')))"
      ]
     },
     "metadata": {},
     "output_type": "display_data"
    },
    {
     "name": "stdout",
     "output_type": "stream",
     "text": [
      "\n",
      "Coputing Kmeans 0.5618\n",
      "ARI 0.5618, 0.03282079100608826\n",
      "Done\n"
     ]
    },
    {
     "data": {
      "application/vnd.jupyter.widget-view+json": {
       "model_id": "0234c99669464eeb82e109642424a869",
       "version_major": 2,
       "version_minor": 0
      },
      "text/plain": [
       "HBox(children=(IntProgress(value=0, max=10), HTML(value='')))"
      ]
     },
     "metadata": {},
     "output_type": "display_data"
    },
    {
     "name": "stdout",
     "output_type": "stream",
     "text": [
      "\n",
      "Coputing Kmeans 0.5753\n",
      "ARI 0.5753, 0.031402718275785446\n",
      "Done\n"
     ]
    }
   ],
   "source": [
    "results = pd.DataFrame()\n",
    "\n",
    "model_name = \"GraphConv\"\n",
    "normalize_weights = \"log_per_cell\"\n",
    "node_features = \"scale\"\n",
    "same_edge_values = False\n",
    "edge_norm = True\n",
    "hidden_relu = False\n",
    "hidden_bn = False\n",
    "n_layers = 1\n",
    "hidden_dim = 200\n",
    "hidden = [300]\n",
    "nb_genes = 3000\n",
    "pca_size = 50\n",
    "activation = F.relu\n",
    "data_mat = h5py.File(f\"{path}/real_data/{dataset}.h5\", \"r\")\n",
    "\n",
    "\n",
    "for factor in [25, 20, 15, 10, 5, 1 ]:\n",
    "    Y_o = np.array(data_mat['Y'])[:1000]\n",
    "    X_o = np.array(data_mat['X'])[:1000][:,: 1000]\n",
    "    \n",
    "    X = np.tile(X_o, factor)\n",
    "    Y= Y_o\n",
    "    print(\">> \",X_o.shape, X.shape)\n",
    "    nb_input_genes =X.shape[1]\n",
    "\n",
    "\n",
    "    genes_idx, cells_idx = train.filter_data(X, highly_genes=3000)\n",
    "    X = X[cells_idx][:, genes_idx]\n",
    "    Y = Y[cells_idx]\n",
    "    n_clusters = len(np.unique(Y))\n",
    "    t0 = time.time()\n",
    "    graph = train.make_graph(\n",
    "        X,\n",
    "        Y,\n",
    "        dense_dim=pca_size,\n",
    "        node_features=node_features,\n",
    "        normalize_weights=normalize_weights,\n",
    "    )\n",
    "\n",
    "    labels = graph.ndata[\"label\"]\n",
    "    train_ids = np.where(labels != -1)[0]\n",
    "\n",
    "    sampler = dgl.dataloading.MultiLayerFullNeighborSampler(n_layers)\n",
    "\n",
    "    dataloader = dgl.dataloading.NodeDataLoader(\n",
    "        graph,\n",
    "        train_ids,\n",
    "        sampler,\n",
    "        batch_size=batch_size,\n",
    "        shuffle=True,\n",
    "        drop_last=False,\n",
    "        num_workers=1,\n",
    "    )\n",
    "    print(\n",
    "        f\"INPUT: {model_name}  {hidden_dim}, {hidden}, {same_edge_values}, {edge_norm}\"\n",
    "    )\n",
    "    t1 = time.time()\n",
    "\n",
    "    for run in range(10):\n",
    "        t_start = time.time()\n",
    "        torch.manual_seed(run)\n",
    "        torch.cuda.manual_seed_all(run)\n",
    "        np.random.seed(run)\n",
    "        random.seed(run)\n",
    "\n",
    "        model = models.GCNAE(\n",
    "            in_feats=pca_size,\n",
    "            n_hidden=hidden_dim,\n",
    "            n_layers=n_layers,\n",
    "            activation=activation,\n",
    "            dropout=0.1,\n",
    "            hidden=hidden,\n",
    "            hidden_relu=hidden_relu,\n",
    "            hidden_bn=hidden_bn,\n",
    "        ).to(device)\n",
    "        if run == 0:\n",
    "            print(f\">\", model)\n",
    "\n",
    "        optim = torch.optim.Adam(model.parameters(), lr=1e-5)\n",
    "\n",
    "        scores = train.train(model, optim, epochs, dataloader, n_clusters, plot=False,\n",
    "                            cluster=[\"KMeans\", \"Leiden\"])\n",
    "        scores[\"dataset\"] = dataset\n",
    "        scores[\"run\"] = run\n",
    "        scores[\"hidden\"] = str(hidden)\n",
    "        scores[\"hidden_dim\"] = str(hidden_dim)\n",
    "        scores[\"tot_kmeans_time\"] = (t1-t0) + (scores['ae_end'] - t_start) + scores['kmeans_time']\n",
    "        scores[\"tot_leiden_time\"] = (t1-t0) + (scores['ae_end'] - t_start) + scores['leiden_time']\n",
    "        scores[\"time_graph\"] = t1-t0\n",
    "        scores[\"time_training\"] = (scores['ae_end'] - t_start)\n",
    "        scores[\"nb_cells\"] = X.shape[0]\n",
    "        scores[\"nb_genes\"] =nb_input_genes\n",
    "\n",
    "        results = results.append(scores, ignore_index = True)\n",
    "\n",
    "        results.to_pickle(\n",
    "            f\"../output/pickle_results/{category}/{category}_scalability_genes_pca.pkl\")\n",
    "        print(\"Done\")"
   ]
  },
  {
   "cell_type": "code",
   "execution_count": null,
   "metadata": {},
   "outputs": [],
   "source": []
  },
  {
   "cell_type": "code",
   "execution_count": 4,
   "metadata": {},
   "outputs": [
    {
     "name": "stdout",
     "output_type": "stream",
     "text": [
      ">>  (870, 1000) (870, 25000)\n"
     ]
    },
    {
     "name": "stderr",
     "output_type": "stream",
     "text": [
      "/opt/conda/lib/python3.7/site-packages/dgl/base.py:45: DGLWarning: Recommend creating graphs by `dgl.graph(data)` instead of `dgl.DGLGraph(data)`.\n",
      "  return warnings.warn(message, category=category, stacklevel=1)\n"
     ]
    },
    {
     "name": "stdout",
     "output_type": "stream",
     "text": [
      "INPUT: GraphConv  200, [300], False, True\n",
      "> GCNAE(\n",
      "  (dropout): Dropout(p=0.1, inplace=False)\n",
      "  (layer1): WeightedGraphConv(in=50, out=200, normalization=both, activation=<function relu at 0x7f5d4535f5f0>)\n",
      "  (decoder): InnerProductDecoder()\n",
      "  (encoder): Sequential(\n",
      "    (0): Linear(in_features=200, out_features=300, bias=True)\n",
      "  )\n",
      ")\n"
     ]
    },
    {
     "data": {
      "application/vnd.jupyter.widget-view+json": {
       "model_id": "d081387716654f478c673ccb3e85ee45",
       "version_major": 2,
       "version_minor": 0
      },
      "text/plain": [
       "HBox(children=(IntProgress(value=0, max=10), HTML(value='')))"
      ]
     },
     "metadata": {},
     "output_type": "display_data"
    },
    {
     "name": "stdout",
     "output_type": "stream",
     "text": [
      "\n",
      "ARI 0.6031, 0.03938838094472885\n",
      "Done\n"
     ]
    },
    {
     "data": {
      "application/vnd.jupyter.widget-view+json": {
       "model_id": "2089dd4777ba4c078bbb9bcd51b9e0e3",
       "version_major": 2,
       "version_minor": 0
      },
      "text/plain": [
       "HBox(children=(IntProgress(value=0, max=10), HTML(value='')))"
      ]
     },
     "metadata": {},
     "output_type": "display_data"
    },
    {
     "name": "stdout",
     "output_type": "stream",
     "text": [
      "\n",
      "ARI 0.5272, 0.0332205556333065\n",
      "Done\n"
     ]
    },
    {
     "data": {
      "application/vnd.jupyter.widget-view+json": {
       "model_id": "dcf62fb113974628a31409c3effce275",
       "version_major": 2,
       "version_minor": 0
      },
      "text/plain": [
       "HBox(children=(IntProgress(value=0, max=10), HTML(value='')))"
      ]
     },
     "metadata": {},
     "output_type": "display_data"
    },
    {
     "name": "stdout",
     "output_type": "stream",
     "text": [
      "\n",
      "ARI 0.4593, 0.02030372992157936\n",
      "Done\n",
      ">>  (870, 1000) (870, 20000)\n"
     ]
    },
    {
     "name": "stderr",
     "output_type": "stream",
     "text": [
      "/opt/conda/lib/python3.7/site-packages/dgl/base.py:45: DGLWarning: Recommend creating graphs by `dgl.graph(data)` instead of `dgl.DGLGraph(data)`.\n",
      "  return warnings.warn(message, category=category, stacklevel=1)\n"
     ]
    },
    {
     "name": "stdout",
     "output_type": "stream",
     "text": [
      "INPUT: GraphConv  200, [300], False, True\n",
      "> GCNAE(\n",
      "  (dropout): Dropout(p=0.1, inplace=False)\n",
      "  (layer1): WeightedGraphConv(in=50, out=200, normalization=both, activation=<function relu at 0x7f5d4535f5f0>)\n",
      "  (decoder): InnerProductDecoder()\n",
      "  (encoder): Sequential(\n",
      "    (0): Linear(in_features=200, out_features=300, bias=True)\n",
      "  )\n",
      ")\n"
     ]
    },
    {
     "data": {
      "application/vnd.jupyter.widget-view+json": {
       "model_id": "80493417711c44dba8bf91fdbd957c07",
       "version_major": 2,
       "version_minor": 0
      },
      "text/plain": [
       "HBox(children=(IntProgress(value=0, max=10), HTML(value='')))"
      ]
     },
     "metadata": {},
     "output_type": "display_data"
    },
    {
     "name": "stdout",
     "output_type": "stream",
     "text": [
      "\n",
      "ARI 0.5732, 0.029891682788729668\n",
      "Done\n"
     ]
    },
    {
     "data": {
      "application/vnd.jupyter.widget-view+json": {
       "model_id": "12e7742325134474b0eed7b39d59f0f3",
       "version_major": 2,
       "version_minor": 0
      },
      "text/plain": [
       "HBox(children=(IntProgress(value=0, max=10), HTML(value='')))"
      ]
     },
     "metadata": {},
     "output_type": "display_data"
    },
    {
     "name": "stdout",
     "output_type": "stream",
     "text": [
      "\n",
      "ARI 0.5272, 0.03322254493832588\n",
      "Done\n"
     ]
    },
    {
     "data": {
      "application/vnd.jupyter.widget-view+json": {
       "model_id": "adcf347555104e539b93a1eacfd79a0e",
       "version_major": 2,
       "version_minor": 0
      },
      "text/plain": [
       "HBox(children=(IntProgress(value=0, max=10), HTML(value='')))"
      ]
     },
     "metadata": {},
     "output_type": "display_data"
    },
    {
     "name": "stdout",
     "output_type": "stream",
     "text": [
      "\n",
      "ARI 0.4895, 0.022878339514136314\n",
      "Done\n",
      ">>  (870, 1000) (870, 15000)\n"
     ]
    },
    {
     "name": "stderr",
     "output_type": "stream",
     "text": [
      "/opt/conda/lib/python3.7/site-packages/dgl/base.py:45: DGLWarning: Recommend creating graphs by `dgl.graph(data)` instead of `dgl.DGLGraph(data)`.\n",
      "  return warnings.warn(message, category=category, stacklevel=1)\n"
     ]
    },
    {
     "name": "stdout",
     "output_type": "stream",
     "text": [
      "INPUT: GraphConv  200, [300], False, True\n",
      "> GCNAE(\n",
      "  (dropout): Dropout(p=0.1, inplace=False)\n",
      "  (layer1): WeightedGraphConv(in=50, out=200, normalization=both, activation=<function relu at 0x7f5d4535f5f0>)\n",
      "  (decoder): InnerProductDecoder()\n",
      "  (encoder): Sequential(\n",
      "    (0): Linear(in_features=200, out_features=300, bias=True)\n",
      "  )\n",
      ")\n"
     ]
    },
    {
     "data": {
      "application/vnd.jupyter.widget-view+json": {
       "model_id": "82e67969c9704401983eb987cdee7e04",
       "version_major": 2,
       "version_minor": 0
      },
      "text/plain": [
       "HBox(children=(IntProgress(value=0, max=10), HTML(value='')))"
      ]
     },
     "metadata": {},
     "output_type": "display_data"
    },
    {
     "name": "stdout",
     "output_type": "stream",
     "text": [
      "\n",
      "ARI 0.6059, 0.036705292761325836\n",
      "Done\n"
     ]
    },
    {
     "data": {
      "application/vnd.jupyter.widget-view+json": {
       "model_id": "1dcc73d96bed4631a29a5e867e03d2b6",
       "version_major": 2,
       "version_minor": 0
      },
      "text/plain": [
       "HBox(children=(IntProgress(value=0, max=10), HTML(value='')))"
      ]
     },
     "metadata": {},
     "output_type": "display_data"
    },
    {
     "name": "stdout",
     "output_type": "stream",
     "text": [
      "\n",
      "ARI 0.5217, 0.03324050083756447\n",
      "Done\n"
     ]
    },
    {
     "data": {
      "application/vnd.jupyter.widget-view+json": {
       "model_id": "97f4916143464c199b92af7387b77722",
       "version_major": 2,
       "version_minor": 0
      },
      "text/plain": [
       "HBox(children=(IntProgress(value=0, max=10), HTML(value='')))"
      ]
     },
     "metadata": {},
     "output_type": "display_data"
    },
    {
     "name": "stdout",
     "output_type": "stream",
     "text": [
      "\n",
      "ARI 0.4378, 0.021201910451054573\n",
      "Done\n",
      ">>  (870, 1000) (870, 10000)\n"
     ]
    },
    {
     "name": "stderr",
     "output_type": "stream",
     "text": [
      "/opt/conda/lib/python3.7/site-packages/dgl/base.py:45: DGLWarning: Recommend creating graphs by `dgl.graph(data)` instead of `dgl.DGLGraph(data)`.\n",
      "  return warnings.warn(message, category=category, stacklevel=1)\n"
     ]
    },
    {
     "name": "stdout",
     "output_type": "stream",
     "text": [
      "INPUT: GraphConv  200, [300], False, True\n",
      "> GCNAE(\n",
      "  (dropout): Dropout(p=0.1, inplace=False)\n",
      "  (layer1): WeightedGraphConv(in=50, out=200, normalization=both, activation=<function relu at 0x7f5d4535f5f0>)\n",
      "  (decoder): InnerProductDecoder()\n",
      "  (encoder): Sequential(\n",
      "    (0): Linear(in_features=200, out_features=300, bias=True)\n",
      "  )\n",
      ")\n"
     ]
    },
    {
     "data": {
      "application/vnd.jupyter.widget-view+json": {
       "model_id": "4472e55558754d1f8fb33121b65f3185",
       "version_major": 2,
       "version_minor": 0
      },
      "text/plain": [
       "HBox(children=(IntProgress(value=0, max=10), HTML(value='')))"
      ]
     },
     "metadata": {},
     "output_type": "display_data"
    },
    {
     "name": "stdout",
     "output_type": "stream",
     "text": [
      "\n",
      "ARI 0.6093, 0.03673866391181946\n",
      "Done\n"
     ]
    },
    {
     "data": {
      "application/vnd.jupyter.widget-view+json": {
       "model_id": "53ffc1d4c24e46baa8352d5a6dc5119d",
       "version_major": 2,
       "version_minor": 0
      },
      "text/plain": [
       "HBox(children=(IntProgress(value=0, max=10), HTML(value='')))"
      ]
     },
     "metadata": {},
     "output_type": "display_data"
    },
    {
     "name": "stdout",
     "output_type": "stream",
     "text": [
      "\n",
      "ARI 0.5211, 0.032419078052043915\n",
      "Done\n"
     ]
    },
    {
     "data": {
      "application/vnd.jupyter.widget-view+json": {
       "model_id": "2ed501796fa940deb62c8afa70f2635f",
       "version_major": 2,
       "version_minor": 0
      },
      "text/plain": [
       "HBox(children=(IntProgress(value=0, max=10), HTML(value='')))"
      ]
     },
     "metadata": {},
     "output_type": "display_data"
    },
    {
     "name": "stdout",
     "output_type": "stream",
     "text": [
      "\n",
      "ARI 0.3333, 0.008299482055008411\n",
      "Done\n",
      ">>  (870, 1000) (870, 5000)\n"
     ]
    },
    {
     "name": "stderr",
     "output_type": "stream",
     "text": [
      "/opt/conda/lib/python3.7/site-packages/dgl/base.py:45: DGLWarning: Recommend creating graphs by `dgl.graph(data)` instead of `dgl.DGLGraph(data)`.\n",
      "  return warnings.warn(message, category=category, stacklevel=1)\n"
     ]
    },
    {
     "name": "stdout",
     "output_type": "stream",
     "text": [
      "INPUT: GraphConv  200, [300], False, True\n",
      "> GCNAE(\n",
      "  (dropout): Dropout(p=0.1, inplace=False)\n",
      "  (layer1): WeightedGraphConv(in=50, out=200, normalization=both, activation=<function relu at 0x7f5d4535f5f0>)\n",
      "  (decoder): InnerProductDecoder()\n",
      "  (encoder): Sequential(\n",
      "    (0): Linear(in_features=200, out_features=300, bias=True)\n",
      "  )\n",
      ")\n"
     ]
    },
    {
     "data": {
      "application/vnd.jupyter.widget-view+json": {
       "model_id": "a587001e9b25473687b669a073d834c9",
       "version_major": 2,
       "version_minor": 0
      },
      "text/plain": [
       "HBox(children=(IntProgress(value=0, max=10), HTML(value='')))"
      ]
     },
     "metadata": {},
     "output_type": "display_data"
    },
    {
     "name": "stdout",
     "output_type": "stream",
     "text": [
      "\n",
      "ARI 0.5765, 0.03513171151280403\n",
      "Done\n"
     ]
    },
    {
     "data": {
      "application/vnd.jupyter.widget-view+json": {
       "model_id": "3b5ba3cc95144fff8f8be628f15b3ac7",
       "version_major": 2,
       "version_minor": 0
      },
      "text/plain": [
       "HBox(children=(IntProgress(value=0, max=10), HTML(value='')))"
      ]
     },
     "metadata": {},
     "output_type": "display_data"
    },
    {
     "name": "stdout",
     "output_type": "stream",
     "text": [
      "\n",
      "ARI 0.5156, 0.025298887863755226\n",
      "Done\n"
     ]
    },
    {
     "data": {
      "application/vnd.jupyter.widget-view+json": {
       "model_id": "f3a0742c6ea84823b8f4aa7e3b90f822",
       "version_major": 2,
       "version_minor": 0
      },
      "text/plain": [
       "HBox(children=(IntProgress(value=0, max=10), HTML(value='')))"
      ]
     },
     "metadata": {},
     "output_type": "display_data"
    },
    {
     "name": "stdout",
     "output_type": "stream",
     "text": [
      "\n",
      "ARI 0.4289, 0.027904486283659935\n",
      "Done\n",
      ">>  (870, 1000) (870, 1000)\n"
     ]
    },
    {
     "name": "stderr",
     "output_type": "stream",
     "text": [
      "/opt/conda/lib/python3.7/site-packages/dgl/base.py:45: DGLWarning: Recommend creating graphs by `dgl.graph(data)` instead of `dgl.DGLGraph(data)`.\n",
      "  return warnings.warn(message, category=category, stacklevel=1)\n"
     ]
    },
    {
     "name": "stdout",
     "output_type": "stream",
     "text": [
      "INPUT: GraphConv  200, [300], False, True\n",
      "> GCNAE(\n",
      "  (dropout): Dropout(p=0.1, inplace=False)\n",
      "  (layer1): WeightedGraphConv(in=50, out=200, normalization=both, activation=<function relu at 0x7f5d4535f5f0>)\n",
      "  (decoder): InnerProductDecoder()\n",
      "  (encoder): Sequential(\n",
      "    (0): Linear(in_features=200, out_features=300, bias=True)\n",
      "  )\n",
      ")\n"
     ]
    },
    {
     "data": {
      "application/vnd.jupyter.widget-view+json": {
       "model_id": "b60ddcc8f9414c52baf1f5f045767a6c",
       "version_major": 2,
       "version_minor": 0
      },
      "text/plain": [
       "HBox(children=(IntProgress(value=0, max=10), HTML(value='')))"
      ]
     },
     "metadata": {},
     "output_type": "display_data"
    },
    {
     "name": "stdout",
     "output_type": "stream",
     "text": [
      "\n",
      "ARI 0.5736, 0.036762963980436325\n",
      "Done\n"
     ]
    },
    {
     "data": {
      "application/vnd.jupyter.widget-view+json": {
       "model_id": "27a10cc0eed943cdaccfd7c15b10202f",
       "version_major": 2,
       "version_minor": 0
      },
      "text/plain": [
       "HBox(children=(IntProgress(value=0, max=10), HTML(value='')))"
      ]
     },
     "metadata": {},
     "output_type": "display_data"
    },
    {
     "name": "stdout",
     "output_type": "stream",
     "text": [
      "\n",
      "ARI 0.6018, 0.029916848987340927\n",
      "Done\n"
     ]
    },
    {
     "data": {
      "application/vnd.jupyter.widget-view+json": {
       "model_id": "54e50a107a2f44cb8eec1b238b1cde49",
       "version_major": 2,
       "version_minor": 0
      },
      "text/plain": [
       "HBox(children=(IntProgress(value=0, max=10), HTML(value='')))"
      ]
     },
     "metadata": {},
     "output_type": "display_data"
    },
    {
     "name": "stdout",
     "output_type": "stream",
     "text": [
      "\n",
      "ARI 0.6036, 0.0336097851395607\n",
      "Done\n"
     ]
    }
   ],
   "source": [
    "results = pd.DataFrame()\n",
    "\n",
    "model_name = \"GraphConv\"\n",
    "normalize_weights = \"log_per_cell\"\n",
    "node_features = \"scale\"\n",
    "same_edge_values = False\n",
    "edge_norm = True\n",
    "hidden_relu = False\n",
    "hidden_bn = False\n",
    "n_layers = 1\n",
    "hidden_dim = 200\n",
    "hidden = [300]\n",
    "nb_genes = 3000\n",
    "activation = F.relu\n",
    "data_mat = h5py.File(f\"{path}/real_data/{dataset}.h5\", \"r\")\n",
    "\n",
    "\n",
    "for factor in [25, 20, 15, 10, 5, 1 ]:\n",
    "    Y_o = np.array(data_mat['Y'])[:1000]\n",
    "    X_o = np.array(data_mat['X'])[:1000][:,: 1000]\n",
    "    \n",
    "    X = np.tile(X_o, factor)\n",
    "    Y= Y_o\n",
    "    print(\">> \",X_o.shape, X.shape)\n",
    "    nb_input_genes = X.shape[1]#-1000\n",
    "\n",
    "\n",
    "    genes_idx, cells_idx = train.filter_data(X, highly_genes=nb_input_genes)\n",
    "    X = X[cells_idx][:, genes_idx]\n",
    "    Y = Y[cells_idx]\n",
    "    n_clusters = len(np.unique(Y))\n",
    "\n",
    "    t0 = time.time()\n",
    "    graph = train.make_graph(\n",
    "        X,\n",
    "        Y,\n",
    "        dense_dim=pca_size,\n",
    "        node_features=node_features,\n",
    "        normalize_weights=normalize_weights,\n",
    "    )\n",
    "\n",
    "    labels = graph.ndata[\"label\"]\n",
    "    train_ids = np.where(labels != -1)[0]\n",
    "\n",
    "    sampler = dgl.dataloading.MultiLayerFullNeighborSampler(n_layers)\n",
    "\n",
    "    dataloader = dgl.dataloading.NodeDataLoader(\n",
    "        graph,\n",
    "        train_ids,\n",
    "        sampler,\n",
    "        batch_size=batch_size,\n",
    "        shuffle=True,\n",
    "        drop_last=False,\n",
    "        num_workers=1,\n",
    "    )\n",
    "    print(\n",
    "        f\"INPUT: {model_name}  {hidden_dim}, {hidden}, {same_edge_values}, {edge_norm}\"\n",
    "    )\n",
    "    t1 = time.time()\n",
    "\n",
    "    for run in range(3):\n",
    "        t_start = time.time()\n",
    "        torch.manual_seed(run)\n",
    "        torch.cuda.manual_seed_all(run)\n",
    "        np.random.seed(run)\n",
    "        random.seed(run)\n",
    "\n",
    "        model = models.GCNAE(\n",
    "            in_feats=pca_size,\n",
    "            n_hidden=hidden_dim,\n",
    "            n_layers=n_layers,\n",
    "            activation=activation,\n",
    "            dropout=0.1,\n",
    "            hidden=hidden,\n",
    "            hidden_relu=hidden_relu,\n",
    "            hidden_bn=hidden_bn,\n",
    "        ).to(device)\n",
    "        if run == 0:\n",
    "            print(f\">\", model)\n",
    "\n",
    "        optim = torch.optim.Adam(model.parameters(), lr=1e-5)\n",
    "\n",
    "        scores = train.train(model, optim, epochs, dataloader, n_clusters, plot=False,\n",
    "                            cluster=[\"KMeans\", \"Leiden\"])\n",
    "        scores[\"dataset\"] = dataset\n",
    "        scores[\"run\"] = run\n",
    "        scores[\"hidden\"] = str(hidden)\n",
    "        scores[\"hidden_dim\"] = str(hidden_dim)\n",
    "        scores[\"tot_kmeans_time\"] = (t1-t0) + (scores['ae_end'] - t_start) + scores['kmeans_time']\n",
    "        scores[\"tot_leiden_time\"] = (t1-t0) + (scores['ae_end'] - t_start) + scores['leiden_time']\n",
    "        scores[\"time_graph\"] = t1-t0\n",
    "        scores[\"time_training\"] = (scores['ae_end'] - t_start)\n",
    "        scores[\"nb_cells\"] = X.shape[0]\n",
    "        scores[\"nb_genes\"] = nb_input_genes\n",
    "\n",
    "        results = results.append(scores, ignore_index = True)\n",
    "\n",
    "        results.to_pickle(\n",
    "            f\"../output/pickle_results/{category}/{category}_scalability_genes.pkl\")\n",
    "        print(\"Done\")"
   ]
  },
  {
   "cell_type": "code",
   "execution_count": 5,
   "metadata": {},
   "outputs": [
    {
     "data": {
      "text/html": [
       "<div>\n",
       "<style scoped>\n",
       "    .dataframe tbody tr th:only-of-type {\n",
       "        vertical-align: middle;\n",
       "    }\n",
       "\n",
       "    .dataframe tbody tr th {\n",
       "        vertical-align: top;\n",
       "    }\n",
       "\n",
       "    .dataframe thead th {\n",
       "        text-align: right;\n",
       "    }\n",
       "</style>\n",
       "<table border=\"1\" class=\"dataframe\">\n",
       "  <thead>\n",
       "    <tr style=\"text-align: right;\">\n",
       "      <th></th>\n",
       "      <th>ae_end</th>\n",
       "      <th>kmeans_ari</th>\n",
       "      <th>kmeans_cal</th>\n",
       "      <th>kmeans_nmi</th>\n",
       "      <th>kmeans_sil</th>\n",
       "      <th>kmeans_time</th>\n",
       "      <th>leiden_ari</th>\n",
       "      <th>leiden_cal</th>\n",
       "      <th>leiden_nmi</th>\n",
       "      <th>leiden_sil</th>\n",
       "      <th>leiden_time</th>\n",
       "      <th>nb_cells</th>\n",
       "      <th>run</th>\n",
       "      <th>time_graph</th>\n",
       "      <th>time_training</th>\n",
       "      <th>tot_kmeans_time</th>\n",
       "      <th>tot_leiden_time</th>\n",
       "    </tr>\n",
       "    <tr>\n",
       "      <th>nb_genes</th>\n",
       "      <th></th>\n",
       "      <th></th>\n",
       "      <th></th>\n",
       "      <th></th>\n",
       "      <th></th>\n",
       "      <th></th>\n",
       "      <th></th>\n",
       "      <th></th>\n",
       "      <th></th>\n",
       "      <th></th>\n",
       "      <th></th>\n",
       "      <th></th>\n",
       "      <th></th>\n",
       "      <th></th>\n",
       "      <th></th>\n",
       "      <th></th>\n",
       "      <th></th>\n",
       "    </tr>\n",
       "  </thead>\n",
       "  <tbody>\n",
       "    <tr>\n",
       "      <th>1000.0</th>\n",
       "      <td>1.615631e+09</td>\n",
       "      <td>0.593000</td>\n",
       "      <td>32.743877</td>\n",
       "      <td>0.496133</td>\n",
       "      <td>0.033430</td>\n",
       "      <td>0.227337</td>\n",
       "      <td>0.409067</td>\n",
       "      <td>27.020869</td>\n",
       "      <td>0.430267</td>\n",
       "      <td>0.031177</td>\n",
       "      <td>1.945721</td>\n",
       "      <td>870.0</td>\n",
       "      <td>1.0</td>\n",
       "      <td>0.294626</td>\n",
       "      <td>3.575556</td>\n",
       "      <td>4.097519</td>\n",
       "      <td>5.815903</td>\n",
       "    </tr>\n",
       "    <tr>\n",
       "      <th>5000.0</th>\n",
       "      <td>1.615631e+09</td>\n",
       "      <td>0.507000</td>\n",
       "      <td>31.548197</td>\n",
       "      <td>0.441833</td>\n",
       "      <td>0.029445</td>\n",
       "      <td>0.238846</td>\n",
       "      <td>0.381767</td>\n",
       "      <td>23.463431</td>\n",
       "      <td>0.407433</td>\n",
       "      <td>0.011417</td>\n",
       "      <td>1.936401</td>\n",
       "      <td>870.0</td>\n",
       "      <td>1.0</td>\n",
       "      <td>0.651714</td>\n",
       "      <td>5.146484</td>\n",
       "      <td>6.037043</td>\n",
       "      <td>7.734599</td>\n",
       "    </tr>\n",
       "    <tr>\n",
       "      <th>10000.0</th>\n",
       "      <td>1.615631e+09</td>\n",
       "      <td>0.487900</td>\n",
       "      <td>30.482692</td>\n",
       "      <td>0.426633</td>\n",
       "      <td>0.025819</td>\n",
       "      <td>0.262302</td>\n",
       "      <td>0.389700</td>\n",
       "      <td>22.690557</td>\n",
       "      <td>0.415100</td>\n",
       "      <td>0.019137</td>\n",
       "      <td>1.842108</td>\n",
       "      <td>870.0</td>\n",
       "      <td>1.0</td>\n",
       "      <td>1.079715</td>\n",
       "      <td>6.088245</td>\n",
       "      <td>7.430261</td>\n",
       "      <td>9.010068</td>\n",
       "    </tr>\n",
       "    <tr>\n",
       "      <th>15000.0</th>\n",
       "      <td>1.615631e+09</td>\n",
       "      <td>0.521800</td>\n",
       "      <td>31.140607</td>\n",
       "      <td>0.452667</td>\n",
       "      <td>0.030383</td>\n",
       "      <td>0.269096</td>\n",
       "      <td>0.389600</td>\n",
       "      <td>22.913496</td>\n",
       "      <td>0.405133</td>\n",
       "      <td>0.019850</td>\n",
       "      <td>1.704811</td>\n",
       "      <td>870.0</td>\n",
       "      <td>1.0</td>\n",
       "      <td>1.500887</td>\n",
       "      <td>8.160946</td>\n",
       "      <td>9.930929</td>\n",
       "      <td>11.366645</td>\n",
       "    </tr>\n",
       "    <tr>\n",
       "      <th>20000.0</th>\n",
       "      <td>1.615631e+09</td>\n",
       "      <td>0.529967</td>\n",
       "      <td>30.730484</td>\n",
       "      <td>0.451600</td>\n",
       "      <td>0.028664</td>\n",
       "      <td>0.259834</td>\n",
       "      <td>0.412333</td>\n",
       "      <td>23.645408</td>\n",
       "      <td>0.436133</td>\n",
       "      <td>0.008255</td>\n",
       "      <td>1.795936</td>\n",
       "      <td>870.0</td>\n",
       "      <td>1.0</td>\n",
       "      <td>1.918511</td>\n",
       "      <td>10.010649</td>\n",
       "      <td>12.188995</td>\n",
       "      <td>13.725096</td>\n",
       "    </tr>\n",
       "    <tr>\n",
       "      <th>25000.0</th>\n",
       "      <td>1.615631e+09</td>\n",
       "      <td>0.529867</td>\n",
       "      <td>30.668180</td>\n",
       "      <td>0.452600</td>\n",
       "      <td>0.030971</td>\n",
       "      <td>0.251649</td>\n",
       "      <td>0.399667</td>\n",
       "      <td>22.923170</td>\n",
       "      <td>0.423000</td>\n",
       "      <td>0.011237</td>\n",
       "      <td>2.443501</td>\n",
       "      <td>870.0</td>\n",
       "      <td>1.0</td>\n",
       "      <td>2.214043</td>\n",
       "      <td>12.555265</td>\n",
       "      <td>15.020957</td>\n",
       "      <td>17.212809</td>\n",
       "    </tr>\n",
       "  </tbody>\n",
       "</table>\n",
       "</div>"
      ],
      "text/plain": [
       "                ae_end  kmeans_ari  kmeans_cal  kmeans_nmi  kmeans_sil  \\\n",
       "nb_genes                                                                 \n",
       "1000.0    1.615631e+09    0.593000   32.743877    0.496133    0.033430   \n",
       "5000.0    1.615631e+09    0.507000   31.548197    0.441833    0.029445   \n",
       "10000.0   1.615631e+09    0.487900   30.482692    0.426633    0.025819   \n",
       "15000.0   1.615631e+09    0.521800   31.140607    0.452667    0.030383   \n",
       "20000.0   1.615631e+09    0.529967   30.730484    0.451600    0.028664   \n",
       "25000.0   1.615631e+09    0.529867   30.668180    0.452600    0.030971   \n",
       "\n",
       "          kmeans_time  leiden_ari  leiden_cal  leiden_nmi  leiden_sil  \\\n",
       "nb_genes                                                                \n",
       "1000.0       0.227337    0.409067   27.020869    0.430267    0.031177   \n",
       "5000.0       0.238846    0.381767   23.463431    0.407433    0.011417   \n",
       "10000.0      0.262302    0.389700   22.690557    0.415100    0.019137   \n",
       "15000.0      0.269096    0.389600   22.913496    0.405133    0.019850   \n",
       "20000.0      0.259834    0.412333   23.645408    0.436133    0.008255   \n",
       "25000.0      0.251649    0.399667   22.923170    0.423000    0.011237   \n",
       "\n",
       "          leiden_time  nb_cells  run  time_graph  time_training  \\\n",
       "nb_genes                                                          \n",
       "1000.0       1.945721     870.0  1.0    0.294626       3.575556   \n",
       "5000.0       1.936401     870.0  1.0    0.651714       5.146484   \n",
       "10000.0      1.842108     870.0  1.0    1.079715       6.088245   \n",
       "15000.0      1.704811     870.0  1.0    1.500887       8.160946   \n",
       "20000.0      1.795936     870.0  1.0    1.918511      10.010649   \n",
       "25000.0      2.443501     870.0  1.0    2.214043      12.555265   \n",
       "\n",
       "          tot_kmeans_time  tot_leiden_time  \n",
       "nb_genes                                    \n",
       "1000.0           4.097519         5.815903  \n",
       "5000.0           6.037043         7.734599  \n",
       "10000.0          7.430261         9.010068  \n",
       "15000.0          9.930929        11.366645  \n",
       "20000.0         12.188995        13.725096  \n",
       "25000.0         15.020957        17.212809  "
      ]
     },
     "execution_count": 5,
     "metadata": {},
     "output_type": "execute_result"
    }
   ],
   "source": [
    "results.groupby(\"nb_genes\").mean()"
   ]
  },
  {
   "cell_type": "code",
   "execution_count": 7,
   "metadata": {},
   "outputs": [
    {
     "name": "stdout",
     "output_type": "stream",
     "text": [
      "70500\n"
     ]
    }
   ],
   "source": [
    "pytorch_total_params = sum(p.numel() for p in model.parameters() if p.requires_grad)\n",
    "print(pytorch_total_params)"
   ]
  },
  {
   "cell_type": "code",
   "execution_count": null,
   "metadata": {},
   "outputs": [],
   "source": []
  }
 ],
 "metadata": {
  "kernelspec": {
   "display_name": "Python 3",
   "language": "python",
   "name": "python3"
  },
  "language_info": {
   "codemirror_mode": {
    "name": "ipython",
    "version": 3
   },
   "file_extension": ".py",
   "mimetype": "text/x-python",
   "name": "python",
   "nbconvert_exporter": "python",
   "pygments_lexer": "ipython3",
   "version": "3.7.4"
  }
 },
 "nbformat": 4,
 "nbformat_minor": 4
}
