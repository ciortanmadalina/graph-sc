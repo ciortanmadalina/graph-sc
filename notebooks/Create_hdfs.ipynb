{
 "cells": [
  {
   "cell_type": "code",
   "execution_count": 1,
   "metadata": {},
   "outputs": [
    {
     "name": "stderr",
     "output_type": "stream",
     "text": [
      "Using backend: pytorch\n",
      "/opt/conda/lib/python3.7/site-packages/dgl/base.py:45: DGLWarning: Detected an old version of PyTorch. Suggest using torch>=1.5.0 for the best experience.\n",
      "  return warnings.warn(message, category=category, stacklevel=1)\n",
      "/opt/conda/lib/python3.7/site-packages/scanpy/api/__init__.py:7: FutureWarning: \n",
      "\n",
      "In a future version of Scanpy, `scanpy.api` will be removed.\n",
      "Simply use `import scanpy as sc` and `import scanpy.external as sce` instead.\n",
      "\n",
      "  FutureWarning,\n"
     ]
    }
   ],
   "source": [
    "import argparse\n",
    "import os\n",
    "import numpy as np\n",
    "import dgl\n",
    "from dgl import DGLGraph\n",
    "import dgl.function as fn\n",
    "from dgl.nn.pytorch import GraphConv\n",
    "import torch\n",
    "import torch.nn as nn\n",
    "import torch.nn.functional as F\n",
    "\n",
    "from dgl.data import register_data_args, load_data\n",
    "import matplotlib.pyplot as plt\n",
    "import pandas as pd\n",
    "from sklearn.model_selection import train_test_split\n",
    "import torch\n",
    "from torch.nn.functional import binary_cross_entropy_with_logits as BCELoss\n",
    "from torch.utils.data import DataLoader\n",
    "from tqdm import tqdm\n",
    "from collections import Counter\n",
    "import pickle\n",
    "import h5py\n",
    "import random\n",
    "import gnn_utils\n",
    "from sklearn.metrics import adjusted_rand_score, normalized_mutual_info_score\n",
    "from sklearn.cluster import KMeans\n",
    "from sklearn.decomposition import PCA\n",
    "import glob2\n",
    "import scanpy.api as sc\n",
    "import gae_models\n",
    "import graph_utils\n",
    "import seaborn as sns\n",
    "%load_ext autoreload\n",
    "%autoreload 2"
   ]
  },
  {
   "cell_type": "code",
   "execution_count": 2,
   "metadata": {},
   "outputs": [],
   "source": [
    "with open(f'data/params.pickle', 'rb') as handle:\n",
    "    params = pickle.load( handle)\n",
    "    \n",
    "random.seed(params.random_seed)\n",
    "np.random.seed(params.random_seed)\n",
    "torch.manual_seed(params.random_seed)\n",
    "torch.cuda.manual_seed(params.random_seed)\n",
    "\n",
    "device = gnn_utils.get_device()"
   ]
  },
  {
   "cell_type": "code",
   "execution_count": 3,
   "metadata": {},
   "outputs": [
    {
     "name": "stdout",
     "output_type": "stream",
     "text": [
      "['Quake_Smart-seq2_Trachea', 'Quake_Smart-seq2_Diaphragm', 'Quake_10x_Spleen', 'Young', '10X_PBMC_select_2100', 'mouse_ES_cell', 'Adam', 'Quake_10x_Bladder', 'Quake_Smart-seq2_Lung', 'worm_neuron_cell_select_2100', 'Quake_10x_Limb_Muscle', 'worm_neuron_cell', 'mouse_bladder_cell', 'mouse_ES_cell_select_2100', 'Romanov', 'Quake_Smart-seq2_Limb_Muscle', 'Muraro', 'mouse_bladder_cell_select_2100', '10X_PBMC']\n"
     ]
    }
   ],
   "source": [
    "path = \".\"\n",
    "files = glob2.glob(f'{path}/real_data/*.h5')\n",
    "files = [f[len(f\"{path}/real_data/\"):-3] for f in files]\n",
    "print(files)"
   ]
  },
  {
   "cell_type": "code",
   "execution_count": 4,
   "metadata": {},
   "outputs": [
    {
     "data": {
      "text/plain": [
       "['Quake_10x_Spleen',\n",
       " 'Young',\n",
       " 'Adam',\n",
       " 'Quake_Smart-seq2_Diaphragm',\n",
       " 'Quake_Smart-seq2_Trachea',\n",
       " 'Quake_Smart-seq2_Lung',\n",
       " 'Romanov',\n",
       " 'Quake_10x_Limb_Muscle',\n",
       " 'Bach',\n",
       " 'Muraro',\n",
       " 'Quake_10x_Bladder',\n",
       " 'Quake_Smart-seq2_Limb_Muscle']"
      ]
     },
     "execution_count": 4,
     "metadata": {},
     "output_type": "execute_result"
    }
   ],
   "source": [
    "sczi_files = [x for x in os.listdir('../dataset') if x.startswith(\".\")== False]\n",
    "sczi_files"
   ]
  },
  {
   "cell_type": "code",
   "execution_count": 14,
   "metadata": {
    "scrolled": true
   },
   "outputs": [
    {
     "name": "stdout",
     "output_type": "stream",
     "text": [
      ">> Quake_10x_Spleen\n",
      "Quake_10x_Spleen (9552, 23341)\n",
      ">> Young\n",
      "Young (5685, 33658)\n",
      ">> Adam\n",
      "Adam (3660, 23797)\n",
      ">> Quake_Smart-seq2_Diaphragm\n",
      "Quake_Smart-seq2_Diaphragm (870, 23341)\n",
      ">> Quake_Smart-seq2_Trachea\n",
      "Quake_Smart-seq2_Trachea (1350, 23341)\n",
      ">> Quake_Smart-seq2_Lung\n",
      "Quake_Smart-seq2_Lung (1676, 23341)\n",
      ">> Romanov\n",
      "Romanov (2881, 21143)\n",
      ">> Quake_10x_Limb_Muscle\n",
      "Quake_10x_Limb_Muscle (3909, 23341)\n",
      ">> Bach\n",
      "Bach (23184, 19965)\n",
      ">> Muraro\n",
      "Muraro (2122, 19046)\n",
      ">> Quake_10x_Bladder\n",
      "Quake_10x_Bladder (2500, 23341)\n",
      ">> Quake_Smart-seq2_Limb_Muscle\n",
      "Quake_Smart-seq2_Limb_Muscle (1090, 23341)\n"
     ]
    }
   ],
   "source": [
    "for dataset in sczi_files:\n",
    "    print(f\">> {dataset}\")\n",
    "    X, Y, gene_names, cell_names = gnn_utils.get_sczi_data(\"../\", dataset)\n",
    "    cell_names = np.array(cell_names, dtype='S')\n",
    "    gene_names = np.array(gene_names, dtype='S')\n",
    "    dim =X.shape[0]\n",
    "    if X.shape[0] > 20000:\n",
    "        continue\n",
    "\n",
    "    with h5py.File(f\"{path}/real_data/{dataset}.h5\", 'a') as h:\n",
    "        # Create dataset inside HDF5 file to store images\n",
    "        h.create_dataset('X', X.shape, data = X)\n",
    "        h.create_dataset('Y', Y.shape, data = Y)\n",
    "        h.create_dataset('cell_names', cell_names.shape, data = cell_names, dtype= h5py.string_dtype())\n",
    "        h.create_dataset('gene_names', gene_names.shape, data = gene_names, dtype= h5py.string_dtype())\n",
    "    h.close()"
   ]
  },
  {
   "cell_type": "code",
   "execution_count": null,
   "metadata": {},
   "outputs": [],
   "source": [
    "# !ls real_data"
   ]
  },
  {
   "cell_type": "code",
   "execution_count": null,
   "metadata": {},
   "outputs": [],
   "source": []
  }
 ],
 "metadata": {
  "kernelspec": {
   "display_name": "Python 3",
   "language": "python",
   "name": "python3"
  },
  "language_info": {
   "codemirror_mode": {
    "name": "ipython",
    "version": 3
   },
   "file_extension": ".py",
   "mimetype": "text/x-python",
   "name": "python",
   "nbconvert_exporter": "python",
   "pygments_lexer": "ipython3",
   "version": "3.7.4"
  }
 },
 "nbformat": 4,
 "nbformat_minor": 4
}
