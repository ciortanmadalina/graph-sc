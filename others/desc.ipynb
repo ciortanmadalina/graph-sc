{
 "cells": [
  {
   "cell_type": "markdown",
   "metadata": {},
   "source": [
    "# Requires TF2\n",
    "https://github.com/eleozzr/desc/blob/master/desc_2.1.1_paul.ipynb"
   ]
  },
  {
   "cell_type": "code",
   "execution_count": null,
   "metadata": {},
   "outputs": [],
   "source": [
    "!pip install desc"
   ]
  },
  {
   "cell_type": "code",
   "execution_count": null,
   "metadata": {},
   "outputs": [],
   "source": []
  },
  {
   "cell_type": "code",
   "execution_count": null,
   "metadata": {},
   "outputs": [],
   "source": [
    "import sys\n",
    "sys.path.append(\"..\")\n",
    "\n",
    "import matplotlib.pyplot as plt\n",
    "from scziDesk_preprocess import *\n",
    "from scziDesk_network import *\n",
    "from scziDesk_utils import *\n",
    "import argparse\n",
    "from sklearn.metrics import adjusted_rand_score, normalized_mutual_info_score, silhouette_score, calinski_harabasz_score\n",
    "from collections import Counter\n",
    "import glob2\n",
    "import tensorflow as tf\n",
    "import time\n",
    "import desc\n",
    "plt.ion()\n",
    "plt.show()\n",
    "%load_ext autoreload\n",
    "%autoreload 2\n",
    "print(desc.__version__, tf.__version__)"
   ]
  },
  {
   "cell_type": "code",
   "execution_count": null,
   "metadata": {},
   "outputs": [],
   "source": [
    "for category in [ \"real_data\", \"balanced_data\", \"imbalanced_data\"\n",
    "                ]:\n",
    "\n",
    "    path= \"..\"\n",
    "    if category in [\"balanced_data\", \"imbalanced_data\"]:\n",
    "        files = glob2.glob(f'{path}/R/simulated_data/{category}/*.h5')\n",
    "        files = [f[len(f\"{path}/R/simulated_data/{category}/\"):-3] for f in files]\n",
    "    else:\n",
    "        files = glob2.glob(f'{path}/real_data/*.h5')\n",
    "        files = [f[len(f\"{path}/real_data/\"):-3] for f in files]\n",
    "    print(files)\n",
    "\n",
    "    df = pd.DataFrame(columns = [\"dataset\", \"ARI\", \"NMI\", \"sil\", \"run\", \"time\", \"pred\", \"cal\", \"features\"])\n",
    "    for dataset in files:\n",
    "        if category in [\"balanced_data\", \"imbalanced_data\"]:\n",
    "            data_mat = h5py.File(f\"{path}/R/simulated_data/{category}/{dataset}.h5\",\"r\")\n",
    "        else:\n",
    "            data_mat = h5py.File(f\"{path}/real_data/{dataset}.h5\",\"r\")\n",
    "\n",
    "        Y = np.array(data_mat['Y'])\n",
    "        X = np.array(data_mat['X'])\n",
    "        print(f\">>>>dataset {dataset}\")\n",
    "        if X.shape[0] > 10000:\n",
    "            continue\n",
    "\n",
    "        X = np.ceil(X).astype(np.int)\n",
    "        for run in range(3):\n",
    "            start = time.time()\n",
    "            seed = run\n",
    "            np.random.seed(seed)\n",
    "    #         tf.reset_default_graph()\n",
    "            save_dir=\"desc\"\n",
    "            adata = sc.AnnData(X)\n",
    "            adata.obs['Group'] = Y\n",
    "            sc.pp.log1p(adata)\n",
    "            sc.pp.highly_variable_genes(adata,n_top_genes=1000,subset=True,inplace=True)\n",
    "\n",
    "            sc.pp.scale(adata,max_value=6)\n",
    "            adata=desc.train(adata,\n",
    "                    dims=[adata.shape[1],64,32],\n",
    "                    tol=0.005,\n",
    "                    n_neighbors=10,\n",
    "                    batch_size=256,\n",
    "                    louvain_resolution=[1.0],# not necessarily a list, you can only set one value, like, louvain_resolution=1.0\n",
    "                    save_dir=str(save_dir),\n",
    "                    do_tsne=True,\n",
    "                    learning_rate=200, # the parameter of tsne\n",
    "                    use_GPU=True,\n",
    "                    num_Cores=1, #for reproducible, only use 1 cpu\n",
    "                    num_Cores_tsne=4,\n",
    "                    save_encoder_weights=False,\n",
    "                    save_encoder_step=3,# save_encoder_weights is False, this parameter is not used\n",
    "                    use_ae_weights=False,\n",
    "                    do_umap=False)\n",
    "            elapsed = time.time() - start\n",
    "            truth = adata.obs[\"Group\"]\n",
    "            pred = adata.obs[\"desc_1.0\"]\n",
    "            ARI = np.around(adjusted_rand_score(truth, pred), 5)\n",
    "            NMI = np.around(normalized_mutual_info_score(truth, pred), 5)\n",
    "            ss = silhouette_score(adata.obsm['X_Embeded_z1.0'], pred)\n",
    "            cal = calinski_harabasz_score(adata.obsm['X_Embeded_z1.0'],pred)\n",
    "            df.loc[df.shape[0]] = [dataset, ARI, NMI, ss, run, elapsed, pred, cal, adata.obsm['X_Embeded_z1.0']]\n",
    "            df.to_pickle(f\"../output/pickle_results/{category}/{category}_desc.pkl\")\n"
   ]
  },
  {
   "cell_type": "code",
   "execution_count": null,
   "metadata": {},
   "outputs": [],
   "source": []
  }
 ],
 "metadata": {
  "kernelspec": {
   "display_name": "Python 3",
   "language": "python",
   "name": "python3"
  },
  "language_info": {
   "codemirror_mode": {
    "name": "ipython",
    "version": 3
   },
   "file_extension": ".py",
   "mimetype": "text/x-python",
   "name": "python",
   "nbconvert_exporter": "python",
   "pygments_lexer": "ipython3",
   "version": "3.7.4"
  }
 },
 "nbformat": 4,
 "nbformat_minor": 4
}
