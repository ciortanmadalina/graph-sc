{
 "cells": [
  {
   "cell_type": "code",
   "execution_count": 6,
   "metadata": {},
   "outputs": [
    {
     "name": "stdout",
     "output_type": "stream",
     "text": [
      "The autoreload extension is already loaded. To reload it, use:\n",
      "  %reload_ext autoreload\n"
     ]
    }
   ],
   "source": [
    "import sys\n",
    "sys.path.append(\"..\")\n",
    "import matplotlib.pyplot as plt\n",
    "from scziDesk_preprocess import *\n",
    "from scziDesk_network import *\n",
    "from scziDesk_utils import *\n",
    "import argparse\n",
    "from sklearn.metrics import adjusted_rand_score, normalized_mutual_info_score\n",
    "from collections import Counter\n",
    "from sklearn.cluster import KMeans\n",
    "from sklearn.decomposition import PCA\n",
    "import h5py\n",
    "import time\n",
    "from sklearn.metrics import adjusted_rand_score, normalized_mutual_info_score, silhouette_score, calinski_harabasz_score\n",
    "import umap\n",
    "import glob2\n",
    "plt.ion()\n",
    "plt.show()\n",
    "%load_ext autoreload\n",
    "%autoreload 2"
   ]
  },
  {
   "cell_type": "code",
   "execution_count": 7,
   "metadata": {
    "scrolled": false
   },
   "outputs": [
    {
     "name": "stdout",
     "output_type": "stream",
     "text": [
      "['data_1c8', 'data_-1c4', 'data_-1c8', 'data_0c4', 'data_0c8', 'data_0c16', 'data_1.5c4', 'data_1c4', 'data_1.5c8', 'data_1.5c16', 'data_-1c16', 'data_1c16']\n",
      ">>>>dataset data_1c8\n",
      ">>>>dataset data_-1c4\n",
      ">>>>dataset data_-1c8\n",
      ">>>>dataset data_0c4\n",
      ">>>>dataset data_0c8\n",
      ">>>>dataset data_0c16\n",
      ">>>>dataset data_1.5c4\n",
      ">>>>dataset data_1c4\n",
      ">>>>dataset data_1.5c8\n",
      ">>>>dataset data_1.5c16\n",
      ">>>>dataset data_-1c16\n",
      ">>>>dataset data_1c16\n",
      "['data_1c8', 'data_-1c4', 'data_-1c8', 'data_0c4', 'data_0c8', 'data_0c16', 'data_1.5c4', 'data_1c4', 'data_1.5c8', 'data_1.5c16', 'data_-1c16', 'data_1c16']\n",
      ">>>>dataset data_1c8\n",
      ">>>>dataset data_-1c4\n",
      ">>>>dataset data_-1c8\n",
      ">>>>dataset data_0c4\n",
      ">>>>dataset data_0c8\n",
      ">>>>dataset data_0c16\n",
      ">>>>dataset data_1.5c4\n",
      ">>>>dataset data_1c4\n",
      ">>>>dataset data_1.5c8\n",
      ">>>>dataset data_1.5c16\n",
      ">>>>dataset data_-1c16\n",
      ">>>>dataset data_1c16\n"
     ]
    }
   ],
   "source": [
    "for category in [ \"balanced_data\", \"imbalanced_data\",#\"real_data\", # \n",
    "                ]:\n",
    "\n",
    "    path= \"..\"\n",
    "    if category in [\"balanced_data\", \"imbalanced_data\"]:\n",
    "        files = glob2.glob(f'{path}/R/simulated_data/{category}/*.h5')\n",
    "        files = [f[len(f\"{path}/R/simulated_data/{category}/\"):-3] for f in files]\n",
    "    else:\n",
    "        files = glob2.glob(f'{path}/real_data/*.h5')\n",
    "        files = [f[len(f\"{path}/real_data/\"):-3] for f in files]\n",
    "    print(files)\n",
    "\n",
    "    df = pd.DataFrame(columns = [\"dataset\", \"ARI\", \"NMI\", \"sil\", \"run\", \"time\", \"pred\", \"cal\"])\n",
    "    for dataset in files:\n",
    "        if category in [\"balanced_data\", \"imbalanced_data\"]:\n",
    "            data_mat = h5py.File(f\"{path}/R/simulated_data/{category}/{dataset}.h5\",\"r\")\n",
    "        else:\n",
    "            data_mat = h5py.File(f\"{path}/real_data/{dataset}.h5\",\"r\")\n",
    "\n",
    "        Y = np.array(data_mat['Y'])\n",
    "        X = np.array(data_mat['X'])\n",
    "        print(f\">>>>dataset {dataset}\")\n",
    "        if X.shape[0] > 10000:\n",
    "            continue\n",
    "        n_clusters =  np.unique(Y).shape[0]\n",
    "\n",
    "        X = np.ceil(X).astype(np.int)\n",
    "        orig_X = X.copy()\n",
    "        adata = sc.AnnData(X)\n",
    "        adata.obs['Group'] = Y\n",
    "\n",
    "        adata = sc.AnnData(X)\n",
    "        adata.obs['Group'] = Y\n",
    "        adata = normalize(adata,\n",
    "                          copy=True,\n",
    "                          highly_genes=500,\n",
    "                          size_factors=True,\n",
    "                          normalize_input=True,\n",
    "                          logtrans_input=True)\n",
    "        X = adata.X.astype(np.float32)\n",
    "        Y = np.array(adata.obs[\"Group\"])\n",
    "\n",
    "        for run in range(3):\n",
    "            start = time.time()\n",
    "            seed = run\n",
    "            np.random.seed(seed)\n",
    "#             pca_data = PCA(50, random_state = seed).fit_transform(X)\n",
    "            pca_data = umap.UMAP(n_components = 50).fit_transform(X)\n",
    "            kmeans = KMeans(n_clusters=n_clusters, init=\"k-means++\", random_state=seed)\n",
    "            pred = kmeans.fit_predict(pca_data)\n",
    "\n",
    "            elapsed = time.time() - start\n",
    "            ARI = adjusted_rand_score(Y, pred)\n",
    "            NMI = np.around(normalized_mutual_info_score(Y, pred), 5)\n",
    "            ss = silhouette_score(pca_data,pred)\n",
    "            cal = calinski_harabasz_score(pca_data, pred)\n",
    "\n",
    "            df.loc[df.shape[0]] = [\n",
    "                dataset, ARI, NMI, ss, run, elapsed, pred, cal\n",
    "            ]\n",
    "            df.to_pickle(f\"../output/pickle_results/{category}/{category}_umap50_kmeans_scaling.pkl\")"
   ]
  },
  {
   "cell_type": "code",
   "execution_count": 3,
   "metadata": {},
   "outputs": [
    {
     "data": {
      "text/plain": [
       "ARI        0.539500\n",
       "NMI        0.622640\n",
       "sil        0.497711\n",
       "run        1.000000\n",
       "time      11.466476\n",
       "cal     9577.624829\n",
       "dtype: float64"
      ]
     },
     "execution_count": 3,
     "metadata": {},
     "output_type": "execute_result"
    }
   ],
   "source": [
    "df.mean()"
   ]
  },
  {
   "cell_type": "code",
   "execution_count": null,
   "metadata": {},
   "outputs": [],
   "source": [
    "df.groupby(\"dataset\").mean()"
   ]
  },
  {
   "cell_type": "code",
   "execution_count": 4,
   "metadata": {},
   "outputs": [],
   "source": [
    "df = pd.read_pickle(f\"../output/pickle_results/{category}/{category}_umap_kmeans_scaling.pkl\")"
   ]
  },
  {
   "cell_type": "code",
   "execution_count": 5,
   "metadata": {},
   "outputs": [
    {
     "data": {
      "text/plain": [
       "ARI         0.480101\n",
       "NMI         0.584534\n",
       "sil         0.511592\n",
       "run         1.000000\n",
       "time       10.884711\n",
       "cal     11577.115900\n",
       "dtype: float64"
      ]
     },
     "execution_count": 5,
     "metadata": {},
     "output_type": "execute_result"
    }
   ],
   "source": [
    "df.mean()"
   ]
  },
  {
   "cell_type": "code",
   "execution_count": null,
   "metadata": {},
   "outputs": [],
   "source": []
  },
  {
   "cell_type": "code",
   "execution_count": null,
   "metadata": {},
   "outputs": [],
   "source": []
  },
  {
   "cell_type": "code",
   "execution_count": null,
   "metadata": {},
   "outputs": [],
   "source": []
  }
 ],
 "metadata": {
  "kernelspec": {
   "display_name": "Python 3",
   "language": "python",
   "name": "python3"
  },
  "language_info": {
   "codemirror_mode": {
    "name": "ipython",
    "version": 3
   },
   "file_extension": ".py",
   "mimetype": "text/x-python",
   "name": "python",
   "nbconvert_exporter": "python",
   "pygments_lexer": "ipython3",
   "version": "3.7.4"
  }
 },
 "nbformat": 4,
 "nbformat_minor": 4
}
