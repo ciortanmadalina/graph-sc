{
 "cells": [
  {
   "cell_type": "markdown",
   "metadata": {},
   "source": [
    "# https://github.com/nicococo/scRNA\n",
    "https://github.com/nicococo/scRNA/blob/master/notebooks/example.ipynb"
   ]
  },
  {
   "cell_type": "code",
   "execution_count": 1,
   "metadata": {},
   "outputs": [],
   "source": [
    "# ! pip install git+https://github.com/nicococo/scRNA.git"
   ]
  },
  {
   "cell_type": "code",
   "execution_count": null,
   "metadata": {},
   "outputs": [
    {
     "name": "stderr",
     "output_type": "stream",
     "text": [
      "/opt/conda/lib/python3.7/site-packages/scanpy/api/__init__.py:7: FutureWarning: \n",
      "\n",
      "In a future version of Scanpy, `scanpy.api` will be removed.\n",
      "Simply use `import scanpy as sc` and `import scanpy.external as sce` instead.\n",
      "\n",
      "  FutureWarning,\n",
      "Using TensorFlow backend.\n"
     ]
    }
   ],
   "source": [
    "import sys\n",
    "sys.path.append(\"..\")\n",
    "\n",
    "import matplotlib.pyplot as plt\n",
    "from scziDesk_preprocess import *\n",
    "from scziDesk_network import *\n",
    "from scziDesk_utils import *\n",
    "import argparse\n",
    "from sklearn.metrics import adjusted_rand_score, normalized_mutual_info_score,silhouette_score, calinski_harabasz_score\n",
    "from collections import Counter\n",
    "import glob2\n",
    "import tensorflow as tf\n",
    "import h5py\n",
    "\n",
    "import time\n",
    "from scRNA.nmf_clustering import NmfClustering_initW, NmfClustering, DaNmfClustering\n",
    "from scRNA.sc3_clustering_impl import data_transformation_log2, cell_filter, gene_filter\n",
    "from scRNA.simulation import generate_toy_data, split_source_target\n",
    "plt.ion()\n",
    "plt.show()\n",
    "%load_ext autoreload\n",
    "%autoreload 2\n"
   ]
  },
  {
   "cell_type": "code",
   "execution_count": 5,
   "metadata": {},
   "outputs": [
    {
     "name": "stdout",
     "output_type": "stream",
     "text": [
      "['Quake_Smart-seq2_Trachea', 'Quake_Smart-seq2_Diaphragm', 'Quake_10x_Spleen', 'Young', 'mouse_ES_cell', 'Adam', 'Quake_10x_Bladder', 'Quake_Smart-seq2_Lung', 'Quake_10x_Limb_Muscle', 'worm_neuron_cell', 'mouse_bladder_cell', 'Romanov', 'Quake_Smart-seq2_Limb_Muscle', 'Muraro', '10X_PBMC']\n",
      ">>>>dataset Quake_Smart-seq2_Trachea\n",
      ">>>>dataset Quake_Smart-seq2_Diaphragm\n",
      ">>>>dataset Quake_10x_Spleen\n",
      ">>>>dataset Young\n",
      ">>>>dataset mouse_ES_cell\n",
      ">>>>dataset Adam\n",
      ">>>>dataset Quake_10x_Bladder\n",
      ">>>>dataset Quake_Smart-seq2_Lung\n",
      ">>>>dataset Quake_10x_Limb_Muscle\n",
      ">>>>dataset worm_neuron_cell\n",
      ">>>>dataset mouse_bladder_cell\n",
      ">>>>dataset Romanov\n",
      ">>>>dataset Quake_Smart-seq2_Limb_Muscle\n",
      ">>>>dataset Muraro\n",
      ">>>>dataset 10X_PBMC\n",
      "['data_1c8', 'data_-1c4', 'data_-1c8', 'data_0c4', 'data_0c8', 'data_0c16', 'data_1.5c4', 'data_1c4', 'data_1.5c8', 'data_1.5c16', 'data_-1c16', 'data_1c16']\n",
      ">>>>dataset data_1c8\n",
      ">>>>dataset data_-1c4\n",
      ">>>>dataset data_-1c8\n",
      ">>>>dataset data_0c4\n",
      ">>>>dataset data_0c8\n",
      ">>>>dataset data_0c16\n",
      ">>>>dataset data_1.5c4\n",
      ">>>>dataset data_1c4\n",
      ">>>>dataset data_1.5c8\n",
      ">>>>dataset data_1.5c16\n",
      ">>>>dataset data_-1c16\n",
      ">>>>dataset data_1c16\n",
      "['data_1c8', 'data_-1c4', 'data_-1c8', 'data_0c4', 'data_0c8', 'data_0c16', 'data_1.5c4', 'data_1c4', 'data_1.5c8', 'data_1.5c16', 'data_-1c16', 'data_1c16']\n",
      ">>>>dataset data_1c8\n",
      ">>>>dataset data_-1c4\n",
      ">>>>dataset data_-1c8\n",
      ">>>>dataset data_0c4\n",
      ">>>>dataset data_0c8\n",
      ">>>>dataset data_0c16\n",
      ">>>>dataset data_1.5c4\n",
      ">>>>dataset data_1c4\n",
      ">>>>dataset data_1.5c8\n",
      ">>>>dataset data_1.5c16\n",
      ">>>>dataset data_-1c16\n",
      ">>>>dataset data_1c16\n"
     ]
    }
   ],
   "source": [
    "# category = \"real_data\"\n",
    "for category in [\n",
    "        \"real_data\",  \"balanced_data\", \"imbalanced_data\",\n",
    "]:\n",
    "\n",
    "    path = \"..\"\n",
    "    if category in [\"balanced_data\", \"imbalanced_data\"]:\n",
    "        files = glob2.glob(f'{path}/R/simulated_data/{category}/*.h5')\n",
    "        files = [\n",
    "            f[len(f\"{path}/R/simulated_data/{category}/\"):-3] for f in files\n",
    "        ]\n",
    "    else:\n",
    "        files = glob2.glob(f'{path}/real_data/*.h5')\n",
    "        files = [f[len(f\"{path}/real_data/\"):-3] for f in files]\n",
    "    print(files)\n",
    "\n",
    "    df = pd.DataFrame(\n",
    "        columns=[\"dataset\", \"ARI\", \"NMI\", \"sil\", \"run\", \"time\", \"pred\", \"cal\"])\n",
    "    for dataset in files:\n",
    "        if category in [\"balanced_data\", \"imbalanced_data\"]:\n",
    "            data_mat = h5py.File(\n",
    "                f\"{path}/R/simulated_data/{category}/{dataset}.h5\", \"r\")\n",
    "        else:\n",
    "            data_mat = h5py.File(f\"{path}/real_data/{dataset}.h5\", \"r\")\n",
    "\n",
    "        Y = np.array(data_mat['Y'])\n",
    "        X = np.array(data_mat['X'])\n",
    "        print(f\">>>>dataset {dataset}\")\n",
    "        if X.shape[0] > 10000:\n",
    "            continue\n",
    "\n",
    "        X = np.ceil(X).astype(np.int)\n",
    "\n",
    "        for run in range(3):\n",
    "            start = time.time()\n",
    "            seed = run\n",
    "            np.random.seed(seed)\n",
    "\n",
    "            np.random.seed(run)\n",
    "            nmf = NmfClustering(X.T.copy(),\n",
    "                                np.arange(X.shape[1]),\n",
    "                                labels=None,\n",
    "                                num_cluster=np.unique(Y).shape[0])\n",
    "            nmf.apply(alpha=1., l1=0.75, rel_err=1e-8)\n",
    "            elapsed = time.time() - start\n",
    "            ARI = adjusted_rand_score(Y, nmf.cluster_labels)\n",
    "            NMI = np.around(\n",
    "                normalized_mutual_info_score(Y, nmf.cluster_labels), 5)\n",
    "            ss = silhouette_score(nmf.data_matrix.T, nmf.cluster_labels)\n",
    "            cal = calinski_harabasz_score(nmf.data_matrix.T,nmf.cluster_labels)\n",
    "\n",
    "\n",
    "            df.loc[df.shape[0]] = [\n",
    "                dataset, ARI, NMI, ss, run, elapsed, nmf.cluster_labels, cal\n",
    "            ]\n",
    "            df.to_pickle(\n",
    "                f\"../output/pickle_results/{category}/{category}_scrna.pkl\")\n"
   ]
  },
  {
   "cell_type": "code",
   "execution_count": null,
   "metadata": {},
   "outputs": [],
   "source": []
  }
 ],
 "metadata": {
  "kernelspec": {
   "display_name": "Python 3",
   "language": "python",
   "name": "python3"
  },
  "language_info": {
   "codemirror_mode": {
    "name": "ipython",
    "version": 3
   },
   "file_extension": ".py",
   "mimetype": "text/x-python",
   "name": "python",
   "nbconvert_exporter": "python",
   "pygments_lexer": "ipython3",
   "version": "3.7.4"
  }
 },
 "nbformat": 4,
 "nbformat_minor": 4
}
