{
 "cells": [
  {
   "cell_type": "markdown",
   "metadata": {},
   "source": [
    "# https://scedar.readthedocs.io/en/latest/notebooks/mb3k-demo.html"
   ]
  },
  {
   "cell_type": "code",
   "execution_count": null,
   "metadata": {},
   "outputs": [],
   "source": [
    "# !pip install scedar"
   ]
  },
  {
   "cell_type": "code",
   "execution_count": 2,
   "metadata": {},
   "outputs": [],
   "source": [
    "import sys\n",
    "sys.path.append(\"..\")\n",
    "\n",
    "import matplotlib.pyplot as plt\n",
    "from sklearn.metrics import adjusted_rand_score, normalized_mutual_info_score,silhouette_score, calinski_harabasz_score\n",
    "from collections import Counter\n",
    "import glob2\n",
    "import scedar as sce\n",
    "import pandas as pd\n",
    "import numpy as np\n",
    "import h5py\n",
    "import time\n",
    "import os\n",
    "plt.ion()\n",
    "plt.show()\n",
    "%load_ext autoreload\n",
    "%autoreload 2\n"
   ]
  },
  {
   "cell_type": "code",
   "execution_count": null,
   "metadata": {},
   "outputs": [],
   "source": []
  },
  {
   "cell_type": "code",
   "execution_count": 3,
   "metadata": {},
   "outputs": [
    {
     "name": "stdout",
     "output_type": "stream",
     "text": [
      "['data_1c8', 'data_-1c4', 'data_-1c8', 'data_0c4', 'data_0c8', 'data_0c16', 'data_1.5c4', 'data_1c4', 'data_1.5c8', 'data_1.5c16', 'data_-1c16', 'data_1c16']\n",
      ">>>>dataset data_1c8\n",
      ">>>>dataset data_-1c4\n",
      ">>>>dataset data_-1c8\n",
      ">>>>dataset data_0c4\n",
      ">>>>dataset data_0c8\n",
      ">>>>dataset data_0c16\n",
      ">>>>dataset data_1.5c4\n",
      ">>>>dataset data_1c4\n",
      ">>>>dataset data_1.5c8\n",
      ">>>>dataset data_1.5c16\n",
      ">>>>dataset data_-1c16\n",
      ">>>>dataset data_1c16\n",
      "['data_1c8', 'data_-1c4', 'data_-1c8', 'data_0c4', 'data_0c8', 'data_0c16', 'data_1.5c4', 'data_1c4', 'data_1.5c8', 'data_1.5c16', 'data_-1c16', 'data_1c16']\n",
      ">>>>dataset data_1c8\n",
      ">>>>dataset data_-1c4\n",
      ">>>>dataset data_-1c8\n",
      ">>>>dataset data_0c4\n",
      ">>>>dataset data_0c8\n",
      ">>>>dataset data_0c16\n",
      ">>>>dataset data_1.5c4\n",
      ">>>>dataset data_1c4\n",
      ">>>>dataset data_1.5c8\n",
      ">>>>dataset data_1.5c16\n",
      ">>>>dataset data_-1c16\n",
      ">>>>dataset data_1c16\n",
      "['Quake_Smart-seq2_Trachea', 'Quake_Smart-seq2_Diaphragm', 'Quake_10x_Spleen', 'Young', 'mouse_ES_cell', 'Adam', 'Quake_10x_Bladder', 'Quake_Smart-seq2_Lung', 'Quake_10x_Limb_Muscle', 'worm_neuron_cell', 'mouse_bladder_cell', 'Romanov', 'Quake_Smart-seq2_Limb_Muscle', 'Muraro', '10X_PBMC']\n",
      ">>>>dataset Quake_Smart-seq2_Trachea\n",
      ">>>>dataset Quake_Smart-seq2_Diaphragm\n",
      ">>>>dataset Quake_10x_Spleen\n",
      ">>>>dataset Young\n",
      ">>>>dataset mouse_ES_cell\n",
      ">>>>dataset Adam\n",
      ">>>>dataset Quake_10x_Bladder\n",
      ">>>>dataset Quake_Smart-seq2_Lung\n",
      ">>>>dataset Quake_10x_Limb_Muscle\n",
      ">>>>dataset worm_neuron_cell\n",
      ">>>>dataset mouse_bladder_cell\n",
      ">>>>dataset Romanov\n",
      ">>>>dataset Quake_Smart-seq2_Limb_Muscle\n",
      ">>>>dataset Muraro\n",
      ">>>>dataset 10X_PBMC\n"
     ]
    }
   ],
   "source": [
    "for category in [\"balanced_data\", \"imbalanced_data\", \"real_data\"\n",
    "                ]:\n",
    "\n",
    "    path= \"..\"\n",
    "    if category in [\"balanced_data\", \"imbalanced_data\"]:\n",
    "        files = glob2.glob(f'{path}/R/simulated_data/{category}/*.h5')\n",
    "        files = [f[len(f\"{path}/R/simulated_data/{category}/\"):-3] for f in files]\n",
    "    else:\n",
    "        files = glob2.glob(f'{path}/real_data/*.h5')\n",
    "        files = [f[len(f\"{path}/real_data/\"):-3] for f in files]\n",
    "    print(files)\n",
    "\n",
    "    df = pd.DataFrame(columns = [\"dataset\", \"ARI\", \"NMI\", \"sil\", \"run\", \"time\", \"pred\", \"cal\"])\n",
    "    for dataset in files:\n",
    "        if category in [\"balanced_data\", \"imbalanced_data\"]:\n",
    "            data_mat = h5py.File(f\"{path}/R/simulated_data/{category}/{dataset}.h5\",\"r\")\n",
    "        else:\n",
    "            data_mat = h5py.File(f\"{path}/real_data/{dataset}.h5\",\"r\")\n",
    "\n",
    "        Y = np.array(data_mat['Y'])\n",
    "        X = np.array(data_mat['X'])\n",
    "        print(f\">>>>dataset {dataset}\")\n",
    "        if X.shape[0] > 10000:\n",
    "            continue\n",
    "\n",
    "        X = np.ceil(X).astype(np.int)\n",
    "\n",
    "        for run in range(3):\n",
    "            start = time.time()\n",
    "            seed = run\n",
    "            np.random.seed(seed)\n",
    "            sdm = sce.eda.SampleDistanceMatrix(X, metric = 'cosine', nprocs = 25)\n",
    "\n",
    "            tsne_x = sdm.tsne(perplexity=30, n_iter=3000, random_state=run)\n",
    "\n",
    "            mirac_res = sce.cluster.MIRAC(sdm._last_tsne, metric='euclidean',\n",
    "                linkage='ward', min_cl_n=25,\n",
    "                min_split_mdl_red_ratio=0.00,\n",
    "                optimal_ordering=False,\n",
    "                cl_mdl_scale_factor=0.80, verbose=False)\n",
    "\n",
    "            pred = np.array(mirac_res.labs)\n",
    "            elapsed = time.time() - start\n",
    "            ARI = np.around(adjusted_rand_score(Y, pred), 5)\n",
    "            NMI = np.around(normalized_mutual_info_score(Y, pred), 5)\n",
    "            ss = silhouette_score(sdm._last_tsne, pred)\n",
    "            cal = calinski_harabasz_score(sdm._last_tsne, pred)\n",
    "\n",
    "            df.loc[df.shape[0]] = [dataset, ARI, NMI, ss, run, elapsed, pred, cal]\n",
    "            df.to_pickle(f\"../output/pickle_results/{category}/{category}_scedar.pkl\")"
   ]
  },
  {
   "cell_type": "code",
   "execution_count": null,
   "metadata": {},
   "outputs": [],
   "source": [
    "df.groupby(\"dataset\").mean()"
   ]
  },
  {
   "cell_type": "code",
   "execution_count": null,
   "metadata": {},
   "outputs": [],
   "source": []
  },
  {
   "cell_type": "code",
   "execution_count": null,
   "metadata": {},
   "outputs": [],
   "source": []
  },
  {
   "cell_type": "code",
   "execution_count": null,
   "metadata": {},
   "outputs": [],
   "source": []
  }
 ],
 "metadata": {
  "kernelspec": {
   "display_name": "Python 3",
   "language": "python",
   "name": "python3"
  },
  "language_info": {
   "codemirror_mode": {
    "name": "ipython",
    "version": 3
   },
   "file_extension": ".py",
   "mimetype": "text/x-python",
   "name": "python",
   "nbconvert_exporter": "python",
   "pygments_lexer": "ipython3",
   "version": "3.7.4"
  }
 },
 "nbformat": 4,
 "nbformat_minor": 4
}
